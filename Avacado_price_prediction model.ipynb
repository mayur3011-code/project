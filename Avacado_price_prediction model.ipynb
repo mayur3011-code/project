{
 "cells": [
  {
   "cell_type": "markdown",
   "metadata": {},
   "source": [
    "### Evaluation Project -2"
   ]
  },
  {
   "cell_type": "raw",
   "metadata": {},
   "source": [
    "Problem Statement:\n",
    "Avocado is a fruit consumed by people heavily in the United States. "
   ]
  },
  {
   "cell_type": "raw",
   "metadata": {},
   "source": [
    "The table below represents weekly 2018 retail scan data for National retail volume (units) and price. Retail scan data comes directly from retailers’ cash registers based on actual retail sales of Hass avocado"
   ]
  },
  {
   "cell_type": "raw",
   "metadata": {},
   "source": [
    "Starting in 2013, the table below reflects an expanded, multi-outlet retail data set. Multi-outlet reporting includes an aggregation of the following channels: grocery, mass, club, drug, dollar and military. The Average Price (of avocados) in the table reflects a per unit (per avocado) cost, even when multiple units (avocados) are sold in bags. "
   ]
  },
  {
   "cell_type": "raw",
   "metadata": {},
   "source": [
    "The Product Lookup codes (PLU’s) in the table are only for Hass avocados. Other varieties of avocados (e.g. greenskins) are not included in this table.\n",
    "\n"
   ]
  },
  {
   "cell_type": "raw",
   "metadata": {},
   "source": [
    "Some relevant columns in the dataset:\n",
    "\n",
    "Date - The date of the observation\n",
    "AveragePrice - the average price of a single avocado\n",
    "type - conventional or organic\n",
    "year - the year\n",
    "Region - the city or region of the observation\n",
    "Total Volume - Total number of avocados sold\n",
    "4046 - Total number of avocados with PLU 4046 sold\n",
    "4225 - Total number of avocados with PLU 4225 sold\n",
    "4770 - Total number of avocados with PLU 4770 sold"
   ]
  },
  {
   "cell_type": "raw",
   "metadata": {},
   "source": [
    "Inspiration /Label \n",
    "\n",
    "The dataset can be seen in two angles to find the region and find the average price .\n",
    "\n",
    "Task: One of Classification and other of Regression"
   ]
  },
  {
   "cell_type": "markdown",
   "metadata": {},
   "source": [
    "## Importing Libraries"
   ]
  },
  {
   "cell_type": "code",
   "execution_count": 1,
   "metadata": {},
   "outputs": [],
   "source": [
    "import pandas as pd\n",
    "import numpy as np\n",
    "from sklearn import linear_model\n",
    "from sklearn.preprocessing import StandardScaler\n",
    "import matplotlib.pyplot as plt\n",
    "import seaborn as sns\n",
    "%matplotlib inline\n",
    "import statistics as stat\n",
    "import math\n",
    "import warnings\n",
    "warnings.filterwarnings(\"ignore\")"
   ]
  },
  {
   "cell_type": "markdown",
   "metadata": {},
   "source": [
    "## Importing dataset "
   ]
  },
  {
   "cell_type": "code",
   "execution_count": 11,
   "metadata": {},
   "outputs": [],
   "source": [
    "df=pd.read_csv(r'https://raw.githubusercontent.com/dsrscientist/Data-Science-ML-Capstone-Projects/master/avocado.csv')"
   ]
  },
  {
   "cell_type": "code",
   "execution_count": 12,
   "metadata": {},
   "outputs": [
    {
     "data": {
      "text/html": [
       "<div>\n",
       "<style scoped>\n",
       "    .dataframe tbody tr th:only-of-type {\n",
       "        vertical-align: middle;\n",
       "    }\n",
       "\n",
       "    .dataframe tbody tr th {\n",
       "        vertical-align: top;\n",
       "    }\n",
       "\n",
       "    .dataframe thead th {\n",
       "        text-align: right;\n",
       "    }\n",
       "</style>\n",
       "<table border=\"1\" class=\"dataframe\">\n",
       "  <thead>\n",
       "    <tr style=\"text-align: right;\">\n",
       "      <th></th>\n",
       "      <th>Unnamed: 0</th>\n",
       "      <th>Date</th>\n",
       "      <th>AveragePrice</th>\n",
       "      <th>Total Volume</th>\n",
       "      <th>4046</th>\n",
       "      <th>4225</th>\n",
       "      <th>4770</th>\n",
       "      <th>Total Bags</th>\n",
       "      <th>Small Bags</th>\n",
       "      <th>Large Bags</th>\n",
       "      <th>XLarge Bags</th>\n",
       "      <th>type</th>\n",
       "      <th>year</th>\n",
       "      <th>region</th>\n",
       "    </tr>\n",
       "  </thead>\n",
       "  <tbody>\n",
       "    <tr>\n",
       "      <th>0</th>\n",
       "      <td>0.0</td>\n",
       "      <td>27-12-2015</td>\n",
       "      <td>1.33</td>\n",
       "      <td>64236.62</td>\n",
       "      <td>1036.74</td>\n",
       "      <td>54454.85</td>\n",
       "      <td>48.16</td>\n",
       "      <td>8696.87</td>\n",
       "      <td>8603.62</td>\n",
       "      <td>93.25</td>\n",
       "      <td>0.0</td>\n",
       "      <td>conventional</td>\n",
       "      <td>2015.0</td>\n",
       "      <td>Albany</td>\n",
       "    </tr>\n",
       "    <tr>\n",
       "      <th>1</th>\n",
       "      <td>1.0</td>\n",
       "      <td>20-12-2015</td>\n",
       "      <td>1.35</td>\n",
       "      <td>54876.98</td>\n",
       "      <td>674.28</td>\n",
       "      <td>44638.81</td>\n",
       "      <td>58.33</td>\n",
       "      <td>9505.56</td>\n",
       "      <td>9408.07</td>\n",
       "      <td>97.49</td>\n",
       "      <td>0.0</td>\n",
       "      <td>conventional</td>\n",
       "      <td>2015.0</td>\n",
       "      <td>Albany</td>\n",
       "    </tr>\n",
       "    <tr>\n",
       "      <th>2</th>\n",
       "      <td>2.0</td>\n",
       "      <td>13-12-2015</td>\n",
       "      <td>0.93</td>\n",
       "      <td>118220.22</td>\n",
       "      <td>794.70</td>\n",
       "      <td>109149.67</td>\n",
       "      <td>130.50</td>\n",
       "      <td>8145.35</td>\n",
       "      <td>8042.21</td>\n",
       "      <td>103.14</td>\n",
       "      <td>0.0</td>\n",
       "      <td>conventional</td>\n",
       "      <td>2015.0</td>\n",
       "      <td>Albany</td>\n",
       "    </tr>\n",
       "  </tbody>\n",
       "</table>\n",
       "</div>"
      ],
      "text/plain": [
       "   Unnamed: 0        Date  AveragePrice  Total Volume     4046       4225  \\\n",
       "0         0.0  27-12-2015          1.33      64236.62  1036.74   54454.85   \n",
       "1         1.0  20-12-2015          1.35      54876.98   674.28   44638.81   \n",
       "2         2.0  13-12-2015          0.93     118220.22   794.70  109149.67   \n",
       "\n",
       "     4770  Total Bags  Small Bags  Large Bags  XLarge Bags          type  \\\n",
       "0   48.16     8696.87     8603.62       93.25          0.0  conventional   \n",
       "1   58.33     9505.56     9408.07       97.49          0.0  conventional   \n",
       "2  130.50     8145.35     8042.21      103.14          0.0  conventional   \n",
       "\n",
       "     year  region  \n",
       "0  2015.0  Albany  \n",
       "1  2015.0  Albany  \n",
       "2  2015.0  Albany  "
      ]
     },
     "execution_count": 12,
     "metadata": {},
     "output_type": "execute_result"
    }
   ],
   "source": [
    "df.head(3)"
   ]
  },
  {
   "cell_type": "code",
   "execution_count": 13,
   "metadata": {},
   "outputs": [
    {
     "data": {
      "text/plain": [
       "Index(['Unnamed: 0', 'Date', 'AveragePrice', 'Total Volume', '4046', '4225',\n",
       "       '4770', 'Total Bags', 'Small Bags', 'Large Bags', 'XLarge Bags', 'type',\n",
       "       'year', 'region'],\n",
       "      dtype='object')"
      ]
     },
     "execution_count": 13,
     "metadata": {},
     "output_type": "execute_result"
    }
   ],
   "source": [
    "# checking the column names\n",
    "df.columns"
   ]
  },
  {
   "cell_type": "code",
   "execution_count": 14,
   "metadata": {},
   "outputs": [],
   "source": [
    "# Unnamed columns contains the serial no which is not required for analysis, hence dropping the unnamed column\n",
    "df.drop('Unnamed: 0',axis=1,inplace=True)"
   ]
  },
  {
   "cell_type": "code",
   "execution_count": 16,
   "metadata": {},
   "outputs": [
    {
     "data": {
      "text/html": [
       "<div>\n",
       "<style scoped>\n",
       "    .dataframe tbody tr th:only-of-type {\n",
       "        vertical-align: middle;\n",
       "    }\n",
       "\n",
       "    .dataframe tbody tr th {\n",
       "        vertical-align: top;\n",
       "    }\n",
       "\n",
       "    .dataframe thead th {\n",
       "        text-align: right;\n",
       "    }\n",
       "</style>\n",
       "<table border=\"1\" class=\"dataframe\">\n",
       "  <thead>\n",
       "    <tr style=\"text-align: right;\">\n",
       "      <th></th>\n",
       "      <th>Date</th>\n",
       "      <th>AveragePrice</th>\n",
       "      <th>Total Volume</th>\n",
       "      <th>4046</th>\n",
       "      <th>4225</th>\n",
       "      <th>4770</th>\n",
       "      <th>Total Bags</th>\n",
       "      <th>Small Bags</th>\n",
       "      <th>Large Bags</th>\n",
       "      <th>XLarge Bags</th>\n",
       "      <th>type</th>\n",
       "      <th>year</th>\n",
       "      <th>region</th>\n",
       "    </tr>\n",
       "  </thead>\n",
       "  <tbody>\n",
       "    <tr>\n",
       "      <th>0</th>\n",
       "      <td>27-12-2015</td>\n",
       "      <td>1.33</td>\n",
       "      <td>64236.62</td>\n",
       "      <td>1036.74</td>\n",
       "      <td>54454.85</td>\n",
       "      <td>48.16</td>\n",
       "      <td>8696.87</td>\n",
       "      <td>8603.62</td>\n",
       "      <td>93.25</td>\n",
       "      <td>0.0</td>\n",
       "      <td>conventional</td>\n",
       "      <td>2015.0</td>\n",
       "      <td>Albany</td>\n",
       "    </tr>\n",
       "  </tbody>\n",
       "</table>\n",
       "</div>"
      ],
      "text/plain": [
       "         Date  AveragePrice  Total Volume     4046      4225   4770  \\\n",
       "0  27-12-2015          1.33      64236.62  1036.74  54454.85  48.16   \n",
       "\n",
       "   Total Bags  Small Bags  Large Bags  XLarge Bags          type    year  \\\n",
       "0     8696.87     8603.62       93.25          0.0  conventional  2015.0   \n",
       "\n",
       "   region  \n",
       "0  Albany  "
      ]
     },
     "execution_count": 16,
     "metadata": {},
     "output_type": "execute_result"
    }
   ],
   "source": [
    "df.head(1)"
   ]
  },
  {
   "cell_type": "code",
   "execution_count": 17,
   "metadata": {},
   "outputs": [
    {
     "data": {
      "text/plain": [
       "(16468, 13)"
      ]
     },
     "execution_count": 17,
     "metadata": {},
     "output_type": "execute_result"
    }
   ],
   "source": [
    "# Checking for the shape of the dataset\n",
    "df.shape"
   ]
  },
  {
   "cell_type": "code",
   "execution_count": 18,
   "metadata": {},
   "outputs": [],
   "source": [
    "# weremain with 16468 rows and 13 columns"
   ]
  },
  {
   "cell_type": "code",
   "execution_count": 20,
   "metadata": {},
   "outputs": [
    {
     "data": {
      "text/plain": [
       "Date            14951\n",
       "AveragePrice    14951\n",
       "Total Volume    14951\n",
       "4046            14951\n",
       "4225            14951\n",
       "4770            14951\n",
       "Total Bags      14951\n",
       "Small Bags      14951\n",
       "Large Bags      14951\n",
       "XLarge Bags     14951\n",
       "type            14951\n",
       "year            14951\n",
       "region          14951\n",
       "dtype: int64"
      ]
     },
     "execution_count": 20,
     "metadata": {},
     "output_type": "execute_result"
    }
   ],
   "source": [
    "# Checking for the null values\n",
    "df.isnull().sum()"
   ]
  },
  {
   "cell_type": "code",
   "execution_count": 21,
   "metadata": {},
   "outputs": [],
   "source": [
    "# we have 14951 null values in the dataset"
   ]
  },
  {
   "cell_type": "code",
   "execution_count": 23,
   "metadata": {},
   "outputs": [
    {
     "name": "stdout",
     "output_type": "stream",
     "text": [
      "<class 'pandas.core.frame.DataFrame'>\n",
      "RangeIndex: 16468 entries, 0 to 16467\n",
      "Data columns (total 13 columns):\n",
      " #   Column        Non-Null Count  Dtype  \n",
      "---  ------        --------------  -----  \n",
      " 0   Date          1517 non-null   object \n",
      " 1   AveragePrice  1517 non-null   float64\n",
      " 2   Total Volume  1517 non-null   float64\n",
      " 3   4046          1517 non-null   float64\n",
      " 4   4225          1517 non-null   float64\n",
      " 5   4770          1517 non-null   float64\n",
      " 6   Total Bags    1517 non-null   float64\n",
      " 7   Small Bags    1517 non-null   float64\n",
      " 8   Large Bags    1517 non-null   float64\n",
      " 9   XLarge Bags   1517 non-null   float64\n",
      " 10  type          1517 non-null   object \n",
      " 11  year          1517 non-null   float64\n",
      " 12  region        1517 non-null   object \n",
      "dtypes: float64(10), object(3)\n",
      "memory usage: 1.6+ MB\n"
     ]
    }
   ],
   "source": [
    "# checking for the datatype \n",
    "df.info()"
   ]
  },
  {
   "cell_type": "code",
   "execution_count": 24,
   "metadata": {},
   "outputs": [],
   "source": [
    "# we have 3 fields as objects and ramining as flot type"
   ]
  },
  {
   "cell_type": "code",
   "execution_count": 26,
   "metadata": {},
   "outputs": [
    {
     "data": {
      "text/html": [
       "<div>\n",
       "<style scoped>\n",
       "    .dataframe tbody tr th:only-of-type {\n",
       "        vertical-align: middle;\n",
       "    }\n",
       "\n",
       "    .dataframe tbody tr th {\n",
       "        vertical-align: top;\n",
       "    }\n",
       "\n",
       "    .dataframe thead th {\n",
       "        text-align: right;\n",
       "    }\n",
       "</style>\n",
       "<table border=\"1\" class=\"dataframe\">\n",
       "  <thead>\n",
       "    <tr style=\"text-align: right;\">\n",
       "      <th></th>\n",
       "      <th>AveragePrice</th>\n",
       "      <th>Total Volume</th>\n",
       "      <th>4046</th>\n",
       "      <th>4225</th>\n",
       "      <th>4770</th>\n",
       "      <th>Total Bags</th>\n",
       "      <th>Small Bags</th>\n",
       "      <th>Large Bags</th>\n",
       "      <th>XLarge Bags</th>\n",
       "      <th>year</th>\n",
       "    </tr>\n",
       "  </thead>\n",
       "  <tbody>\n",
       "    <tr>\n",
       "      <th>count</th>\n",
       "      <td>1517.000000</td>\n",
       "      <td>1.517000e+03</td>\n",
       "      <td>1.517000e+03</td>\n",
       "      <td>1.517000e+03</td>\n",
       "      <td>1.517000e+03</td>\n",
       "      <td>1.517000e+03</td>\n",
       "      <td>1.517000e+03</td>\n",
       "      <td>1.517000e+03</td>\n",
       "      <td>1517.000000</td>\n",
       "      <td>1517.000000</td>\n",
       "    </tr>\n",
       "    <tr>\n",
       "      <th>mean</th>\n",
       "      <td>1.074990</td>\n",
       "      <td>1.601879e+06</td>\n",
       "      <td>6.464387e+05</td>\n",
       "      <td>6.114375e+05</td>\n",
       "      <td>5.040550e+04</td>\n",
       "      <td>2.935974e+05</td>\n",
       "      <td>2.487736e+05</td>\n",
       "      <td>4.264205e+04</td>\n",
       "      <td>2181.771074</td>\n",
       "      <td>2015.162821</td>\n",
       "    </tr>\n",
       "    <tr>\n",
       "      <th>std</th>\n",
       "      <td>0.188891</td>\n",
       "      <td>4.433143e+06</td>\n",
       "      <td>1.947614e+06</td>\n",
       "      <td>1.672906e+06</td>\n",
       "      <td>1.377812e+05</td>\n",
       "      <td>7.579765e+05</td>\n",
       "      <td>6.474765e+05</td>\n",
       "      <td>1.182157e+05</td>\n",
       "      <td>7455.712144</td>\n",
       "      <td>0.369324</td>\n",
       "    </tr>\n",
       "    <tr>\n",
       "      <th>min</th>\n",
       "      <td>0.490000</td>\n",
       "      <td>3.875074e+04</td>\n",
       "      <td>4.677200e+02</td>\n",
       "      <td>1.783770e+03</td>\n",
       "      <td>0.000000e+00</td>\n",
       "      <td>3.311770e+03</td>\n",
       "      <td>3.311770e+03</td>\n",
       "      <td>0.000000e+00</td>\n",
       "      <td>0.000000</td>\n",
       "      <td>2015.000000</td>\n",
       "    </tr>\n",
       "    <tr>\n",
       "      <th>25%</th>\n",
       "      <td>0.980000</td>\n",
       "      <td>1.474700e+05</td>\n",
       "      <td>2.040034e+04</td>\n",
       "      <td>4.147606e+04</td>\n",
       "      <td>9.112500e+02</td>\n",
       "      <td>3.620689e+04</td>\n",
       "      <td>2.972722e+04</td>\n",
       "      <td>5.407400e+02</td>\n",
       "      <td>0.000000</td>\n",
       "      <td>2015.000000</td>\n",
       "    </tr>\n",
       "    <tr>\n",
       "      <th>50%</th>\n",
       "      <td>1.080000</td>\n",
       "      <td>4.027919e+05</td>\n",
       "      <td>8.175117e+04</td>\n",
       "      <td>1.186649e+05</td>\n",
       "      <td>7.688170e+03</td>\n",
       "      <td>7.397906e+04</td>\n",
       "      <td>6.237569e+04</td>\n",
       "      <td>5.044350e+03</td>\n",
       "      <td>0.000000</td>\n",
       "      <td>2015.000000</td>\n",
       "    </tr>\n",
       "    <tr>\n",
       "      <th>75%</th>\n",
       "      <td>1.190000</td>\n",
       "      <td>9.819751e+05</td>\n",
       "      <td>3.775785e+05</td>\n",
       "      <td>4.851503e+05</td>\n",
       "      <td>2.916730e+04</td>\n",
       "      <td>1.576097e+05</td>\n",
       "      <td>1.461994e+05</td>\n",
       "      <td>2.926767e+04</td>\n",
       "      <td>401.480000</td>\n",
       "      <td>2015.000000</td>\n",
       "    </tr>\n",
       "    <tr>\n",
       "      <th>max</th>\n",
       "      <td>1.680000</td>\n",
       "      <td>4.465546e+07</td>\n",
       "      <td>1.893304e+07</td>\n",
       "      <td>1.895648e+07</td>\n",
       "      <td>1.381516e+06</td>\n",
       "      <td>6.736304e+06</td>\n",
       "      <td>5.893642e+06</td>\n",
       "      <td>1.121076e+06</td>\n",
       "      <td>108072.790000</td>\n",
       "      <td>2016.000000</td>\n",
       "    </tr>\n",
       "  </tbody>\n",
       "</table>\n",
       "</div>"
      ],
      "text/plain": [
       "       AveragePrice  Total Volume          4046          4225          4770  \\\n",
       "count   1517.000000  1.517000e+03  1.517000e+03  1.517000e+03  1.517000e+03   \n",
       "mean       1.074990  1.601879e+06  6.464387e+05  6.114375e+05  5.040550e+04   \n",
       "std        0.188891  4.433143e+06  1.947614e+06  1.672906e+06  1.377812e+05   \n",
       "min        0.490000  3.875074e+04  4.677200e+02  1.783770e+03  0.000000e+00   \n",
       "25%        0.980000  1.474700e+05  2.040034e+04  4.147606e+04  9.112500e+02   \n",
       "50%        1.080000  4.027919e+05  8.175117e+04  1.186649e+05  7.688170e+03   \n",
       "75%        1.190000  9.819751e+05  3.775785e+05  4.851503e+05  2.916730e+04   \n",
       "max        1.680000  4.465546e+07  1.893304e+07  1.895648e+07  1.381516e+06   \n",
       "\n",
       "         Total Bags    Small Bags    Large Bags    XLarge Bags         year  \n",
       "count  1.517000e+03  1.517000e+03  1.517000e+03    1517.000000  1517.000000  \n",
       "mean   2.935974e+05  2.487736e+05  4.264205e+04    2181.771074  2015.162821  \n",
       "std    7.579765e+05  6.474765e+05  1.182157e+05    7455.712144     0.369324  \n",
       "min    3.311770e+03  3.311770e+03  0.000000e+00       0.000000  2015.000000  \n",
       "25%    3.620689e+04  2.972722e+04  5.407400e+02       0.000000  2015.000000  \n",
       "50%    7.397906e+04  6.237569e+04  5.044350e+03       0.000000  2015.000000  \n",
       "75%    1.576097e+05  1.461994e+05  2.926767e+04     401.480000  2015.000000  \n",
       "max    6.736304e+06  5.893642e+06  1.121076e+06  108072.790000  2016.000000  "
      ]
     },
     "execution_count": 26,
     "metadata": {},
     "output_type": "execute_result"
    }
   ],
   "source": [
    "df.describe()"
   ]
  },
  {
   "cell_type": "code",
   "execution_count": 27,
   "metadata": {},
   "outputs": [],
   "source": [
    "# Na values will have impact on the data modelling and to prevent the data loss filling the na values using median and mean methods\n",
    "#filling na values for average price column using median \n",
    "df[\"AveragePrice\"]=df[\"AveragePrice\"].fillna(df[\"AveragePrice\"].median())\n",
    "\n",
    "#filling na values for total volume column using median\n",
    "df[\"Total Volume\"]=df[\"Total Volume\"].fillna(df[\"Total Volume\"].median())\n",
    "\n",
    "#filling na values for 4046 column using median\n",
    "df[\"4046\"]=df[\"4046\"].fillna(df[\"4046\"].median())\n",
    "\n",
    "#filling na values for 4225 column using median\n",
    "df[\"4225\"]=df[\"4225\"].fillna(df[\"4225\"].median())\n",
    "\n",
    "#filling na values for 4225 column using median\n",
    "df[\"4770\"]=df[\"4770\"].fillna(df[\"4770\"].median())"
   ]
  },
  {
   "cell_type": "code",
   "execution_count": 28,
   "metadata": {},
   "outputs": [],
   "source": [
    "# filling na values with column mean\n",
    "#filing na values for Total bags column using mean\n",
    "df=df.replace(np.NaN,df[\"Total Bags\"].mean())\n",
    "\n",
    "#filing na values for small bags column using mean\n",
    "df=df.replace(np.NaN,df[\"Small Bags\"].mean())\n",
    "\n",
    "#filing na values for Large bags column using mean\n",
    "df=df.replace(np.NaN,df[\"Large Bags\"].mean())\n",
    "\n",
    "#filing na values for Xlarge bags column using mean\n",
    "df=df.replace(np.NaN,df[\"XLarge Bags\"].mean())"
   ]
  },
  {
   "cell_type": "code",
   "execution_count": 29,
   "metadata": {
    "collapsed": true
   },
   "outputs": [
    {
     "data": {
      "text/plain": [
       "0        Albany\n",
       "1        Albany\n",
       "2        Albany\n",
       "3        Albany\n",
       "4        Albany\n",
       "          ...  \n",
       "16463    293597\n",
       "16464    293597\n",
       "16465    293597\n",
       "16466    293597\n",
       "16467    293597\n",
       "Name: region, Length: 16468, dtype: object"
      ]
     },
     "execution_count": 29,
     "metadata": {},
     "output_type": "execute_result"
    }
   ],
   "source": [
    "# filling na fields for object type columns\n",
    "\n",
    "df[\"type\"].fillna(df[\"type\"].mode()[0])\n",
    "\n",
    "df[\"region\"].fillna(df[\"region\"].mode()[0])\n"
   ]
  },
  {
   "cell_type": "code",
   "execution_count": 30,
   "metadata": {},
   "outputs": [
    {
     "data": {
      "text/plain": [
       "Date            0\n",
       "AveragePrice    0\n",
       "Total Volume    0\n",
       "4046            0\n",
       "4225            0\n",
       "4770            0\n",
       "Total Bags      0\n",
       "Small Bags      0\n",
       "Large Bags      0\n",
       "XLarge Bags     0\n",
       "type            0\n",
       "year            0\n",
       "region          0\n",
       "dtype: int64"
      ]
     },
     "execution_count": 30,
     "metadata": {},
     "output_type": "execute_result"
    }
   ],
   "source": [
    "df.isnull().sum()"
   ]
  },
  {
   "cell_type": "code",
   "execution_count": 31,
   "metadata": {},
   "outputs": [],
   "source": [
    "# Thus all the null values have been filled and now we can proceed for EDA"
   ]
  },
  {
   "cell_type": "markdown",
   "metadata": {},
   "source": [
    "## EDA"
   ]
  },
  {
   "cell_type": "code",
   "execution_count": 33,
   "metadata": {},
   "outputs": [],
   "source": [
    "# Comparative analysis to check the highest sales by year"
   ]
  },
  {
   "cell_type": "code",
   "execution_count": 34,
   "metadata": {},
   "outputs": [
    {
     "data": {
      "text/plain": [
       "<AxesSubplot:xlabel='year', ylabel='AveragePrice'>"
      ]
     },
     "execution_count": 34,
     "metadata": {},
     "output_type": "execute_result"
    },
    {
     "data": {
      "image/png": "[encoded data removed]",
      "text/plain": [
       "<Figure size 432x288 with 1 Axes>"
      ]
     },
     "metadata": {
      "needs_background": "light"
     },
     "output_type": "display_data"
    }
   ],
   "source": [
    "sns.barplot(x=\"year\",y=\"AveragePrice\",data=df)"
   ]
  },
  {
   "cell_type": "raw",
   "metadata": {},
   "source": [
    "The highest sale of Avacado was in year 2016"
   ]
  },
  {
   "cell_type": "code",
   "execution_count": 38,
   "metadata": {},
   "outputs": [
    {
     "data": {
      "text/plain": [
       "<AxesSubplot:xlabel='type', ylabel='AveragePrice'>"
      ]
     },
     "execution_count": 38,
     "metadata": {},
     "output_type": "execute_result"
    },
    {
     "data": {
      "image/png": "[encoded data removed]",
      "text/plain": [
       "<Figure size 432x288 with 1 Axes>"
      ]
     },
     "metadata": {
      "needs_background": "light"
     },
     "output_type": "display_data"
    }
   ],
   "source": [
    "# Checking the data distribution as per type\n",
    "sns.barplot(x=\"type\",y=\"AveragePrice\",data=df)"
   ]
  },
  {
   "cell_type": "raw",
   "metadata": {},
   "source": [
    "Conventional has higher price"
   ]
  },
  {
   "cell_type": "code",
   "execution_count": 51,
   "metadata": {},
   "outputs": [
    {
     "data": {
      "image/png": "[encoded data removed]",
      "text/plain": [
       "<Figure size 864x432 with 1 Axes>"
      ]
     },
     "metadata": {},
     "output_type": "display_data"
    }
   ],
   "source": [
    "# Checking the data distribution as per region\n",
    "plt.figure(figsize=(12, 6))\n",
    "ax = sns.barplot(x=\"region\",y=\"AveragePrice\",data=df,orient=\"v\")\n",
    "ax.set_xticklabels(chart.get_xticklabels(), rotation=45, horizontalalignment='right')\n",
    "ax.set_ylabel('AveragePrice')\n",
    "plt.show()"
   ]
  },
  {
   "cell_type": "raw",
   "metadata": {},
   "source": [
    "Charlotte has the highest avg price for avacado"
   ]
  },
  {
   "cell_type": "code",
   "execution_count": 52,
   "metadata": {},
   "outputs": [],
   "source": [
    "# Dropping the type, region and date columns which are not requred for linear regression\n",
    "df.drop([\"type\",\"region\",\"Date\"],axis=1,inplace=True)"
   ]
  },
  {
   "cell_type": "code",
   "execution_count": 53,
   "metadata": {},
   "outputs": [
    {
     "data": {
      "text/html": [
       "<div>\n",
       "<style scoped>\n",
       "    .dataframe tbody tr th:only-of-type {\n",
       "        vertical-align: middle;\n",
       "    }\n",
       "\n",
       "    .dataframe tbody tr th {\n",
       "        vertical-align: top;\n",
       "    }\n",
       "\n",
       "    .dataframe thead th {\n",
       "        text-align: right;\n",
       "    }\n",
       "</style>\n",
       "<table border=\"1\" class=\"dataframe\">\n",
       "  <thead>\n",
       "    <tr style=\"text-align: right;\">\n",
       "      <th></th>\n",
       "      <th>AveragePrice</th>\n",
       "      <th>Total Volume</th>\n",
       "      <th>4046</th>\n",
       "      <th>4225</th>\n",
       "      <th>4770</th>\n",
       "      <th>Total Bags</th>\n",
       "      <th>Small Bags</th>\n",
       "      <th>Large Bags</th>\n",
       "      <th>XLarge Bags</th>\n",
       "      <th>year</th>\n",
       "    </tr>\n",
       "  </thead>\n",
       "  <tbody>\n",
       "    <tr>\n",
       "      <th>0</th>\n",
       "      <td>1.33</td>\n",
       "      <td>64236.62</td>\n",
       "      <td>1036.74</td>\n",
       "      <td>54454.85</td>\n",
       "      <td>48.16</td>\n",
       "      <td>8696.87</td>\n",
       "      <td>8603.62</td>\n",
       "      <td>93.25</td>\n",
       "      <td>0.0</td>\n",
       "      <td>2015.0</td>\n",
       "    </tr>\n",
       "    <tr>\n",
       "      <th>1</th>\n",
       "      <td>1.35</td>\n",
       "      <td>54876.98</td>\n",
       "      <td>674.28</td>\n",
       "      <td>44638.81</td>\n",
       "      <td>58.33</td>\n",
       "      <td>9505.56</td>\n",
       "      <td>9408.07</td>\n",
       "      <td>97.49</td>\n",
       "      <td>0.0</td>\n",
       "      <td>2015.0</td>\n",
       "    </tr>\n",
       "  </tbody>\n",
       "</table>\n",
       "</div>"
      ],
      "text/plain": [
       "   AveragePrice  Total Volume     4046      4225   4770  Total Bags  \\\n",
       "0          1.33      64236.62  1036.74  54454.85  48.16     8696.87   \n",
       "1          1.35      54876.98   674.28  44638.81  58.33     9505.56   \n",
       "\n",
       "   Small Bags  Large Bags  XLarge Bags    year  \n",
       "0     8603.62       93.25          0.0  2015.0  \n",
       "1     9408.07       97.49          0.0  2015.0  "
      ]
     },
     "execution_count": 53,
     "metadata": {},
     "output_type": "execute_result"
    }
   ],
   "source": [
    "df.head(2)"
   ]
  },
  {
   "cell_type": "code",
   "execution_count": 57,
   "metadata": {},
   "outputs": [
    {
     "data": {
      "image/png": "[encoded data removed]",
      "text/plain": [
       "<Figure size 1440x1440 with 10 Axes>"
      ]
     },
     "metadata": {},
     "output_type": "display_data"
    }
   ],
   "source": [
    "# Checking distribution for each column\n",
    "plt.figure(figsize=(20,20), facecolor ='white')\n",
    "pltnumber=1\n",
    "\n",
    "for column in df:\n",
    "    if pltnumber<=10:\n",
    "        ax = plt.subplot(5,2,pltnumber)\n",
    "        sns.distplot(df[column])\n",
    "        plt.xlabel(column,fontsize=20)\n",
    "    pltnumber +=1\n",
    "plt.show()  #plt.show()"
   ]
  },
  {
   "cell_type": "code",
   "execution_count": 61,
   "metadata": {},
   "outputs": [
    {
     "data": {
      "text/plain": [
       "AveragePrice    -0.597853\n",
       "Total Volume    20.780598\n",
       "4046            20.223665\n",
       "4225            21.202221\n",
       "4770            18.212142\n",
       "Total Bags      17.665207\n",
       "Small Bags      16.895578\n",
       "Large Bags      -2.217294\n",
       "XLarge Bags     -2.824456\n",
       "year            -2.821090\n",
       "dtype: float64"
      ]
     },
     "execution_count": 61,
     "metadata": {},
     "output_type": "execute_result"
    }
   ],
   "source": [
    "df.skew()"
   ]
  },
  {
   "cell_type": "raw",
   "metadata": {},
   "source": [
    "The data is highly skewed for all the columns  except for average price"
   ]
  },
  {
   "cell_type": "code",
   "execution_count": 59,
   "metadata": {
    "collapsed": true
   },
   "outputs": [
    {
     "data": {
      "text/plain": [
       "AveragePrice       AxesSubplot(0.125,0.749828;0.352273x0.130172)\n",
       "Total Volume    AxesSubplot(0.547727,0.749828;0.352273x0.130172)\n",
       "4046               AxesSubplot(0.125,0.593621;0.352273x0.130172)\n",
       "4225            AxesSubplot(0.547727,0.593621;0.352273x0.130172)\n",
       "4770               AxesSubplot(0.125,0.437414;0.352273x0.130172)\n",
       "Total Bags      AxesSubplot(0.547727,0.437414;0.352273x0.130172)\n",
       "Small Bags         AxesSubplot(0.125,0.281207;0.352273x0.130172)\n",
       "Large Bags      AxesSubplot(0.547727,0.281207;0.352273x0.130172)\n",
       "XLarge Bags           AxesSubplot(0.125,0.125;0.352273x0.130172)\n",
       "year               AxesSubplot(0.547727,0.125;0.352273x0.130172)\n",
       "dtype: object"
      ]
     },
     "execution_count": 59,
     "metadata": {},
     "output_type": "execute_result"
    },
    {
     "data": {
      "image/png": "[encoded data removed]",
      "text/plain": [
       "<Figure size 720x864 with 10 Axes>"
      ]
     },
     "metadata": {},
     "output_type": "display_data"
    }
   ],
   "source": [
    "# Checking for the outliers\n",
    "df.plot(kind=\"box\",subplots=True,layout=(5,2),figsize=(10,12))\n",
    "\n"
   ]
  },
  {
   "cell_type": "raw",
   "metadata": {},
   "source": [
    "There are greatest outliers in the avacado dataset"
   ]
  },
  {
   "cell_type": "markdown",
   "metadata": {},
   "source": [
    "## Handling Outliers"
   ]
  },
  {
   "cell_type": "code",
   "execution_count": 62,
   "metadata": {},
   "outputs": [],
   "source": [
    "# using z score method to remove outliers\n",
    "# importing z score from scipy stats\n",
    "from scipy.stats import zscore"
   ]
  },
  {
   "cell_type": "code",
   "execution_count": 63,
   "metadata": {
    "collapsed": true
   },
   "outputs": [
    {
     "data": {
      "text/plain": [
       "array([[4.36879111, 0.32325445, 0.21650297, ..., 3.34000565, 3.16411771,\n",
       "        3.13937068],\n",
       "       [4.7176504 , 0.32999266, 0.21709419, ..., 3.33995328, 3.16411771,\n",
       "        3.13937068],\n",
       "       [2.60839475, 0.28439044, 0.21689777, ..., 3.33988348, 3.16411771,\n",
       "        3.13937068],\n",
       "       ...,\n",
       "       [0.00804995, 0.0795209 , 0.08484768, ..., 0.28556381, 0.31842068,\n",
       "        0.31853537],\n",
       "       [0.00804995, 0.0795209 , 0.08484768, ..., 0.28556381, 0.31842068,\n",
       "        0.31853537],\n",
       "       [0.00804995, 0.0795209 , 0.08484768, ..., 0.28556381, 0.31842068,\n",
       "        0.31853537]])"
      ]
     },
     "execution_count": 63,
     "metadata": {},
     "output_type": "execute_result"
    }
   ],
   "source": [
    "z=np.abs(zscore(df))\n",
    "z"
   ]
  },
  {
   "cell_type": "code",
   "execution_count": 67,
   "metadata": {},
   "outputs": [],
   "source": [
    "#setting the threshold value at 3\n",
    "threshold=3\n",
    "df_new=df[(z<3).all(axis=1)]"
   ]
  },
  {
   "cell_type": "code",
   "execution_count": 68,
   "metadata": {
    "collapsed": true
   },
   "outputs": [
    {
     "data": {
      "text/html": [
       "<div>\n",
       "<style scoped>\n",
       "    .dataframe tbody tr th:only-of-type {\n",
       "        vertical-align: middle;\n",
       "    }\n",
       "\n",
       "    .dataframe tbody tr th {\n",
       "        vertical-align: top;\n",
       "    }\n",
       "\n",
       "    .dataframe thead th {\n",
       "        text-align: right;\n",
       "    }\n",
       "</style>\n",
       "<table border=\"1\" class=\"dataframe\">\n",
       "  <thead>\n",
       "    <tr style=\"text-align: right;\">\n",
       "      <th></th>\n",
       "      <th>AveragePrice</th>\n",
       "      <th>Total Volume</th>\n",
       "      <th>4046</th>\n",
       "      <th>4225</th>\n",
       "      <th>4770</th>\n",
       "      <th>Total Bags</th>\n",
       "      <th>Small Bags</th>\n",
       "      <th>Large Bags</th>\n",
       "      <th>XLarge Bags</th>\n",
       "      <th>year</th>\n",
       "    </tr>\n",
       "  </thead>\n",
       "  <tbody>\n",
       "    <tr>\n",
       "      <th>1517</th>\n",
       "      <td>1.08</td>\n",
       "      <td>402791.86</td>\n",
       "      <td>81751.17</td>\n",
       "      <td>118664.89</td>\n",
       "      <td>7688.17</td>\n",
       "      <td>293597.415735</td>\n",
       "      <td>293597.415735</td>\n",
       "      <td>293597.415735</td>\n",
       "      <td>293597.415735</td>\n",
       "      <td>293597.415735</td>\n",
       "    </tr>\n",
       "    <tr>\n",
       "      <th>1518</th>\n",
       "      <td>1.08</td>\n",
       "      <td>402791.86</td>\n",
       "      <td>81751.17</td>\n",
       "      <td>118664.89</td>\n",
       "      <td>7688.17</td>\n",
       "      <td>293597.415735</td>\n",
       "      <td>293597.415735</td>\n",
       "      <td>293597.415735</td>\n",
       "      <td>293597.415735</td>\n",
       "      <td>293597.415735</td>\n",
       "    </tr>\n",
       "    <tr>\n",
       "      <th>1519</th>\n",
       "      <td>1.08</td>\n",
       "      <td>402791.86</td>\n",
       "      <td>81751.17</td>\n",
       "      <td>118664.89</td>\n",
       "      <td>7688.17</td>\n",
       "      <td>293597.415735</td>\n",
       "      <td>293597.415735</td>\n",
       "      <td>293597.415735</td>\n",
       "      <td>293597.415735</td>\n",
       "      <td>293597.415735</td>\n",
       "    </tr>\n",
       "    <tr>\n",
       "      <th>1520</th>\n",
       "      <td>1.08</td>\n",
       "      <td>402791.86</td>\n",
       "      <td>81751.17</td>\n",
       "      <td>118664.89</td>\n",
       "      <td>7688.17</td>\n",
       "      <td>293597.415735</td>\n",
       "      <td>293597.415735</td>\n",
       "      <td>293597.415735</td>\n",
       "      <td>293597.415735</td>\n",
       "      <td>293597.415735</td>\n",
       "    </tr>\n",
       "    <tr>\n",
       "      <th>1521</th>\n",
       "      <td>1.08</td>\n",
       "      <td>402791.86</td>\n",
       "      <td>81751.17</td>\n",
       "      <td>118664.89</td>\n",
       "      <td>7688.17</td>\n",
       "      <td>293597.415735</td>\n",
       "      <td>293597.415735</td>\n",
       "      <td>293597.415735</td>\n",
       "      <td>293597.415735</td>\n",
       "      <td>293597.415735</td>\n",
       "    </tr>\n",
       "    <tr>\n",
       "      <th>...</th>\n",
       "      <td>...</td>\n",
       "      <td>...</td>\n",
       "      <td>...</td>\n",
       "      <td>...</td>\n",
       "      <td>...</td>\n",
       "      <td>...</td>\n",
       "      <td>...</td>\n",
       "      <td>...</td>\n",
       "      <td>...</td>\n",
       "      <td>...</td>\n",
       "    </tr>\n",
       "    <tr>\n",
       "      <th>16463</th>\n",
       "      <td>1.08</td>\n",
       "      <td>402791.86</td>\n",
       "      <td>81751.17</td>\n",
       "      <td>118664.89</td>\n",
       "      <td>7688.17</td>\n",
       "      <td>293597.415735</td>\n",
       "      <td>293597.415735</td>\n",
       "      <td>293597.415735</td>\n",
       "      <td>293597.415735</td>\n",
       "      <td>293597.415735</td>\n",
       "    </tr>\n",
       "    <tr>\n",
       "      <th>16464</th>\n",
       "      <td>1.08</td>\n",
       "      <td>402791.86</td>\n",
       "      <td>81751.17</td>\n",
       "      <td>118664.89</td>\n",
       "      <td>7688.17</td>\n",
       "      <td>293597.415735</td>\n",
       "      <td>293597.415735</td>\n",
       "      <td>293597.415735</td>\n",
       "      <td>293597.415735</td>\n",
       "      <td>293597.415735</td>\n",
       "    </tr>\n",
       "    <tr>\n",
       "      <th>16465</th>\n",
       "      <td>1.08</td>\n",
       "      <td>402791.86</td>\n",
       "      <td>81751.17</td>\n",
       "      <td>118664.89</td>\n",
       "      <td>7688.17</td>\n",
       "      <td>293597.415735</td>\n",
       "      <td>293597.415735</td>\n",
       "      <td>293597.415735</td>\n",
       "      <td>293597.415735</td>\n",
       "      <td>293597.415735</td>\n",
       "    </tr>\n",
       "    <tr>\n",
       "      <th>16466</th>\n",
       "      <td>1.08</td>\n",
       "      <td>402791.86</td>\n",
       "      <td>81751.17</td>\n",
       "      <td>118664.89</td>\n",
       "      <td>7688.17</td>\n",
       "      <td>293597.415735</td>\n",
       "      <td>293597.415735</td>\n",
       "      <td>293597.415735</td>\n",
       "      <td>293597.415735</td>\n",
       "      <td>293597.415735</td>\n",
       "    </tr>\n",
       "    <tr>\n",
       "      <th>16467</th>\n",
       "      <td>1.08</td>\n",
       "      <td>402791.86</td>\n",
       "      <td>81751.17</td>\n",
       "      <td>118664.89</td>\n",
       "      <td>7688.17</td>\n",
       "      <td>293597.415735</td>\n",
       "      <td>293597.415735</td>\n",
       "      <td>293597.415735</td>\n",
       "      <td>293597.415735</td>\n",
       "      <td>293597.415735</td>\n",
       "    </tr>\n",
       "  </tbody>\n",
       "</table>\n",
       "<p>14951 rows × 10 columns</p>\n",
       "</div>"
      ],
      "text/plain": [
       "       AveragePrice  Total Volume      4046       4225     4770  \\\n",
       "1517           1.08     402791.86  81751.17  118664.89  7688.17   \n",
       "1518           1.08     402791.86  81751.17  118664.89  7688.17   \n",
       "1519           1.08     402791.86  81751.17  118664.89  7688.17   \n",
       "1520           1.08     402791.86  81751.17  118664.89  7688.17   \n",
       "1521           1.08     402791.86  81751.17  118664.89  7688.17   \n",
       "...             ...           ...       ...        ...      ...   \n",
       "16463          1.08     402791.86  81751.17  118664.89  7688.17   \n",
       "16464          1.08     402791.86  81751.17  118664.89  7688.17   \n",
       "16465          1.08     402791.86  81751.17  118664.89  7688.17   \n",
       "16466          1.08     402791.86  81751.17  118664.89  7688.17   \n",
       "16467          1.08     402791.86  81751.17  118664.89  7688.17   \n",
       "\n",
       "          Total Bags     Small Bags     Large Bags    XLarge Bags  \\\n",
       "1517   293597.415735  293597.415735  293597.415735  293597.415735   \n",
       "1518   293597.415735  293597.415735  293597.415735  293597.415735   \n",
       "1519   293597.415735  293597.415735  293597.415735  293597.415735   \n",
       "1520   293597.415735  293597.415735  293597.415735  293597.415735   \n",
       "1521   293597.415735  293597.415735  293597.415735  293597.415735   \n",
       "...              ...            ...            ...            ...   \n",
       "16463  293597.415735  293597.415735  293597.415735  293597.415735   \n",
       "16464  293597.415735  293597.415735  293597.415735  293597.415735   \n",
       "16465  293597.415735  293597.415735  293597.415735  293597.415735   \n",
       "16466  293597.415735  293597.415735  293597.415735  293597.415735   \n",
       "16467  293597.415735  293597.415735  293597.415735  293597.415735   \n",
       "\n",
       "                year  \n",
       "1517   293597.415735  \n",
       "1518   293597.415735  \n",
       "1519   293597.415735  \n",
       "1520   293597.415735  \n",
       "1521   293597.415735  \n",
       "...              ...  \n",
       "16463  293597.415735  \n",
       "16464  293597.415735  \n",
       "16465  293597.415735  \n",
       "16466  293597.415735  \n",
       "16467  293597.415735  \n",
       "\n",
       "[14951 rows x 10 columns]"
      ]
     },
     "execution_count": 68,
     "metadata": {},
     "output_type": "execute_result"
    }
   ],
   "source": [
    "df_new"
   ]
  },
  {
   "cell_type": "code",
   "execution_count": 69,
   "metadata": {},
   "outputs": [
    {
     "data": {
      "text/plain": [
       "(16468, 10)"
      ]
     },
     "execution_count": 69,
     "metadata": {},
     "output_type": "execute_result"
    }
   ],
   "source": [
    "df.shape"
   ]
  },
  {
   "cell_type": "code",
   "execution_count": 70,
   "metadata": {},
   "outputs": [
    {
     "data": {
      "text/plain": [
       "(14951, 10)"
      ]
     },
     "execution_count": 70,
     "metadata": {},
     "output_type": "execute_result"
    }
   ],
   "source": [
    "df_new.shape"
   ]
  },
  {
   "cell_type": "code",
   "execution_count": 72,
   "metadata": {},
   "outputs": [],
   "source": [
    "# Percentage loss\n",
    "\n",
    "p_loss=(16468-14951)/16468*100"
   ]
  },
  {
   "cell_type": "code",
   "execution_count": 73,
   "metadata": {},
   "outputs": [
    {
     "data": {
      "text/plain": [
       "9.211804712169055"
      ]
     },
     "execution_count": 73,
     "metadata": {},
     "output_type": "execute_result"
    }
   ],
   "source": [
    "p_loss"
   ]
  },
  {
   "cell_type": "raw",
   "metadata": {},
   "source": [
    "The percenatge loss is 9% which will result in data loss if we go ahead with this new dataset \"df_new\""
   ]
  },
  {
   "cell_type": "code",
   "execution_count": 96,
   "metadata": {},
   "outputs": [],
   "source": [
    "# Feature selection\n",
    "x=df.drop(\"AveragePrice\",axis=1)\n",
    "y=df[\"AveragePrice\"]"
   ]
  },
  {
   "cell_type": "code",
   "execution_count": 97,
   "metadata": {},
   "outputs": [
    {
     "data": {
      "text/html": [
       "<div>\n",
       "<style scoped>\n",
       "    .dataframe tbody tr th:only-of-type {\n",
       "        vertical-align: middle;\n",
       "    }\n",
       "\n",
       "    .dataframe tbody tr th {\n",
       "        vertical-align: top;\n",
       "    }\n",
       "\n",
       "    .dataframe thead th {\n",
       "        text-align: right;\n",
       "    }\n",
       "</style>\n",
       "<table border=\"1\" class=\"dataframe\">\n",
       "  <thead>\n",
       "    <tr style=\"text-align: right;\">\n",
       "      <th></th>\n",
       "      <th>Total Volume</th>\n",
       "      <th>4046</th>\n",
       "      <th>4225</th>\n",
       "      <th>4770</th>\n",
       "      <th>Total Bags</th>\n",
       "      <th>Small Bags</th>\n",
       "      <th>Large Bags</th>\n",
       "      <th>XLarge Bags</th>\n",
       "      <th>year</th>\n",
       "    </tr>\n",
       "  </thead>\n",
       "  <tbody>\n",
       "    <tr>\n",
       "      <th>0</th>\n",
       "      <td>64236.62</td>\n",
       "      <td>1036.74</td>\n",
       "      <td>54454.85</td>\n",
       "      <td>48.16</td>\n",
       "      <td>8696.870000</td>\n",
       "      <td>8603.620000</td>\n",
       "      <td>93.250000</td>\n",
       "      <td>0.000000</td>\n",
       "      <td>2015.000000</td>\n",
       "    </tr>\n",
       "    <tr>\n",
       "      <th>1</th>\n",
       "      <td>54876.98</td>\n",
       "      <td>674.28</td>\n",
       "      <td>44638.81</td>\n",
       "      <td>58.33</td>\n",
       "      <td>9505.560000</td>\n",
       "      <td>9408.070000</td>\n",
       "      <td>97.490000</td>\n",
       "      <td>0.000000</td>\n",
       "      <td>2015.000000</td>\n",
       "    </tr>\n",
       "    <tr>\n",
       "      <th>2</th>\n",
       "      <td>118220.22</td>\n",
       "      <td>794.70</td>\n",
       "      <td>109149.67</td>\n",
       "      <td>130.50</td>\n",
       "      <td>8145.350000</td>\n",
       "      <td>8042.210000</td>\n",
       "      <td>103.140000</td>\n",
       "      <td>0.000000</td>\n",
       "      <td>2015.000000</td>\n",
       "    </tr>\n",
       "    <tr>\n",
       "      <th>3</th>\n",
       "      <td>78992.15</td>\n",
       "      <td>1132.00</td>\n",
       "      <td>71976.41</td>\n",
       "      <td>72.58</td>\n",
       "      <td>5811.160000</td>\n",
       "      <td>5677.400000</td>\n",
       "      <td>133.760000</td>\n",
       "      <td>0.000000</td>\n",
       "      <td>2015.000000</td>\n",
       "    </tr>\n",
       "    <tr>\n",
       "      <th>4</th>\n",
       "      <td>51039.60</td>\n",
       "      <td>941.48</td>\n",
       "      <td>43838.39</td>\n",
       "      <td>75.78</td>\n",
       "      <td>6183.950000</td>\n",
       "      <td>5986.260000</td>\n",
       "      <td>197.690000</td>\n",
       "      <td>0.000000</td>\n",
       "      <td>2015.000000</td>\n",
       "    </tr>\n",
       "    <tr>\n",
       "      <th>...</th>\n",
       "      <td>...</td>\n",
       "      <td>...</td>\n",
       "      <td>...</td>\n",
       "      <td>...</td>\n",
       "      <td>...</td>\n",
       "      <td>...</td>\n",
       "      <td>...</td>\n",
       "      <td>...</td>\n",
       "      <td>...</td>\n",
       "    </tr>\n",
       "    <tr>\n",
       "      <th>16463</th>\n",
       "      <td>402791.86</td>\n",
       "      <td>81751.17</td>\n",
       "      <td>118664.89</td>\n",
       "      <td>7688.17</td>\n",
       "      <td>293597.415735</td>\n",
       "      <td>293597.415735</td>\n",
       "      <td>293597.415735</td>\n",
       "      <td>293597.415735</td>\n",
       "      <td>293597.415735</td>\n",
       "    </tr>\n",
       "    <tr>\n",
       "      <th>16464</th>\n",
       "      <td>402791.86</td>\n",
       "      <td>81751.17</td>\n",
       "      <td>118664.89</td>\n",
       "      <td>7688.17</td>\n",
       "      <td>293597.415735</td>\n",
       "      <td>293597.415735</td>\n",
       "      <td>293597.415735</td>\n",
       "      <td>293597.415735</td>\n",
       "      <td>293597.415735</td>\n",
       "    </tr>\n",
       "    <tr>\n",
       "      <th>16465</th>\n",
       "      <td>402791.86</td>\n",
       "      <td>81751.17</td>\n",
       "      <td>118664.89</td>\n",
       "      <td>7688.17</td>\n",
       "      <td>293597.415735</td>\n",
       "      <td>293597.415735</td>\n",
       "      <td>293597.415735</td>\n",
       "      <td>293597.415735</td>\n",
       "      <td>293597.415735</td>\n",
       "    </tr>\n",
       "    <tr>\n",
       "      <th>16466</th>\n",
       "      <td>402791.86</td>\n",
       "      <td>81751.17</td>\n",
       "      <td>118664.89</td>\n",
       "      <td>7688.17</td>\n",
       "      <td>293597.415735</td>\n",
       "      <td>293597.415735</td>\n",
       "      <td>293597.415735</td>\n",
       "      <td>293597.415735</td>\n",
       "      <td>293597.415735</td>\n",
       "    </tr>\n",
       "    <tr>\n",
       "      <th>16467</th>\n",
       "      <td>402791.86</td>\n",
       "      <td>81751.17</td>\n",
       "      <td>118664.89</td>\n",
       "      <td>7688.17</td>\n",
       "      <td>293597.415735</td>\n",
       "      <td>293597.415735</td>\n",
       "      <td>293597.415735</td>\n",
       "      <td>293597.415735</td>\n",
       "      <td>293597.415735</td>\n",
       "    </tr>\n",
       "  </tbody>\n",
       "</table>\n",
       "<p>16468 rows × 9 columns</p>\n",
       "</div>"
      ],
      "text/plain": [
       "       Total Volume      4046       4225     4770     Total Bags  \\\n",
       "0          64236.62   1036.74   54454.85    48.16    8696.870000   \n",
       "1          54876.98    674.28   44638.81    58.33    9505.560000   \n",
       "2         118220.22    794.70  109149.67   130.50    8145.350000   \n",
       "3          78992.15   1132.00   71976.41    72.58    5811.160000   \n",
       "4          51039.60    941.48   43838.39    75.78    6183.950000   \n",
       "...             ...       ...        ...      ...            ...   \n",
       "16463     402791.86  81751.17  118664.89  7688.17  293597.415735   \n",
       "16464     402791.86  81751.17  118664.89  7688.17  293597.415735   \n",
       "16465     402791.86  81751.17  118664.89  7688.17  293597.415735   \n",
       "16466     402791.86  81751.17  118664.89  7688.17  293597.415735   \n",
       "16467     402791.86  81751.17  118664.89  7688.17  293597.415735   \n",
       "\n",
       "          Small Bags     Large Bags    XLarge Bags           year  \n",
       "0        8603.620000      93.250000       0.000000    2015.000000  \n",
       "1        9408.070000      97.490000       0.000000    2015.000000  \n",
       "2        8042.210000     103.140000       0.000000    2015.000000  \n",
       "3        5677.400000     133.760000       0.000000    2015.000000  \n",
       "4        5986.260000     197.690000       0.000000    2015.000000  \n",
       "...              ...            ...            ...            ...  \n",
       "16463  293597.415735  293597.415735  293597.415735  293597.415735  \n",
       "16464  293597.415735  293597.415735  293597.415735  293597.415735  \n",
       "16465  293597.415735  293597.415735  293597.415735  293597.415735  \n",
       "16466  293597.415735  293597.415735  293597.415735  293597.415735  \n",
       "16467  293597.415735  293597.415735  293597.415735  293597.415735  \n",
       "\n",
       "[16468 rows x 9 columns]"
      ]
     },
     "execution_count": 97,
     "metadata": {},
     "output_type": "execute_result"
    }
   ],
   "source": [
    "x"
   ]
  },
  {
   "cell_type": "code",
   "execution_count": 98,
   "metadata": {},
   "outputs": [],
   "source": [
    "# Removing skewness from the columns using power transform method\n",
    "#importing power transform from sklearn library\n",
    "from sklearn.preprocessing import power_transform"
   ]
  },
  {
   "cell_type": "code",
   "execution_count": null,
   "metadata": {},
   "outputs": [],
   "source": []
  },
  {
   "cell_type": "code",
   "execution_count": 99,
   "metadata": {
    "collapsed": true
   },
   "outputs": [
    {
     "data": {
      "text/plain": [
       "array([[ 0.00000000e+00, -5.67142334e+00, -1.59724738e+00, ...,\n",
       "        -3.04817768e+00, -3.15846401e+00, -3.13936876e+00],\n",
       "       [ 0.00000000e+00, -6.17596344e+00, -2.02135640e+00, ...,\n",
       "        -3.04817493e+00, -3.15846401e+00, -3.13936876e+00],\n",
       "       [ 0.00000000e+00, -5.98433299e+00, -1.74385752e-01, ...,\n",
       "        -3.04817118e+00, -3.15846401e+00, -3.13936876e+00],\n",
       "       ...,\n",
       "       [ 0.00000000e+00, -2.18844244e-03, -9.52684905e-03, ...,\n",
       "         2.62085097e-01,  3.18457069e-01,  3.18535375e-01],\n",
       "       [ 0.00000000e+00, -2.18844244e-03, -9.52684905e-03, ...,\n",
       "         2.62085097e-01,  3.18457069e-01,  3.18535375e-01],\n",
       "       [ 0.00000000e+00, -2.18844244e-03, -9.52684905e-03, ...,\n",
       "         2.62085097e-01,  3.18457069e-01,  3.18535375e-01]])"
      ]
     },
     "execution_count": 99,
     "metadata": {},
     "output_type": "execute_result"
    }
   ],
   "source": [
    "x=power_transform(x,method=\"yeo-johnson\")\n",
    "x"
   ]
  },
  {
   "cell_type": "code",
   "execution_count": 100,
   "metadata": {
    "collapsed": true
   },
   "outputs": [
    {
     "name": "stdout",
     "output_type": "stream",
     "text": [
      "[[ 0.00000000e+00 -5.67142334e+00 -1.59724738e+00 ... -3.04817768e+00\n",
      "  -3.15846401e+00 -3.13936876e+00]\n",
      " [ 0.00000000e+00 -6.17596344e+00 -2.02135640e+00 ... -3.04817493e+00\n",
      "  -3.15846401e+00 -3.13936876e+00]\n",
      " [ 0.00000000e+00 -5.98433299e+00 -1.74385752e-01 ... -3.04817118e+00\n",
      "  -3.15846401e+00 -3.13936876e+00]\n",
      " ...\n",
      " [ 0.00000000e+00 -2.18844244e-03 -9.52684905e-03 ...  2.62085097e-01\n",
      "   3.18457069e-01  3.18535375e-01]\n",
      " [ 0.00000000e+00 -2.18844244e-03 -9.52684905e-03 ...  2.62085097e-01\n",
      "   3.18457069e-01  3.18535375e-01]\n",
      " [ 0.00000000e+00 -2.18844244e-03 -9.52684905e-03 ...  2.62085097e-01\n",
      "   3.18457069e-01  3.18535375e-01]]\n"
     ]
    }
   ],
   "source": [
    "# Scaling the data using standard scalar\n",
    "x_scaled=StandardScaler().fit_transform(x)\n",
    "print(x_scaled)"
   ]
  },
  {
   "cell_type": "code",
   "execution_count": 103,
   "metadata": {},
   "outputs": [],
   "source": [
    "# Builing maching learning model\n",
    "# Importing ML libraries\n",
    "from sklearn.model_selection import train_test_split\n",
    "from sklearn.linear_model import LinearRegression\n",
    "from sklearn.metrics import r2_score\n",
    "from sklearn.metrics import mean_squared_error,mean_absolute_error\n",
    "from sklearn.model_selection import cross_val_score\n"
   ]
  },
  {
   "cell_type": "code",
   "execution_count": 102,
   "metadata": {},
   "outputs": [
    {
     "name": "stdout",
     "output_type": "stream",
     "text": [
      " best accuracy=42.87261876332577 found on random_state327\n",
      "mean squared error: 0.0021655173894825153\n",
      "mean absolute error: 0.010769003410800454\n"
     ]
    }
   ],
   "source": [
    "# finding the best random state number\n",
    "best_rstate=0\n",
    "accu=0\n",
    "for i in range(0,1000):\n",
    "    x_train,x_test,y_train,y_test=train_test_split(x_scaled,y,test_size=.25,random_state=i)\n",
    "    mod=LinearRegression()\n",
    "    mod.fit(x_train,y_train)\n",
    "    predmod=mod.predict(x_test)\n",
    "    tempaccu=r2_score(y_test,predmod)\n",
    "    if tempaccu>accu:\n",
    "        accu=tempaccu\n",
    "        best_rstate=i\n",
    "print(f\" best accuracy={accu*100} found on random_state{best_rstate}\")\n",
    "print(\"mean squared error:\",mean_squared_error(y_test,predmod))\n",
    "print(\"mean absolute error:\",mean_absolute_error(y_test,predmod))"
   ]
  },
  {
   "cell_type": "markdown",
   "metadata": {},
   "source": [
    "### Training the model"
   ]
  },
  {
   "cell_type": "code",
   "execution_count": 105,
   "metadata": {},
   "outputs": [],
   "source": [
    "x_train,x_test,y_train,y_test=train_test_split(x_scaled,y,test_size=.30,random_state=327)"
   ]
  },
  {
   "cell_type": "markdown",
   "metadata": {},
   "source": [
    "### Finding the best model"
   ]
  },
  {
   "cell_type": "raw",
   "metadata": {},
   "source": [
    "DecisiontreeRegressor"
   ]
  },
  {
   "cell_type": "code",
   "execution_count": 107,
   "metadata": {},
   "outputs": [
    {
     "name": "stdout",
     "output_type": "stream",
     "text": [
      " accuracy=67.33777591660053,cross val score=56.11686145727677 & difference=11.220914459323765\n",
      "mean squared error: 0.001136875126492613\n",
      "mean absolute error: 0.007207043108740825\n"
     ]
    }
   ],
   "source": [
    "from sklearn.tree import DecisionTreeRegressor\n",
    "dtr=DecisionTreeRegressor()\n",
    "dtr.fit(x_train,y_train)\n",
    "preddtr=dtr.predict(x_test)\n",
    "r2score=r2_score(y_test,preddtr)\n",
    "cvscore=cross_val_score(DecisionTreeRegressor(),x_train,y_train,cv=5).mean()\n",
    "print(f\" accuracy={r2score*100},cross val score={cvscore*100} & difference={(r2score*100)-(cvscore*100)}\")\n",
    "print(\"mean squared error:\",mean_squared_error(y_test,preddtr))\n",
    "print(\"mean absolute error:\",mean_absolute_error(y_test,preddtr))"
   ]
  },
  {
   "cell_type": "raw",
   "metadata": {},
   "source": [
    "GradientBoostingRegressor"
   ]
  },
  {
   "cell_type": "code",
   "execution_count": 108,
   "metadata": {},
   "outputs": [
    {
     "name": "stdout",
     "output_type": "stream",
     "text": [
      " accuracy=69.78477411681973,cross val score=64.80621997357753 & difference=4.9785541432422065\n",
      "mean squared error: 0.0010517023782652406\n",
      "mean absolute error: 0.007481897632702384\n"
     ]
    }
   ],
   "source": [
    "from sklearn.ensemble import GradientBoostingRegressor\n",
    "gbr=GradientBoostingRegressor()\n",
    "gbr.fit(x_train,y_train)\n",
    "predgbr=gbr.predict(x_test)\n",
    "r2score=r2_score(y_test,predgbr)\n",
    "cvscore=cross_val_score(GradientBoostingRegressor(),x_train,y_train,cv=5).mean()\n",
    "print(f\" accuracy={r2score*100},cross val score={cvscore*100} & difference={(r2score*100)-(cvscore*100)}\")\n",
    "print(\"mean squared error:\",mean_squared_error(y_test,predgbr))\n",
    "print(\"mean absolute error:\",mean_absolute_error(y_test,predgbr))"
   ]
  },
  {
   "cell_type": "raw",
   "metadata": {},
   "source": [
    "KNeighborsRegressor"
   ]
  },
  {
   "cell_type": "code",
   "execution_count": 109,
   "metadata": {},
   "outputs": [
    {
     "name": "stdout",
     "output_type": "stream",
     "text": [
      " accuracy=81.14055864541182,cross val score=71.38946756927385 & difference=9.751091076137968\n",
      "mean squared error: 0.000656441206233556\n",
      "mean absolute error: 0.0056332726168791735\n"
     ]
    }
   ],
   "source": [
    "from sklearn.neighbors import KNeighborsRegressor\n",
    "knn=KNeighborsRegressor()\n",
    "knn.fit(x_train,y_train)\n",
    "predknn=knn.predict(x_test)\n",
    "r2score=r2_score(y_test,predknn)\n",
    "cvscore=cross_val_score(KNeighborsRegressor(),x_train,y_train,cv=3).mean()\n",
    "print(f\" accuracy={r2score*100},cross val score={cvscore*100} & difference={(r2score*100)-(cvscore*100)}\")\n",
    "print(\"mean squared error:\",mean_squared_error(y_test,predknn))\n",
    "print(\"mean absolute error:\",mean_absolute_error(y_test,predknn))"
   ]
  },
  {
   "cell_type": "raw",
   "metadata": {},
   "source": [
    "AdaBoostRegressor"
   ]
  },
  {
   "cell_type": "code",
   "execution_count": 110,
   "metadata": {},
   "outputs": [
    {
     "name": "stdout",
     "output_type": "stream",
     "text": [
      " accuracy=55.18295143998009,cross val score=51.96055300471117 & difference=3.2223984352689143\n",
      "mean squared error= 0.00155994850872982\n",
      "mean absolute error= 0.009875991731458287\n"
     ]
    }
   ],
   "source": [
    "from sklearn.ensemble import AdaBoostRegressor\n",
    "ad=AdaBoostRegressor()\n",
    "ad.fit(x_train,y_train)\n",
    "predad=ad.predict(x_test)\n",
    "r2score=r2_score(y_test,predad)\n",
    "cvscore=cross_val_score(AdaBoostRegressor(),x_train,y_train,cv=5).mean()\n",
    "print(f\" accuracy={r2score*100},cross val score={cvscore*100} & difference={(r2score*100)-(cvscore*100)}\")\n",
    "print(\"mean squared error=\",mean_squared_error(y_test,predad))\n",
    "print(\"mean absolute error=\",mean_absolute_error(y_test,predad))"
   ]
  },
  {
   "cell_type": "markdown",
   "metadata": {},
   "source": [
    "# KNeighborsRegressor gives the best score of R2 as well as cross validation score\n",
    "# accuracy= 81 % & cross val score of 71.3 %"
   ]
  },
  {
   "cell_type": "code",
   "execution_count": 111,
   "metadata": {},
   "outputs": [],
   "source": [
    "#saving the file\n",
    "import pickle\n",
    "filename=\"Avacado_price prediction.pkl\"\n",
    "pickle.dump(knn,open(filename,\"wb\"))"
   ]
  },
  {
   "cell_type": "code",
   "execution_count": 112,
   "metadata": {},
   "outputs": [
    {
     "data": {
      "image/png": "[encoded data removed]",
      "text/plain": [
       "<Figure size 576x432 with 1 Axes>"
      ]
     },
     "metadata": {},
     "output_type": "display_data"
    }
   ],
   "source": [
    "# Plotting knn regressor\n",
    "plt.figure(figsize=(8,6))\n",
    "plt.scatter(x=y_test,y=predknn,color=\"r\")\n",
    "plt.plot(y_test,y_test,color=\"b\")\n",
    "plt.xlabel(\"Actual Score\",fontsize=14)\n",
    "plt.ylabel(\"Predicted Score\",fontsize=14)\n",
    "plt.title(\"KNeighborsRegressor\")\n",
    "plt.show()"
   ]
  },
  {
   "cell_type": "code",
   "execution_count": null,
   "metadata": {},
   "outputs": [],
   "source": []
  }
 ],
 "metadata": {
  "kernelspec": {
   "display_name": "Python 3",
   "language": "python",
   "name": "python3"
  },
  "language_info": {
   "codemirror_mode": {
    "name": "ipython",
    "version": 3
   },
   "file_extension": ".py",
   "mimetype": "text/x-python",
   "name": "python",
   "nbconvert_exporter": "python",
   "pygments_lexer": "ipython3",
   "version": "3.8.5"
  }
 },
 "nbformat": 4,
 "nbformat_minor": 4
}
