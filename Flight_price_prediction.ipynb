{
 "cells": [
  {
   "cell_type": "markdown",
   "metadata": {},
   "source": [
    "## Flight Price Prediction"
   ]
  },
  {
   "cell_type": "raw",
   "metadata": {},
   "source": [
    "Flight Price Prediction\n",
    "Problem Statement:\n",
    "Flight ticket prices can be something hard to guess, today we might see a price, check out the price of the same flight tomorrow, it will be a different story. We might have often heard travellers saying that flight ticket prices are so unpredictable. Here you will be provided with prices of flight tickets for various airlines between the months of March and June of 2019 and between various cities.\n",
    "\n",
    "Size of training set: 10683 records\n",
    "\n",
    "Size of test set: 2671 records\n",
    "\n",
    "FEATURES:\n",
    "Airline: The name of the airline.\n",
    "\n",
    "Date_of_Journey: The date of the journey\n",
    "\n",
    "Source: The source from which the service begins.\n",
    "\n",
    "Destination: The destination where the service ends.\n",
    "\n",
    "Route: The route taken by the flight to reach the destination.\n",
    "\n",
    "Dep_Time: The time when the journey starts from the source.\n",
    "\n",
    "Arrival_Time: Time of arrival at the destination.\n",
    "\n",
    "Duration: Total duration of the flight.\n",
    "\n",
    "Total_Stops: Total stops between the source and destination.\n",
    "\n",
    "Additional_Info: Additional information about the flight\n",
    "\n",
    "Price: The price of the ticket\n",
    "\n",
    " \n",
    "\n",
    "You have to use your skills as a data scientist and build a machine learning model to predict the price of the flight ticket. \n",
    "\n",
    " \n",
    "\n",
    "Note: You can find the dataset in the link below. "
   ]
  },
  {
   "cell_type": "code",
   "execution_count": 158,
   "metadata": {},
   "outputs": [],
   "source": [
    "# Importing important libraries\n",
    "import numpy as np \n",
    "import pandas as pd\n",
    "import seaborn as sns \n",
    "import matplotlib.pyplot as plt\n",
    "%matplotlib inline\n",
    "import warnings\n",
    "warnings.filterwarnings('ignore')"
   ]
  },
  {
   "cell_type": "code",
   "execution_count": 159,
   "metadata": {},
   "outputs": [],
   "source": [
    "# importing the training dataset\n",
    "train_df=pd.read_excel(r'C:\\Users\\quccs\\Downloads\\Flight_Ticket_Participant_Datasets\\Data_Train.xlsx')"
   ]
  },
  {
   "cell_type": "code",
   "execution_count": 160,
   "metadata": {},
   "outputs": [
    {
     "data": {
      "text/html": [
       "<div>\n",
       "<style scoped>\n",
       "    .dataframe tbody tr th:only-of-type {\n",
       "        vertical-align: middle;\n",
       "    }\n",
       "\n",
       "    .dataframe tbody tr th {\n",
       "        vertical-align: top;\n",
       "    }\n",
       "\n",
       "    .dataframe thead th {\n",
       "        text-align: right;\n",
       "    }\n",
       "</style>\n",
       "<table border=\"1\" class=\"dataframe\">\n",
       "  <thead>\n",
       "    <tr style=\"text-align: right;\">\n",
       "      <th></th>\n",
       "      <th>Airline</th>\n",
       "      <th>Date_of_Journey</th>\n",
       "      <th>Source</th>\n",
       "      <th>Destination</th>\n",
       "      <th>Route</th>\n",
       "      <th>Dep_Time</th>\n",
       "      <th>Arrival_Time</th>\n",
       "      <th>Duration</th>\n",
       "      <th>Total_Stops</th>\n",
       "      <th>Additional_Info</th>\n",
       "      <th>Price</th>\n",
       "    </tr>\n",
       "  </thead>\n",
       "  <tbody>\n",
       "    <tr>\n",
       "      <th>0</th>\n",
       "      <td>IndiGo</td>\n",
       "      <td>24/03/2019</td>\n",
       "      <td>Banglore</td>\n",
       "      <td>New Delhi</td>\n",
       "      <td>BLR → DEL</td>\n",
       "      <td>22:20</td>\n",
       "      <td>01:10 22 Mar</td>\n",
       "      <td>2h 50m</td>\n",
       "      <td>non-stop</td>\n",
       "      <td>No info</td>\n",
       "      <td>3897</td>\n",
       "    </tr>\n",
       "    <tr>\n",
       "      <th>1</th>\n",
       "      <td>Air India</td>\n",
       "      <td>1/05/2019</td>\n",
       "      <td>Kolkata</td>\n",
       "      <td>Banglore</td>\n",
       "      <td>CCU → IXR → BBI → BLR</td>\n",
       "      <td>05:50</td>\n",
       "      <td>13:15</td>\n",
       "      <td>7h 25m</td>\n",
       "      <td>2 stops</td>\n",
       "      <td>No info</td>\n",
       "      <td>7662</td>\n",
       "    </tr>\n",
       "    <tr>\n",
       "      <th>2</th>\n",
       "      <td>Jet Airways</td>\n",
       "      <td>9/06/2019</td>\n",
       "      <td>Delhi</td>\n",
       "      <td>Cochin</td>\n",
       "      <td>DEL → LKO → BOM → COK</td>\n",
       "      <td>09:25</td>\n",
       "      <td>04:25 10 Jun</td>\n",
       "      <td>19h</td>\n",
       "      <td>2 stops</td>\n",
       "      <td>No info</td>\n",
       "      <td>13882</td>\n",
       "    </tr>\n",
       "    <tr>\n",
       "      <th>3</th>\n",
       "      <td>IndiGo</td>\n",
       "      <td>12/05/2019</td>\n",
       "      <td>Kolkata</td>\n",
       "      <td>Banglore</td>\n",
       "      <td>CCU → NAG → BLR</td>\n",
       "      <td>18:05</td>\n",
       "      <td>23:30</td>\n",
       "      <td>5h 25m</td>\n",
       "      <td>1 stop</td>\n",
       "      <td>No info</td>\n",
       "      <td>6218</td>\n",
       "    </tr>\n",
       "    <tr>\n",
       "      <th>4</th>\n",
       "      <td>IndiGo</td>\n",
       "      <td>01/03/2019</td>\n",
       "      <td>Banglore</td>\n",
       "      <td>New Delhi</td>\n",
       "      <td>BLR → NAG → DEL</td>\n",
       "      <td>16:50</td>\n",
       "      <td>21:35</td>\n",
       "      <td>4h 45m</td>\n",
       "      <td>1 stop</td>\n",
       "      <td>No info</td>\n",
       "      <td>13302</td>\n",
       "    </tr>\n",
       "  </tbody>\n",
       "</table>\n",
       "</div>"
      ],
      "text/plain": [
       "       Airline Date_of_Journey    Source Destination                  Route  \\\n",
       "0       IndiGo      24/03/2019  Banglore   New Delhi              BLR → DEL   \n",
       "1    Air India       1/05/2019   Kolkata    Banglore  CCU → IXR → BBI → BLR   \n",
       "2  Jet Airways       9/06/2019     Delhi      Cochin  DEL → LKO → BOM → COK   \n",
       "3       IndiGo      12/05/2019   Kolkata    Banglore        CCU → NAG → BLR   \n",
       "4       IndiGo      01/03/2019  Banglore   New Delhi        BLR → NAG → DEL   \n",
       "\n",
       "  Dep_Time  Arrival_Time Duration Total_Stops Additional_Info  Price  \n",
       "0    22:20  01:10 22 Mar   2h 50m    non-stop         No info   3897  \n",
       "1    05:50         13:15   7h 25m     2 stops         No info   7662  \n",
       "2    09:25  04:25 10 Jun      19h     2 stops         No info  13882  \n",
       "3    18:05         23:30   5h 25m      1 stop         No info   6218  \n",
       "4    16:50         21:35   4h 45m      1 stop         No info  13302  "
      ]
     },
     "execution_count": 160,
     "metadata": {},
     "output_type": "execute_result"
    }
   ],
   "source": [
    "train_df.head(5)"
   ]
  },
  {
   "cell_type": "code",
   "execution_count": 161,
   "metadata": {},
   "outputs": [],
   "source": [
    "# importing the test dataset\n",
    "test_df=pd.read_excel(r'C:\\Users\\quccs\\Downloads\\Flight_Ticket_Participant_Datasets\\Test_set.xlsx')"
   ]
  },
  {
   "cell_type": "code",
   "execution_count": 162,
   "metadata": {},
   "outputs": [
    {
     "data": {
      "text/html": [
       "<div>\n",
       "<style scoped>\n",
       "    .dataframe tbody tr th:only-of-type {\n",
       "        vertical-align: middle;\n",
       "    }\n",
       "\n",
       "    .dataframe tbody tr th {\n",
       "        vertical-align: top;\n",
       "    }\n",
       "\n",
       "    .dataframe thead th {\n",
       "        text-align: right;\n",
       "    }\n",
       "</style>\n",
       "<table border=\"1\" class=\"dataframe\">\n",
       "  <thead>\n",
       "    <tr style=\"text-align: right;\">\n",
       "      <th></th>\n",
       "      <th>Airline</th>\n",
       "      <th>Date_of_Journey</th>\n",
       "      <th>Source</th>\n",
       "      <th>Destination</th>\n",
       "      <th>Route</th>\n",
       "      <th>Dep_Time</th>\n",
       "      <th>Arrival_Time</th>\n",
       "      <th>Duration</th>\n",
       "      <th>Total_Stops</th>\n",
       "      <th>Additional_Info</th>\n",
       "    </tr>\n",
       "  </thead>\n",
       "  <tbody>\n",
       "    <tr>\n",
       "      <th>0</th>\n",
       "      <td>Jet Airways</td>\n",
       "      <td>6/06/2019</td>\n",
       "      <td>Delhi</td>\n",
       "      <td>Cochin</td>\n",
       "      <td>DEL → BOM → COK</td>\n",
       "      <td>17:30</td>\n",
       "      <td>04:25 07 Jun</td>\n",
       "      <td>10h 55m</td>\n",
       "      <td>1 stop</td>\n",
       "      <td>No info</td>\n",
       "    </tr>\n",
       "    <tr>\n",
       "      <th>1</th>\n",
       "      <td>IndiGo</td>\n",
       "      <td>12/05/2019</td>\n",
       "      <td>Kolkata</td>\n",
       "      <td>Banglore</td>\n",
       "      <td>CCU → MAA → BLR</td>\n",
       "      <td>06:20</td>\n",
       "      <td>10:20</td>\n",
       "      <td>4h</td>\n",
       "      <td>1 stop</td>\n",
       "      <td>No info</td>\n",
       "    </tr>\n",
       "    <tr>\n",
       "      <th>2</th>\n",
       "      <td>Jet Airways</td>\n",
       "      <td>21/05/2019</td>\n",
       "      <td>Delhi</td>\n",
       "      <td>Cochin</td>\n",
       "      <td>DEL → BOM → COK</td>\n",
       "      <td>19:15</td>\n",
       "      <td>19:00 22 May</td>\n",
       "      <td>23h 45m</td>\n",
       "      <td>1 stop</td>\n",
       "      <td>In-flight meal not included</td>\n",
       "    </tr>\n",
       "    <tr>\n",
       "      <th>3</th>\n",
       "      <td>Multiple carriers</td>\n",
       "      <td>21/05/2019</td>\n",
       "      <td>Delhi</td>\n",
       "      <td>Cochin</td>\n",
       "      <td>DEL → BOM → COK</td>\n",
       "      <td>08:00</td>\n",
       "      <td>21:00</td>\n",
       "      <td>13h</td>\n",
       "      <td>1 stop</td>\n",
       "      <td>No info</td>\n",
       "    </tr>\n",
       "    <tr>\n",
       "      <th>4</th>\n",
       "      <td>Air Asia</td>\n",
       "      <td>24/06/2019</td>\n",
       "      <td>Banglore</td>\n",
       "      <td>Delhi</td>\n",
       "      <td>BLR → DEL</td>\n",
       "      <td>23:55</td>\n",
       "      <td>02:45 25 Jun</td>\n",
       "      <td>2h 50m</td>\n",
       "      <td>non-stop</td>\n",
       "      <td>No info</td>\n",
       "    </tr>\n",
       "  </tbody>\n",
       "</table>\n",
       "</div>"
      ],
      "text/plain": [
       "             Airline Date_of_Journey    Source Destination            Route  \\\n",
       "0        Jet Airways       6/06/2019     Delhi      Cochin  DEL → BOM → COK   \n",
       "1             IndiGo      12/05/2019   Kolkata    Banglore  CCU → MAA → BLR   \n",
       "2        Jet Airways      21/05/2019     Delhi      Cochin  DEL → BOM → COK   \n",
       "3  Multiple carriers      21/05/2019     Delhi      Cochin  DEL → BOM → COK   \n",
       "4           Air Asia      24/06/2019  Banglore       Delhi        BLR → DEL   \n",
       "\n",
       "  Dep_Time  Arrival_Time Duration Total_Stops              Additional_Info  \n",
       "0    17:30  04:25 07 Jun  10h 55m      1 stop                      No info  \n",
       "1    06:20         10:20       4h      1 stop                      No info  \n",
       "2    19:15  19:00 22 May  23h 45m      1 stop  In-flight meal not included  \n",
       "3    08:00         21:00      13h      1 stop                      No info  \n",
       "4    23:55  02:45 25 Jun   2h 50m    non-stop                      No info  "
      ]
     },
     "execution_count": 162,
     "metadata": {},
     "output_type": "execute_result"
    }
   ],
   "source": [
    "test_df.head()"
   ]
  },
  {
   "cell_type": "code",
   "execution_count": 163,
   "metadata": {},
   "outputs": [],
   "source": [
    "# Appending both datasets into one for model building\n",
    "df = train_df.append(test_df , sort = False)"
   ]
  },
  {
   "cell_type": "code",
   "execution_count": 164,
   "metadata": {},
   "outputs": [
    {
     "data": {
      "text/html": [
       "<div>\n",
       "<style scoped>\n",
       "    .dataframe tbody tr th:only-of-type {\n",
       "        vertical-align: middle;\n",
       "    }\n",
       "\n",
       "    .dataframe tbody tr th {\n",
       "        vertical-align: top;\n",
       "    }\n",
       "\n",
       "    .dataframe thead th {\n",
       "        text-align: right;\n",
       "    }\n",
       "</style>\n",
       "<table border=\"1\" class=\"dataframe\">\n",
       "  <thead>\n",
       "    <tr style=\"text-align: right;\">\n",
       "      <th></th>\n",
       "      <th>Airline</th>\n",
       "      <th>Date_of_Journey</th>\n",
       "      <th>Source</th>\n",
       "      <th>Destination</th>\n",
       "      <th>Route</th>\n",
       "      <th>Dep_Time</th>\n",
       "      <th>Arrival_Time</th>\n",
       "      <th>Duration</th>\n",
       "      <th>Total_Stops</th>\n",
       "      <th>Additional_Info</th>\n",
       "      <th>Price</th>\n",
       "    </tr>\n",
       "  </thead>\n",
       "  <tbody>\n",
       "    <tr>\n",
       "      <th>0</th>\n",
       "      <td>IndiGo</td>\n",
       "      <td>24/03/2019</td>\n",
       "      <td>Banglore</td>\n",
       "      <td>New Delhi</td>\n",
       "      <td>BLR → DEL</td>\n",
       "      <td>22:20</td>\n",
       "      <td>01:10 22 Mar</td>\n",
       "      <td>2h 50m</td>\n",
       "      <td>non-stop</td>\n",
       "      <td>No info</td>\n",
       "      <td>3897.0</td>\n",
       "    </tr>\n",
       "    <tr>\n",
       "      <th>1</th>\n",
       "      <td>Air India</td>\n",
       "      <td>1/05/2019</td>\n",
       "      <td>Kolkata</td>\n",
       "      <td>Banglore</td>\n",
       "      <td>CCU → IXR → BBI → BLR</td>\n",
       "      <td>05:50</td>\n",
       "      <td>13:15</td>\n",
       "      <td>7h 25m</td>\n",
       "      <td>2 stops</td>\n",
       "      <td>No info</td>\n",
       "      <td>7662.0</td>\n",
       "    </tr>\n",
       "    <tr>\n",
       "      <th>2</th>\n",
       "      <td>Jet Airways</td>\n",
       "      <td>9/06/2019</td>\n",
       "      <td>Delhi</td>\n",
       "      <td>Cochin</td>\n",
       "      <td>DEL → LKO → BOM → COK</td>\n",
       "      <td>09:25</td>\n",
       "      <td>04:25 10 Jun</td>\n",
       "      <td>19h</td>\n",
       "      <td>2 stops</td>\n",
       "      <td>No info</td>\n",
       "      <td>13882.0</td>\n",
       "    </tr>\n",
       "    <tr>\n",
       "      <th>3</th>\n",
       "      <td>IndiGo</td>\n",
       "      <td>12/05/2019</td>\n",
       "      <td>Kolkata</td>\n",
       "      <td>Banglore</td>\n",
       "      <td>CCU → NAG → BLR</td>\n",
       "      <td>18:05</td>\n",
       "      <td>23:30</td>\n",
       "      <td>5h 25m</td>\n",
       "      <td>1 stop</td>\n",
       "      <td>No info</td>\n",
       "      <td>6218.0</td>\n",
       "    </tr>\n",
       "    <tr>\n",
       "      <th>4</th>\n",
       "      <td>IndiGo</td>\n",
       "      <td>01/03/2019</td>\n",
       "      <td>Banglore</td>\n",
       "      <td>New Delhi</td>\n",
       "      <td>BLR → NAG → DEL</td>\n",
       "      <td>16:50</td>\n",
       "      <td>21:35</td>\n",
       "      <td>4h 45m</td>\n",
       "      <td>1 stop</td>\n",
       "      <td>No info</td>\n",
       "      <td>13302.0</td>\n",
       "    </tr>\n",
       "    <tr>\n",
       "      <th>...</th>\n",
       "      <td>...</td>\n",
       "      <td>...</td>\n",
       "      <td>...</td>\n",
       "      <td>...</td>\n",
       "      <td>...</td>\n",
       "      <td>...</td>\n",
       "      <td>...</td>\n",
       "      <td>...</td>\n",
       "      <td>...</td>\n",
       "      <td>...</td>\n",
       "      <td>...</td>\n",
       "    </tr>\n",
       "    <tr>\n",
       "      <th>2666</th>\n",
       "      <td>Air India</td>\n",
       "      <td>6/06/2019</td>\n",
       "      <td>Kolkata</td>\n",
       "      <td>Banglore</td>\n",
       "      <td>CCU → DEL → BLR</td>\n",
       "      <td>20:30</td>\n",
       "      <td>20:25 07 Jun</td>\n",
       "      <td>23h 55m</td>\n",
       "      <td>1 stop</td>\n",
       "      <td>No info</td>\n",
       "      <td>NaN</td>\n",
       "    </tr>\n",
       "    <tr>\n",
       "      <th>2667</th>\n",
       "      <td>IndiGo</td>\n",
       "      <td>27/03/2019</td>\n",
       "      <td>Kolkata</td>\n",
       "      <td>Banglore</td>\n",
       "      <td>CCU → BLR</td>\n",
       "      <td>14:20</td>\n",
       "      <td>16:55</td>\n",
       "      <td>2h 35m</td>\n",
       "      <td>non-stop</td>\n",
       "      <td>No info</td>\n",
       "      <td>NaN</td>\n",
       "    </tr>\n",
       "    <tr>\n",
       "      <th>2668</th>\n",
       "      <td>Jet Airways</td>\n",
       "      <td>6/03/2019</td>\n",
       "      <td>Delhi</td>\n",
       "      <td>Cochin</td>\n",
       "      <td>DEL → BOM → COK</td>\n",
       "      <td>21:50</td>\n",
       "      <td>04:25 07 Mar</td>\n",
       "      <td>6h 35m</td>\n",
       "      <td>1 stop</td>\n",
       "      <td>No info</td>\n",
       "      <td>NaN</td>\n",
       "    </tr>\n",
       "    <tr>\n",
       "      <th>2669</th>\n",
       "      <td>Air India</td>\n",
       "      <td>6/03/2019</td>\n",
       "      <td>Delhi</td>\n",
       "      <td>Cochin</td>\n",
       "      <td>DEL → BOM → COK</td>\n",
       "      <td>04:00</td>\n",
       "      <td>19:15</td>\n",
       "      <td>15h 15m</td>\n",
       "      <td>1 stop</td>\n",
       "      <td>No info</td>\n",
       "      <td>NaN</td>\n",
       "    </tr>\n",
       "    <tr>\n",
       "      <th>2670</th>\n",
       "      <td>Multiple carriers</td>\n",
       "      <td>15/06/2019</td>\n",
       "      <td>Delhi</td>\n",
       "      <td>Cochin</td>\n",
       "      <td>DEL → BOM → COK</td>\n",
       "      <td>04:55</td>\n",
       "      <td>19:15</td>\n",
       "      <td>14h 20m</td>\n",
       "      <td>1 stop</td>\n",
       "      <td>No info</td>\n",
       "      <td>NaN</td>\n",
       "    </tr>\n",
       "  </tbody>\n",
       "</table>\n",
       "<p>13354 rows × 11 columns</p>\n",
       "</div>"
      ],
      "text/plain": [
       "                Airline Date_of_Journey    Source Destination  \\\n",
       "0                IndiGo      24/03/2019  Banglore   New Delhi   \n",
       "1             Air India       1/05/2019   Kolkata    Banglore   \n",
       "2           Jet Airways       9/06/2019     Delhi      Cochin   \n",
       "3                IndiGo      12/05/2019   Kolkata    Banglore   \n",
       "4                IndiGo      01/03/2019  Banglore   New Delhi   \n",
       "...                 ...             ...       ...         ...   \n",
       "2666          Air India       6/06/2019   Kolkata    Banglore   \n",
       "2667             IndiGo      27/03/2019   Kolkata    Banglore   \n",
       "2668        Jet Airways       6/03/2019     Delhi      Cochin   \n",
       "2669          Air India       6/03/2019     Delhi      Cochin   \n",
       "2670  Multiple carriers      15/06/2019     Delhi      Cochin   \n",
       "\n",
       "                      Route Dep_Time  Arrival_Time Duration Total_Stops  \\\n",
       "0                 BLR → DEL    22:20  01:10 22 Mar   2h 50m    non-stop   \n",
       "1     CCU → IXR → BBI → BLR    05:50         13:15   7h 25m     2 stops   \n",
       "2     DEL → LKO → BOM → COK    09:25  04:25 10 Jun      19h     2 stops   \n",
       "3           CCU → NAG → BLR    18:05         23:30   5h 25m      1 stop   \n",
       "4           BLR → NAG → DEL    16:50         21:35   4h 45m      1 stop   \n",
       "...                     ...      ...           ...      ...         ...   \n",
       "2666        CCU → DEL → BLR    20:30  20:25 07 Jun  23h 55m      1 stop   \n",
       "2667              CCU → BLR    14:20         16:55   2h 35m    non-stop   \n",
       "2668        DEL → BOM → COK    21:50  04:25 07 Mar   6h 35m      1 stop   \n",
       "2669        DEL → BOM → COK    04:00         19:15  15h 15m      1 stop   \n",
       "2670        DEL → BOM → COK    04:55         19:15  14h 20m      1 stop   \n",
       "\n",
       "     Additional_Info    Price  \n",
       "0            No info   3897.0  \n",
       "1            No info   7662.0  \n",
       "2            No info  13882.0  \n",
       "3            No info   6218.0  \n",
       "4            No info  13302.0  \n",
       "...              ...      ...  \n",
       "2666         No info      NaN  \n",
       "2667         No info      NaN  \n",
       "2668         No info      NaN  \n",
       "2669         No info      NaN  \n",
       "2670         No info      NaN  \n",
       "\n",
       "[13354 rows x 11 columns]"
      ]
     },
     "execution_count": 164,
     "metadata": {},
     "output_type": "execute_result"
    }
   ],
   "source": [
    "df"
   ]
  },
  {
   "cell_type": "code",
   "execution_count": 165,
   "metadata": {},
   "outputs": [
    {
     "data": {
      "text/plain": [
       "(13354, 11)"
      ]
     },
     "execution_count": 165,
     "metadata": {},
     "output_type": "execute_result"
    }
   ],
   "source": [
    "df.shape"
   ]
  },
  {
   "cell_type": "code",
   "execution_count": 166,
   "metadata": {},
   "outputs": [
    {
     "data": {
      "text/plain": [
       "(10683, 11)"
      ]
     },
     "execution_count": 166,
     "metadata": {},
     "output_type": "execute_result"
    }
   ],
   "source": [
    "train_df.shape"
   ]
  },
  {
   "cell_type": "code",
   "execution_count": 167,
   "metadata": {},
   "outputs": [
    {
     "data": {
      "text/plain": [
       "(2671, 10)"
      ]
     },
     "execution_count": 167,
     "metadata": {},
     "output_type": "execute_result"
    }
   ],
   "source": [
    "test_df.shape"
   ]
  },
  {
   "cell_type": "raw",
   "metadata": {},
   "source": [
    "So we have 13354 rows and 11 columns in the merged dataset wherein 10683 are from training and 2671 are from test dataset"
   ]
  },
  {
   "cell_type": "markdown",
   "metadata": {},
   "source": [
    "## EDA"
   ]
  },
  {
   "cell_type": "code",
   "execution_count": 168,
   "metadata": {},
   "outputs": [
    {
     "data": {
      "text/plain": [
       "Index(['Airline', 'Date_of_Journey', 'Source', 'Destination', 'Route',\n",
       "       'Dep_Time', 'Arrival_Time', 'Duration', 'Total_Stops',\n",
       "       'Additional_Info', 'Price'],\n",
       "      dtype='object')"
      ]
     },
     "execution_count": 168,
     "metadata": {},
     "output_type": "execute_result"
    }
   ],
   "source": [
    "#Checking names of the columns\n",
    "df.columns"
   ]
  },
  {
   "cell_type": "code",
   "execution_count": 169,
   "metadata": {},
   "outputs": [
    {
     "data": {
      "text/plain": [
       "count    10683.000000\n",
       "mean      9087.064121\n",
       "std       4611.359167\n",
       "min       1759.000000\n",
       "25%       5277.000000\n",
       "50%       8372.000000\n",
       "75%      12373.000000\n",
       "max      79512.000000\n",
       "Name: Price, dtype: float64"
      ]
     },
     "execution_count": 169,
     "metadata": {},
     "output_type": "execute_result"
    }
   ],
   "source": [
    "# checking statistics of the target variable\n",
    "df['Price'].describe()"
   ]
  },
  {
   "cell_type": "markdown",
   "metadata": {},
   "source": [
    "The max price is Rs 79K & min is 1.7K. The avg price is around 9K"
   ]
  },
  {
   "cell_type": "markdown",
   "metadata": {},
   "source": [
    "The taget column here is Price. This is a linear regression problem. "
   ]
  },
  {
   "cell_type": "code",
   "execution_count": 170,
   "metadata": {},
   "outputs": [
    {
     "data": {
      "text/plain": [
       "Airline             object\n",
       "Date_of_Journey     object\n",
       "Source              object\n",
       "Destination         object\n",
       "Route               object\n",
       "Dep_Time            object\n",
       "Arrival_Time        object\n",
       "Duration            object\n",
       "Total_Stops         object\n",
       "Additional_Info     object\n",
       "Price              float64\n",
       "dtype: object"
      ]
     },
     "execution_count": 170,
     "metadata": {},
     "output_type": "execute_result"
    }
   ],
   "source": [
    "#Checking for the datatypes\n",
    "df.dtypes"
   ]
  },
  {
   "cell_type": "markdown",
   "metadata": {},
   "source": [
    "All the features available in th edataset are object type"
   ]
  },
  {
   "cell_type": "code",
   "execution_count": 171,
   "metadata": {},
   "outputs": [
    {
     "data": {
      "text/plain": [
       "Airline               0\n",
       "Date_of_Journey       0\n",
       "Source                0\n",
       "Destination           0\n",
       "Route                 1\n",
       "Dep_Time              0\n",
       "Arrival_Time          0\n",
       "Duration              0\n",
       "Total_Stops           1\n",
       "Additional_Info       0\n",
       "Price              2671\n",
       "dtype: int64"
      ]
     },
     "execution_count": 171,
     "metadata": {},
     "output_type": "execute_result"
    }
   ],
   "source": [
    "# Checking for the null values\n",
    "df.isnull().sum()"
   ]
  },
  {
   "cell_type": "markdown",
   "metadata": {},
   "source": [
    "We have many null values in the target column"
   ]
  },
  {
   "cell_type": "code",
   "execution_count": 172,
   "metadata": {},
   "outputs": [
    {
     "data": {
      "text/plain": [
       "Airline              12\n",
       "Date_of_Journey      44\n",
       "Source                5\n",
       "Destination           6\n",
       "Route               132\n",
       "Dep_Time            223\n",
       "Arrival_Time       1451\n",
       "Duration            374\n",
       "Total_Stops           5\n",
       "Additional_Info      10\n",
       "Price              1870\n",
       "dtype: int64"
      ]
     },
     "execution_count": 172,
     "metadata": {},
     "output_type": "execute_result"
    }
   ],
   "source": [
    "# Checking the unique counts for each feature\n",
    "df.nunique()"
   ]
  },
  {
   "cell_type": "code",
   "execution_count": 173,
   "metadata": {},
   "outputs": [
    {
     "name": "stdout",
     "output_type": "stream",
     "text": [
      "['IndiGo' 'Air India' 'Jet Airways' 'SpiceJet' 'Multiple carriers' 'GoAir'\n",
      " 'Vistara' 'Air Asia' 'Vistara Premium economy' 'Jet Airways Business'\n",
      " 'Multiple carriers Premium economy' 'Trujet']\n"
     ]
    }
   ],
   "source": [
    "print(df['Airline'].unique())"
   ]
  },
  {
   "cell_type": "code",
   "execution_count": 174,
   "metadata": {},
   "outputs": [
    {
     "name": "stdout",
     "output_type": "stream",
     "text": [
      "['Banglore' 'Kolkata' 'Delhi' 'Chennai' 'Mumbai']\n"
     ]
    }
   ],
   "source": [
    "print(df['Source'].unique())"
   ]
  },
  {
   "cell_type": "code",
   "execution_count": 175,
   "metadata": {},
   "outputs": [
    {
     "name": "stdout",
     "output_type": "stream",
     "text": [
      "['New Delhi' 'Banglore' 'Cochin' 'Kolkata' 'Delhi' 'Hyderabad']\n"
     ]
    }
   ],
   "source": [
    "print(df['Destination'].unique())"
   ]
  },
  {
   "cell_type": "code",
   "execution_count": 176,
   "metadata": {},
   "outputs": [
    {
     "name": "stdout",
     "output_type": "stream",
     "text": [
      "['non-stop' '2 stops' '1 stop' '3 stops' nan '4 stops']\n"
     ]
    }
   ],
   "source": [
    "print(df['Total_Stops'].unique())"
   ]
  },
  {
   "cell_type": "code",
   "execution_count": 177,
   "metadata": {},
   "outputs": [
    {
     "name": "stdout",
     "output_type": "stream",
     "text": [
      "<class 'pandas.core.frame.DataFrame'>\n",
      "Int64Index: 13354 entries, 0 to 2670\n",
      "Data columns (total 11 columns):\n",
      " #   Column           Non-Null Count  Dtype  \n",
      "---  ------           --------------  -----  \n",
      " 0   Airline          13354 non-null  object \n",
      " 1   Date_of_Journey  13354 non-null  object \n",
      " 2   Source           13354 non-null  object \n",
      " 3   Destination      13354 non-null  object \n",
      " 4   Route            13353 non-null  object \n",
      " 5   Dep_Time         13354 non-null  object \n",
      " 6   Arrival_Time     13354 non-null  object \n",
      " 7   Duration         13354 non-null  object \n",
      " 8   Total_Stops      13353 non-null  object \n",
      " 9   Additional_Info  13354 non-null  object \n",
      " 10  Price            10683 non-null  float64\n",
      "dtypes: float64(1), object(10)\n",
      "memory usage: 1.2+ MB\n"
     ]
    }
   ],
   "source": [
    "df.info()"
   ]
  },
  {
   "cell_type": "markdown",
   "metadata": {},
   "source": [
    "### Feature Engineering"
   ]
  },
  {
   "cell_type": "markdown",
   "metadata": {},
   "source": [
    "Extracting the day, month & year info from the Date_of_Journey column using split method"
   ]
  },
  {
   "cell_type": "code",
   "execution_count": 178,
   "metadata": {},
   "outputs": [],
   "source": [
    "df['Date'] =df['Date_of_Journey'].str.split('/').str[0].astype(int)\n",
    "df['Month'] =df['Date_of_Journey'].str.split('/').str[1].astype(int)\n",
    "df['year'] = df['Date_of_Journey'].str.split('/').str[2].astype(int)\n"
   ]
  },
  {
   "cell_type": "code",
   "execution_count": 179,
   "metadata": {},
   "outputs": [
    {
     "data": {
      "text/html": [
       "<div>\n",
       "<style scoped>\n",
       "    .dataframe tbody tr th:only-of-type {\n",
       "        vertical-align: middle;\n",
       "    }\n",
       "\n",
       "    .dataframe tbody tr th {\n",
       "        vertical-align: top;\n",
       "    }\n",
       "\n",
       "    .dataframe thead th {\n",
       "        text-align: right;\n",
       "    }\n",
       "</style>\n",
       "<table border=\"1\" class=\"dataframe\">\n",
       "  <thead>\n",
       "    <tr style=\"text-align: right;\">\n",
       "      <th></th>\n",
       "      <th>Airline</th>\n",
       "      <th>Date_of_Journey</th>\n",
       "      <th>Source</th>\n",
       "      <th>Destination</th>\n",
       "      <th>Route</th>\n",
       "      <th>Dep_Time</th>\n",
       "      <th>Arrival_Time</th>\n",
       "      <th>Duration</th>\n",
       "      <th>Total_Stops</th>\n",
       "      <th>Additional_Info</th>\n",
       "      <th>Price</th>\n",
       "      <th>Date</th>\n",
       "      <th>Month</th>\n",
       "      <th>year</th>\n",
       "    </tr>\n",
       "  </thead>\n",
       "  <tbody>\n",
       "    <tr>\n",
       "      <th>0</th>\n",
       "      <td>IndiGo</td>\n",
       "      <td>24/03/2019</td>\n",
       "      <td>Banglore</td>\n",
       "      <td>New Delhi</td>\n",
       "      <td>BLR → DEL</td>\n",
       "      <td>22:20</td>\n",
       "      <td>01:10 22 Mar</td>\n",
       "      <td>2h 50m</td>\n",
       "      <td>non-stop</td>\n",
       "      <td>No info</td>\n",
       "      <td>3897.0</td>\n",
       "      <td>24</td>\n",
       "      <td>3</td>\n",
       "      <td>2019</td>\n",
       "    </tr>\n",
       "    <tr>\n",
       "      <th>1</th>\n",
       "      <td>Air India</td>\n",
       "      <td>1/05/2019</td>\n",
       "      <td>Kolkata</td>\n",
       "      <td>Banglore</td>\n",
       "      <td>CCU → IXR → BBI → BLR</td>\n",
       "      <td>05:50</td>\n",
       "      <td>13:15</td>\n",
       "      <td>7h 25m</td>\n",
       "      <td>2 stops</td>\n",
       "      <td>No info</td>\n",
       "      <td>7662.0</td>\n",
       "      <td>1</td>\n",
       "      <td>5</td>\n",
       "      <td>2019</td>\n",
       "    </tr>\n",
       "    <tr>\n",
       "      <th>2</th>\n",
       "      <td>Jet Airways</td>\n",
       "      <td>9/06/2019</td>\n",
       "      <td>Delhi</td>\n",
       "      <td>Cochin</td>\n",
       "      <td>DEL → LKO → BOM → COK</td>\n",
       "      <td>09:25</td>\n",
       "      <td>04:25 10 Jun</td>\n",
       "      <td>19h</td>\n",
       "      <td>2 stops</td>\n",
       "      <td>No info</td>\n",
       "      <td>13882.0</td>\n",
       "      <td>9</td>\n",
       "      <td>6</td>\n",
       "      <td>2019</td>\n",
       "    </tr>\n",
       "    <tr>\n",
       "      <th>3</th>\n",
       "      <td>IndiGo</td>\n",
       "      <td>12/05/2019</td>\n",
       "      <td>Kolkata</td>\n",
       "      <td>Banglore</td>\n",
       "      <td>CCU → NAG → BLR</td>\n",
       "      <td>18:05</td>\n",
       "      <td>23:30</td>\n",
       "      <td>5h 25m</td>\n",
       "      <td>1 stop</td>\n",
       "      <td>No info</td>\n",
       "      <td>6218.0</td>\n",
       "      <td>12</td>\n",
       "      <td>5</td>\n",
       "      <td>2019</td>\n",
       "    </tr>\n",
       "    <tr>\n",
       "      <th>4</th>\n",
       "      <td>IndiGo</td>\n",
       "      <td>01/03/2019</td>\n",
       "      <td>Banglore</td>\n",
       "      <td>New Delhi</td>\n",
       "      <td>BLR → NAG → DEL</td>\n",
       "      <td>16:50</td>\n",
       "      <td>21:35</td>\n",
       "      <td>4h 45m</td>\n",
       "      <td>1 stop</td>\n",
       "      <td>No info</td>\n",
       "      <td>13302.0</td>\n",
       "      <td>1</td>\n",
       "      <td>3</td>\n",
       "      <td>2019</td>\n",
       "    </tr>\n",
       "  </tbody>\n",
       "</table>\n",
       "</div>"
      ],
      "text/plain": [
       "       Airline Date_of_Journey    Source Destination                  Route  \\\n",
       "0       IndiGo      24/03/2019  Banglore   New Delhi              BLR → DEL   \n",
       "1    Air India       1/05/2019   Kolkata    Banglore  CCU → IXR → BBI → BLR   \n",
       "2  Jet Airways       9/06/2019     Delhi      Cochin  DEL → LKO → BOM → COK   \n",
       "3       IndiGo      12/05/2019   Kolkata    Banglore        CCU → NAG → BLR   \n",
       "4       IndiGo      01/03/2019  Banglore   New Delhi        BLR → NAG → DEL   \n",
       "\n",
       "  Dep_Time  Arrival_Time Duration Total_Stops Additional_Info    Price  Date  \\\n",
       "0    22:20  01:10 22 Mar   2h 50m    non-stop         No info   3897.0    24   \n",
       "1    05:50         13:15   7h 25m     2 stops         No info   7662.0     1   \n",
       "2    09:25  04:25 10 Jun      19h     2 stops         No info  13882.0     9   \n",
       "3    18:05         23:30   5h 25m      1 stop         No info   6218.0    12   \n",
       "4    16:50         21:35   4h 45m      1 stop         No info  13302.0     1   \n",
       "\n",
       "   Month  year  \n",
       "0      3  2019  \n",
       "1      5  2019  \n",
       "2      6  2019  \n",
       "3      5  2019  \n",
       "4      3  2019  "
      ]
     },
     "execution_count": 179,
     "metadata": {},
     "output_type": "execute_result"
    }
   ],
   "source": [
    "df.head()"
   ]
  },
  {
   "cell_type": "markdown",
   "metadata": {},
   "source": [
    "As we have extracted the day, month & year info we can drop the Date_of_Journey column"
   ]
  },
  {
   "cell_type": "code",
   "execution_count": 180,
   "metadata": {},
   "outputs": [],
   "source": [
    "#Removing Date_of_Journey column\n",
    "df.drop(columns='Date_of_Journey',inplace=True)"
   ]
  },
  {
   "cell_type": "code",
   "execution_count": 181,
   "metadata": {},
   "outputs": [],
   "source": [
    "df['Dep_hour'] = df['Dep_Time'].str.split(':').str[0].astype('int')\n",
    "df['Dep_minute'] = df['Dep_Time'].str.split(':').str[1].astype('int')"
   ]
  },
  {
   "cell_type": "code",
   "execution_count": 182,
   "metadata": {},
   "outputs": [],
   "source": [
    "# Removing Dep time column\n",
    "df.drop(columns='Dep_Time',inplace=True)"
   ]
  },
  {
   "cell_type": "code",
   "execution_count": 183,
   "metadata": {},
   "outputs": [],
   "source": [
    "df['Arrival_hr'] = df['Arrival_Time'].str.split(':').str[0].astype('int')\n"
   ]
  },
  {
   "cell_type": "code",
   "execution_count": 184,
   "metadata": {},
   "outputs": [],
   "source": [
    "df['Arrival_min'] = df['Arrival_Time'].str.split(' ').str[0]"
   ]
  },
  {
   "cell_type": "code",
   "execution_count": 185,
   "metadata": {},
   "outputs": [
    {
     "data": {
      "text/plain": [
       "0       01:10\n",
       "1       13:15\n",
       "2       04:25\n",
       "3       23:30\n",
       "4       21:35\n",
       "        ...  \n",
       "2666    20:25\n",
       "2667    16:55\n",
       "2668    04:25\n",
       "2669    19:15\n",
       "2670    19:15\n",
       "Name: Arrival_min, Length: 13354, dtype: object"
      ]
     },
     "execution_count": 185,
     "metadata": {},
     "output_type": "execute_result"
    }
   ],
   "source": [
    "df['Arrival_min'] "
   ]
  },
  {
   "cell_type": "code",
   "execution_count": 186,
   "metadata": {},
   "outputs": [],
   "source": [
    "df['Arrival_min'] = df['Arrival_min'].str.split(':').str[1].astype('int')"
   ]
  },
  {
   "cell_type": "code",
   "execution_count": 187,
   "metadata": {},
   "outputs": [
    {
     "data": {
      "text/plain": [
       "0       10\n",
       "1       15\n",
       "2       25\n",
       "3       30\n",
       "4       35\n",
       "        ..\n",
       "2666    25\n",
       "2667    55\n",
       "2668    25\n",
       "2669    15\n",
       "2670    15\n",
       "Name: Arrival_min, Length: 13354, dtype: int32"
      ]
     },
     "execution_count": 187,
     "metadata": {},
     "output_type": "execute_result"
    }
   ],
   "source": [
    "df['Arrival_min']"
   ]
  },
  {
   "cell_type": "code",
   "execution_count": 188,
   "metadata": {},
   "outputs": [],
   "source": [
    "df.drop(columns='Arrival_Time',inplace=True)"
   ]
  },
  {
   "cell_type": "code",
   "execution_count": 189,
   "metadata": {},
   "outputs": [
    {
     "data": {
      "text/plain": [
       "Index(['Airline', 'Source', 'Destination', 'Route', 'Duration', 'Total_Stops',\n",
       "       'Additional_Info', 'Price', 'Date', 'Month', 'year', 'Dep_hour',\n",
       "       'Dep_minute', 'Arrival_hr', 'Arrival_min'],\n",
       "      dtype='object')"
      ]
     },
     "execution_count": 189,
     "metadata": {},
     "output_type": "execute_result"
    }
   ],
   "source": [
    "df.columns"
   ]
  },
  {
   "cell_type": "code",
   "execution_count": 190,
   "metadata": {},
   "outputs": [
    {
     "name": "stdout",
     "output_type": "stream",
     "text": [
      "<class 'pandas.core.frame.DataFrame'>\n",
      "Int64Index: 13354 entries, 0 to 2670\n",
      "Data columns (total 15 columns):\n",
      " #   Column           Non-Null Count  Dtype  \n",
      "---  ------           --------------  -----  \n",
      " 0   Airline          13354 non-null  object \n",
      " 1   Source           13354 non-null  object \n",
      " 2   Destination      13354 non-null  object \n",
      " 3   Route            13353 non-null  object \n",
      " 4   Duration         13354 non-null  object \n",
      " 5   Total_Stops      13353 non-null  object \n",
      " 6   Additional_Info  13354 non-null  object \n",
      " 7   Price            10683 non-null  float64\n",
      " 8   Date             13354 non-null  int32  \n",
      " 9   Month            13354 non-null  int32  \n",
      " 10  year             13354 non-null  int32  \n",
      " 11  Dep_hour         13354 non-null  int32  \n",
      " 12  Dep_minute       13354 non-null  int32  \n",
      " 13  Arrival_hr       13354 non-null  int32  \n",
      " 14  Arrival_min      13354 non-null  int32  \n",
      "dtypes: float64(1), int32(7), object(7)\n",
      "memory usage: 1.3+ MB\n"
     ]
    }
   ],
   "source": [
    "df.info()"
   ]
  },
  {
   "cell_type": "code",
   "execution_count": null,
   "metadata": {},
   "outputs": [],
   "source": []
  },
  {
   "cell_type": "code",
   "execution_count": 191,
   "metadata": {},
   "outputs": [
    {
     "data": {
      "text/plain": [
       "1"
      ]
     },
     "execution_count": 191,
     "metadata": {},
     "output_type": "execute_result"
    }
   ],
   "source": [
    "df['Total_Stops'].isnull().sum()"
   ]
  },
  {
   "cell_type": "code",
   "execution_count": 192,
   "metadata": {},
   "outputs": [
    {
     "data": {
      "text/html": [
       "<div>\n",
       "<style scoped>\n",
       "    .dataframe tbody tr th:only-of-type {\n",
       "        vertical-align: middle;\n",
       "    }\n",
       "\n",
       "    .dataframe tbody tr th {\n",
       "        vertical-align: top;\n",
       "    }\n",
       "\n",
       "    .dataframe thead th {\n",
       "        text-align: right;\n",
       "    }\n",
       "</style>\n",
       "<table border=\"1\" class=\"dataframe\">\n",
       "  <thead>\n",
       "    <tr style=\"text-align: right;\">\n",
       "      <th></th>\n",
       "      <th>Airline</th>\n",
       "      <th>Source</th>\n",
       "      <th>Destination</th>\n",
       "      <th>Route</th>\n",
       "      <th>Duration</th>\n",
       "      <th>Total_Stops</th>\n",
       "      <th>Additional_Info</th>\n",
       "      <th>Price</th>\n",
       "      <th>Date</th>\n",
       "      <th>Month</th>\n",
       "      <th>year</th>\n",
       "      <th>Dep_hour</th>\n",
       "      <th>Dep_minute</th>\n",
       "      <th>Arrival_hr</th>\n",
       "      <th>Arrival_min</th>\n",
       "    </tr>\n",
       "  </thead>\n",
       "  <tbody>\n",
       "    <tr>\n",
       "      <th>9039</th>\n",
       "      <td>Air India</td>\n",
       "      <td>Delhi</td>\n",
       "      <td>Cochin</td>\n",
       "      <td>NaN</td>\n",
       "      <td>23h 40m</td>\n",
       "      <td>NaN</td>\n",
       "      <td>No info</td>\n",
       "      <td>7480.0</td>\n",
       "      <td>6</td>\n",
       "      <td>5</td>\n",
       "      <td>2019</td>\n",
       "      <td>9</td>\n",
       "      <td>45</td>\n",
       "      <td>9</td>\n",
       "      <td>25</td>\n",
       "    </tr>\n",
       "  </tbody>\n",
       "</table>\n",
       "</div>"
      ],
      "text/plain": [
       "        Airline Source Destination Route Duration Total_Stops Additional_Info  \\\n",
       "9039  Air India  Delhi      Cochin   NaN  23h 40m         NaN         No info   \n",
       "\n",
       "       Price  Date  Month  year  Dep_hour  Dep_minute  Arrival_hr  Arrival_min  \n",
       "9039  7480.0     6      5  2019         9          45           9           25  "
      ]
     },
     "execution_count": 192,
     "metadata": {},
     "output_type": "execute_result"
    }
   ],
   "source": [
    "#We have 1 null value in Total stop column\n",
    "df[df['Total_Stops'].isnull()]"
   ]
  },
  {
   "cell_type": "code",
   "execution_count": 193,
   "metadata": {},
   "outputs": [],
   "source": [
    "# replacing null value with mean\n",
    "df['Total_Stops']=df['Total_Stops'].fillna(df['Total_Stops'].mode()[0])"
   ]
  },
  {
   "cell_type": "code",
   "execution_count": 194,
   "metadata": {},
   "outputs": [
    {
     "data": {
      "text/plain": [
       "0"
      ]
     },
     "execution_count": 194,
     "metadata": {},
     "output_type": "execute_result"
    }
   ],
   "source": [
    "df['Total_Stops'].isnull().sum()"
   ]
  },
  {
   "cell_type": "code",
   "execution_count": 195,
   "metadata": {},
   "outputs": [
    {
     "data": {
      "text/plain": [
       "array(['non-stop', '2 stops', '1 stop', '3 stops', '4 stops'],\n",
       "      dtype=object)"
      ]
     },
     "execution_count": 195,
     "metadata": {},
     "output_type": "execute_result"
    }
   ],
   "source": [
    "df['Total_Stops'].unique()"
   ]
  },
  {
   "cell_type": "code",
   "execution_count": 196,
   "metadata": {},
   "outputs": [],
   "source": [
    "#Non stop can be replaced with 0 \n",
    "df['Total_Stops']=df['Total_Stops'].replace('non-stop','0')"
   ]
  },
  {
   "cell_type": "code",
   "execution_count": 197,
   "metadata": {},
   "outputs": [
    {
     "data": {
      "text/plain": [
       "array(['0', '2 stops', '1 stop', '3 stops', '4 stops'], dtype=object)"
      ]
     },
     "execution_count": 197,
     "metadata": {},
     "output_type": "execute_result"
    }
   ],
   "source": [
    "df['Total_Stops'].unique()"
   ]
  },
  {
   "cell_type": "code",
   "execution_count": 198,
   "metadata": {},
   "outputs": [],
   "source": [
    "df['Total_Stops'] = df['Total_Stops'].str.split(' ').str[0].astype('int')"
   ]
  },
  {
   "cell_type": "code",
   "execution_count": 199,
   "metadata": {},
   "outputs": [
    {
     "data": {
      "text/plain": [
       "array([0, 2, 1, 3, 4])"
      ]
     },
     "execution_count": 199,
     "metadata": {},
     "output_type": "execute_result"
    }
   ],
   "source": [
    "df['Total_Stops'].unique()"
   ]
  },
  {
   "cell_type": "markdown",
   "metadata": {},
   "source": [
    "Thus we have scuceessfully converted object type into numerical type"
   ]
  },
  {
   "cell_type": "code",
   "execution_count": 200,
   "metadata": {},
   "outputs": [
    {
     "data": {
      "text/plain": [
       "Index(['Airline', 'Source', 'Destination', 'Route', 'Duration', 'Total_Stops',\n",
       "       'Additional_Info', 'Price', 'Date', 'Month', 'year', 'Dep_hour',\n",
       "       'Dep_minute', 'Arrival_hr', 'Arrival_min'],\n",
       "      dtype='object')"
      ]
     },
     "execution_count": 200,
     "metadata": {},
     "output_type": "execute_result"
    }
   ],
   "source": [
    "df.columns"
   ]
  },
  {
   "cell_type": "code",
   "execution_count": 201,
   "metadata": {},
   "outputs": [
    {
     "data": {
      "text/plain": [
       "array(['No info', 'In-flight meal not included',\n",
       "       'No check-in baggage included', '1 Short layover', 'No Info',\n",
       "       '1 Long layover', 'Change airports', 'Business class',\n",
       "       'Red-eye flight', '2 Long layover'], dtype=object)"
      ]
     },
     "execution_count": 201,
     "metadata": {},
     "output_type": "execute_result"
    }
   ],
   "source": [
    "df['Additional_Info'].unique()"
   ]
  },
  {
   "cell_type": "raw",
   "metadata": {},
   "source": [
    "Checking for price column"
   ]
  },
  {
   "cell_type": "code",
   "execution_count": 202,
   "metadata": {},
   "outputs": [
    {
     "data": {
      "text/plain": [
       "2671"
      ]
     },
     "execution_count": 202,
     "metadata": {},
     "output_type": "execute_result"
    }
   ],
   "source": [
    "df['Price'].isnull().sum()"
   ]
  },
  {
   "cell_type": "code",
   "execution_count": 203,
   "metadata": {},
   "outputs": [],
   "source": [
    "df['Price']=df['Price'].fillna(df['Price'].mean())"
   ]
  },
  {
   "cell_type": "code",
   "execution_count": 204,
   "metadata": {},
   "outputs": [
    {
     "data": {
      "text/html": [
       "<div>\n",
       "<style scoped>\n",
       "    .dataframe tbody tr th:only-of-type {\n",
       "        vertical-align: middle;\n",
       "    }\n",
       "\n",
       "    .dataframe tbody tr th {\n",
       "        vertical-align: top;\n",
       "    }\n",
       "\n",
       "    .dataframe thead th {\n",
       "        text-align: right;\n",
       "    }\n",
       "</style>\n",
       "<table border=\"1\" class=\"dataframe\">\n",
       "  <thead>\n",
       "    <tr style=\"text-align: right;\">\n",
       "      <th></th>\n",
       "      <th>Airline</th>\n",
       "      <th>Source</th>\n",
       "      <th>Destination</th>\n",
       "      <th>Route</th>\n",
       "      <th>Duration</th>\n",
       "      <th>Total_Stops</th>\n",
       "      <th>Additional_Info</th>\n",
       "      <th>Price</th>\n",
       "      <th>Date</th>\n",
       "      <th>Month</th>\n",
       "      <th>year</th>\n",
       "      <th>Dep_hour</th>\n",
       "      <th>Dep_minute</th>\n",
       "      <th>Arrival_hr</th>\n",
       "      <th>Arrival_min</th>\n",
       "    </tr>\n",
       "  </thead>\n",
       "  <tbody>\n",
       "    <tr>\n",
       "      <th>0</th>\n",
       "      <td>IndiGo</td>\n",
       "      <td>Banglore</td>\n",
       "      <td>New Delhi</td>\n",
       "      <td>BLR → DEL</td>\n",
       "      <td>2h 50m</td>\n",
       "      <td>0</td>\n",
       "      <td>No info</td>\n",
       "      <td>3897.0</td>\n",
       "      <td>24</td>\n",
       "      <td>3</td>\n",
       "      <td>2019</td>\n",
       "      <td>22</td>\n",
       "      <td>20</td>\n",
       "      <td>1</td>\n",
       "      <td>10</td>\n",
       "    </tr>\n",
       "    <tr>\n",
       "      <th>1</th>\n",
       "      <td>Air India</td>\n",
       "      <td>Kolkata</td>\n",
       "      <td>Banglore</td>\n",
       "      <td>CCU → IXR → BBI → BLR</td>\n",
       "      <td>7h 25m</td>\n",
       "      <td>2</td>\n",
       "      <td>No info</td>\n",
       "      <td>7662.0</td>\n",
       "      <td>1</td>\n",
       "      <td>5</td>\n",
       "      <td>2019</td>\n",
       "      <td>5</td>\n",
       "      <td>50</td>\n",
       "      <td>13</td>\n",
       "      <td>15</td>\n",
       "    </tr>\n",
       "    <tr>\n",
       "      <th>2</th>\n",
       "      <td>Jet Airways</td>\n",
       "      <td>Delhi</td>\n",
       "      <td>Cochin</td>\n",
       "      <td>DEL → LKO → BOM → COK</td>\n",
       "      <td>19h</td>\n",
       "      <td>2</td>\n",
       "      <td>No info</td>\n",
       "      <td>13882.0</td>\n",
       "      <td>9</td>\n",
       "      <td>6</td>\n",
       "      <td>2019</td>\n",
       "      <td>9</td>\n",
       "      <td>25</td>\n",
       "      <td>4</td>\n",
       "      <td>25</td>\n",
       "    </tr>\n",
       "    <tr>\n",
       "      <th>3</th>\n",
       "      <td>IndiGo</td>\n",
       "      <td>Kolkata</td>\n",
       "      <td>Banglore</td>\n",
       "      <td>CCU → NAG → BLR</td>\n",
       "      <td>5h 25m</td>\n",
       "      <td>1</td>\n",
       "      <td>No info</td>\n",
       "      <td>6218.0</td>\n",
       "      <td>12</td>\n",
       "      <td>5</td>\n",
       "      <td>2019</td>\n",
       "      <td>18</td>\n",
       "      <td>5</td>\n",
       "      <td>23</td>\n",
       "      <td>30</td>\n",
       "    </tr>\n",
       "    <tr>\n",
       "      <th>4</th>\n",
       "      <td>IndiGo</td>\n",
       "      <td>Banglore</td>\n",
       "      <td>New Delhi</td>\n",
       "      <td>BLR → NAG → DEL</td>\n",
       "      <td>4h 45m</td>\n",
       "      <td>1</td>\n",
       "      <td>No info</td>\n",
       "      <td>13302.0</td>\n",
       "      <td>1</td>\n",
       "      <td>3</td>\n",
       "      <td>2019</td>\n",
       "      <td>16</td>\n",
       "      <td>50</td>\n",
       "      <td>21</td>\n",
       "      <td>35</td>\n",
       "    </tr>\n",
       "  </tbody>\n",
       "</table>\n",
       "</div>"
      ],
      "text/plain": [
       "       Airline    Source Destination                  Route Duration  \\\n",
       "0       IndiGo  Banglore   New Delhi              BLR → DEL   2h 50m   \n",
       "1    Air India   Kolkata    Banglore  CCU → IXR → BBI → BLR   7h 25m   \n",
       "2  Jet Airways     Delhi      Cochin  DEL → LKO → BOM → COK      19h   \n",
       "3       IndiGo   Kolkata    Banglore        CCU → NAG → BLR   5h 25m   \n",
       "4       IndiGo  Banglore   New Delhi        BLR → NAG → DEL   4h 45m   \n",
       "\n",
       "   Total_Stops Additional_Info    Price  Date  Month  year  Dep_hour  \\\n",
       "0            0         No info   3897.0    24      3  2019        22   \n",
       "1            2         No info   7662.0     1      5  2019         5   \n",
       "2            2         No info  13882.0     9      6  2019         9   \n",
       "3            1         No info   6218.0    12      5  2019        18   \n",
       "4            1         No info  13302.0     1      3  2019        16   \n",
       "\n",
       "   Dep_minute  Arrival_hr  Arrival_min  \n",
       "0          20           1           10  \n",
       "1          50          13           15  \n",
       "2          25           4           25  \n",
       "3           5          23           30  \n",
       "4          50          21           35  "
      ]
     },
     "execution_count": 204,
     "metadata": {},
     "output_type": "execute_result"
    }
   ],
   "source": [
    "df.head(5)"
   ]
  },
  {
   "cell_type": "code",
   "execution_count": 205,
   "metadata": {},
   "outputs": [
    {
     "data": {
      "text/plain": [
       "array(['BLR → DEL', 'CCU → IXR → BBI → BLR', 'DEL → LKO → BOM → COK',\n",
       "       'CCU → NAG → BLR', 'BLR → NAG → DEL', 'CCU → BLR',\n",
       "       'BLR → BOM → DEL', 'DEL → BOM → COK', 'DEL → BLR → COK',\n",
       "       'MAA → CCU', 'CCU → BOM → BLR', 'DEL → AMD → BOM → COK',\n",
       "       'DEL → PNQ → COK', 'DEL → CCU → BOM → COK', 'BLR → COK → DEL',\n",
       "       'DEL → IDR → BOM → COK', 'DEL → LKO → COK',\n",
       "       'CCU → GAU → DEL → BLR', 'DEL → NAG → BOM → COK',\n",
       "       'CCU → MAA → BLR', 'DEL → HYD → COK', 'CCU → HYD → BLR',\n",
       "       'DEL → COK', 'CCU → DEL → BLR', 'BLR → BOM → AMD → DEL',\n",
       "       'BOM → DEL → HYD', 'DEL → MAA → COK', 'BOM → HYD',\n",
       "       'DEL → BHO → BOM → COK', 'DEL → JAI → BOM → COK',\n",
       "       'DEL → ATQ → BOM → COK', 'DEL → JDH → BOM → COK',\n",
       "       'CCU → BBI → BOM → BLR', 'BLR → MAA → DEL',\n",
       "       'DEL → GOI → BOM → COK', 'DEL → BDQ → BOM → COK',\n",
       "       'CCU → JAI → BOM → BLR', 'CCU → BBI → BLR', 'BLR → HYD → DEL',\n",
       "       'DEL → TRV → COK', 'CCU → IXR → DEL → BLR',\n",
       "       'DEL → IXU → BOM → COK', 'CCU → IXB → BLR',\n",
       "       'BLR → BOM → JDH → DEL', 'DEL → UDR → BOM → COK',\n",
       "       'DEL → HYD → MAA → COK', 'CCU → BOM → COK → BLR',\n",
       "       'BLR → CCU → DEL', 'CCU → BOM → GOI → BLR',\n",
       "       'DEL → RPR → NAG → BOM → COK', 'DEL → HYD → BOM → COK',\n",
       "       'CCU → DEL → AMD → BLR', 'CCU → PNQ → BLR',\n",
       "       'BLR → CCU → GAU → DEL', 'CCU → DEL → COK → BLR',\n",
       "       'BLR → PNQ → DEL', 'BOM → JDH → DEL → HYD',\n",
       "       'BLR → BOM → BHO → DEL', 'DEL → AMD → COK', 'BLR → LKO → DEL',\n",
       "       'CCU → GAU → BLR', 'BOM → GOI → HYD', 'CCU → BOM → AMD → BLR',\n",
       "       'CCU → BBI → IXR → DEL → BLR', 'DEL → DED → BOM → COK',\n",
       "       'DEL → MAA → BOM → COK', 'BLR → AMD → DEL', 'BLR → VGA → DEL',\n",
       "       'CCU → JAI → DEL → BLR', 'CCU → AMD → BLR',\n",
       "       'CCU → VNS → DEL → BLR', 'BLR → BOM → IDR → DEL',\n",
       "       'BLR → BBI → DEL', 'BLR → GOI → DEL', 'BOM → AMD → ISK → HYD',\n",
       "       'BOM → DED → DEL → HYD', 'DEL → IXC → BOM → COK',\n",
       "       'CCU → PAT → BLR', 'BLR → CCU → BBI → DEL',\n",
       "       'CCU → BBI → HYD → BLR', 'BLR → BOM → NAG → DEL',\n",
       "       'BLR → CCU → BBI → HYD → DEL', 'BLR → GAU → DEL',\n",
       "       'BOM → BHO → DEL → HYD', 'BOM → JLR → HYD',\n",
       "       'BLR → HYD → VGA → DEL', 'CCU → KNU → BLR',\n",
       "       'CCU → BOM → PNQ → BLR', 'DEL → BBI → COK',\n",
       "       'BLR → VGA → HYD → DEL', 'BOM → JDH → JAI → DEL → HYD',\n",
       "       'DEL → GWL → IDR → BOM → COK', 'CCU → RPR → HYD → BLR',\n",
       "       'CCU → VTZ → BLR', 'CCU → DEL → VGA → BLR',\n",
       "       'BLR → BOM → IDR → GWL → DEL', 'CCU → DEL → COK → TRV → BLR',\n",
       "       'BOM → COK → MAA → HYD', 'BOM → NDC → HYD', 'BLR → BDQ → DEL',\n",
       "       'CCU → BOM → TRV → BLR', 'CCU → BOM → HBX → BLR',\n",
       "       'BOM → BDQ → DEL → HYD', 'BOM → CCU → HYD',\n",
       "       'BLR → TRV → COK → DEL', 'BLR → IDR → DEL',\n",
       "       'CCU → IXZ → MAA → BLR', 'CCU → GAU → IMF → DEL → BLR',\n",
       "       'BOM → GOI → PNQ → HYD', 'BOM → BLR → CCU → BBI → HYD',\n",
       "       'BOM → MAA → HYD', 'BLR → BOM → UDR → DEL',\n",
       "       'BOM → UDR → DEL → HYD', 'BLR → VGA → VTZ → DEL',\n",
       "       'BLR → HBX → BOM → BHO → DEL', 'CCU → IXA → BLR',\n",
       "       'BOM → RPR → VTZ → HYD', 'BLR → HBX → BOM → AMD → DEL',\n",
       "       'BOM → IDR → DEL → HYD', 'BOM → BLR → HYD', 'BLR → STV → DEL',\n",
       "       'CCU → IXB → DEL → BLR', 'BOM → JAI → DEL → HYD',\n",
       "       'BOM → VNS → DEL → HYD', 'BLR → HBX → BOM → NAG → DEL', nan,\n",
       "       'BLR → BOM → IXC → DEL', 'BLR → CCU → BBI → HYD → VGA → DEL',\n",
       "       'BOM → BBI → HYD', 'BLR → TRV → DEL',\n",
       "       'CCU → IXR → BBI → BOM → BLR', 'BOM → VGA → TIR → HYD',\n",
       "       'BOM → IXC → DEL → HYD'], dtype=object)"
      ]
     },
     "execution_count": 205,
     "metadata": {},
     "output_type": "execute_result"
    }
   ],
   "source": [
    "# Checking for route column\n",
    "df['Route'].unique()"
   ]
  },
  {
   "cell_type": "code",
   "execution_count": 206,
   "metadata": {},
   "outputs": [],
   "source": [
    "df['Route1']=df['Route'].str.split('→').str[0]"
   ]
  },
  {
   "cell_type": "code",
   "execution_count": 207,
   "metadata": {},
   "outputs": [],
   "source": [
    "df['Route2']=df['Route'].str.split('→').str[1]\n",
    "df['Route3']=df['Route'].str.split('→').str[2]\n",
    "df['Route4']=df['Route'].str.split('→').str[3]\n",
    "df['Route5']=df['Route'].str.split('→').str[4]\n",
    "df['Route6']=df['Route'].str.split('→').str[5]"
   ]
  },
  {
   "cell_type": "code",
   "execution_count": 208,
   "metadata": {},
   "outputs": [],
   "source": [
    "df['Duration_hr']=df['Duration'].str.split(' ').str[0]"
   ]
  },
  {
   "cell_type": "code",
   "execution_count": 209,
   "metadata": {},
   "outputs": [],
   "source": [
    "df['Duration_hr']=df['Duration_hr'].str[0]"
   ]
  },
  {
   "cell_type": "code",
   "execution_count": 210,
   "metadata": {},
   "outputs": [],
   "source": [
    "df['Duration_hr'].fillna(0,inplace=True)"
   ]
  },
  {
   "cell_type": "code",
   "execution_count": 258,
   "metadata": {},
   "outputs": [],
   "source": [
    "df['Duration_hr']=df['Duration_hr'].astype(int)"
   ]
  },
  {
   "cell_type": "code",
   "execution_count": 212,
   "metadata": {},
   "outputs": [],
   "source": [
    "df['Duration_min']=df['Duration'].str.split(' ').str[1]"
   ]
  },
  {
   "cell_type": "code",
   "execution_count": 213,
   "metadata": {},
   "outputs": [],
   "source": [
    "df['Duration_min']=df['Duration_min'].str[0]"
   ]
  },
  {
   "cell_type": "code",
   "execution_count": 214,
   "metadata": {},
   "outputs": [
    {
     "data": {
      "text/plain": [
       "1286"
      ]
     },
     "execution_count": 214,
     "metadata": {},
     "output_type": "execute_result"
    }
   ],
   "source": [
    "df['Duration_min'].isnull().sum()"
   ]
  },
  {
   "cell_type": "code",
   "execution_count": 215,
   "metadata": {},
   "outputs": [
    {
     "data": {
      "text/plain": [
       "array(['5', '2', nan, '4', '3', '1'], dtype=object)"
      ]
     },
     "execution_count": 215,
     "metadata": {},
     "output_type": "execute_result"
    }
   ],
   "source": [
    "df['Duration_min'].unique()"
   ]
  },
  {
   "cell_type": "code",
   "execution_count": 216,
   "metadata": {},
   "outputs": [],
   "source": [
    "# replacing nan value with 0\n",
    "df['Duration_min'].fillna(0,inplace=True)"
   ]
  },
  {
   "cell_type": "code",
   "execution_count": 217,
   "metadata": {},
   "outputs": [
    {
     "data": {
      "text/plain": [
       "0"
      ]
     },
     "execution_count": 217,
     "metadata": {},
     "output_type": "execute_result"
    }
   ],
   "source": [
    "df['Duration_min'].isnull().sum()"
   ]
  },
  {
   "cell_type": "code",
   "execution_count": 257,
   "metadata": {},
   "outputs": [],
   "source": [
    "df['Duration_min']=df['Duration_min'].astype(int)"
   ]
  },
  {
   "cell_type": "code",
   "execution_count": 219,
   "metadata": {},
   "outputs": [],
   "source": [
    "df.drop(columns='Duration',inplace=True)"
   ]
  },
  {
   "cell_type": "code",
   "execution_count": 220,
   "metadata": {},
   "outputs": [
    {
     "data": {
      "text/html": [
       "<div>\n",
       "<style scoped>\n",
       "    .dataframe tbody tr th:only-of-type {\n",
       "        vertical-align: middle;\n",
       "    }\n",
       "\n",
       "    .dataframe tbody tr th {\n",
       "        vertical-align: top;\n",
       "    }\n",
       "\n",
       "    .dataframe thead th {\n",
       "        text-align: right;\n",
       "    }\n",
       "</style>\n",
       "<table border=\"1\" class=\"dataframe\">\n",
       "  <thead>\n",
       "    <tr style=\"text-align: right;\">\n",
       "      <th></th>\n",
       "      <th>Airline</th>\n",
       "      <th>Source</th>\n",
       "      <th>Destination</th>\n",
       "      <th>Route</th>\n",
       "      <th>Total_Stops</th>\n",
       "      <th>Additional_Info</th>\n",
       "      <th>Price</th>\n",
       "      <th>Date</th>\n",
       "      <th>Month</th>\n",
       "      <th>year</th>\n",
       "      <th>...</th>\n",
       "      <th>Arrival_hr</th>\n",
       "      <th>Arrival_min</th>\n",
       "      <th>Route1</th>\n",
       "      <th>Route2</th>\n",
       "      <th>Route3</th>\n",
       "      <th>Route4</th>\n",
       "      <th>Route5</th>\n",
       "      <th>Route6</th>\n",
       "      <th>Duration_hr</th>\n",
       "      <th>Duration_min</th>\n",
       "    </tr>\n",
       "  </thead>\n",
       "  <tbody>\n",
       "    <tr>\n",
       "      <th>0</th>\n",
       "      <td>IndiGo</td>\n",
       "      <td>Banglore</td>\n",
       "      <td>New Delhi</td>\n",
       "      <td>BLR → DEL</td>\n",
       "      <td>0</td>\n",
       "      <td>No info</td>\n",
       "      <td>3897.0</td>\n",
       "      <td>24</td>\n",
       "      <td>3</td>\n",
       "      <td>2019</td>\n",
       "      <td>...</td>\n",
       "      <td>1</td>\n",
       "      <td>10</td>\n",
       "      <td>BLR</td>\n",
       "      <td>DEL</td>\n",
       "      <td>NaN</td>\n",
       "      <td>NaN</td>\n",
       "      <td>NaN</td>\n",
       "      <td>NaN</td>\n",
       "      <td>2</td>\n",
       "      <td>5</td>\n",
       "    </tr>\n",
       "    <tr>\n",
       "      <th>1</th>\n",
       "      <td>Air India</td>\n",
       "      <td>Kolkata</td>\n",
       "      <td>Banglore</td>\n",
       "      <td>CCU → IXR → BBI → BLR</td>\n",
       "      <td>2</td>\n",
       "      <td>No info</td>\n",
       "      <td>7662.0</td>\n",
       "      <td>1</td>\n",
       "      <td>5</td>\n",
       "      <td>2019</td>\n",
       "      <td>...</td>\n",
       "      <td>13</td>\n",
       "      <td>15</td>\n",
       "      <td>CCU</td>\n",
       "      <td>IXR</td>\n",
       "      <td>BBI</td>\n",
       "      <td>BLR</td>\n",
       "      <td>NaN</td>\n",
       "      <td>NaN</td>\n",
       "      <td>7</td>\n",
       "      <td>2</td>\n",
       "    </tr>\n",
       "  </tbody>\n",
       "</table>\n",
       "<p>2 rows × 22 columns</p>\n",
       "</div>"
      ],
      "text/plain": [
       "     Airline    Source Destination                  Route  Total_Stops  \\\n",
       "0     IndiGo  Banglore   New Delhi              BLR → DEL            0   \n",
       "1  Air India   Kolkata    Banglore  CCU → IXR → BBI → BLR            2   \n",
       "\n",
       "  Additional_Info   Price  Date  Month  year  ...  Arrival_hr  Arrival_min  \\\n",
       "0         No info  3897.0    24      3  2019  ...           1           10   \n",
       "1         No info  7662.0     1      5  2019  ...          13           15   \n",
       "\n",
       "   Route1  Route2 Route3 Route4 Route5 Route6 Duration_hr Duration_min  \n",
       "0    BLR      DEL    NaN    NaN    NaN    NaN           2            5  \n",
       "1    CCU     IXR    BBI     BLR    NaN    NaN           7            2  \n",
       "\n",
       "[2 rows x 22 columns]"
      ]
     },
     "execution_count": 220,
     "metadata": {},
     "output_type": "execute_result"
    }
   ],
   "source": [
    "df.head(2)"
   ]
  },
  {
   "cell_type": "code",
   "execution_count": 221,
   "metadata": {},
   "outputs": [],
   "source": [
    "# droping the route column\n",
    "df.drop(columns='Route',inplace=True)"
   ]
  },
  {
   "cell_type": "code",
   "execution_count": 222,
   "metadata": {},
   "outputs": [
    {
     "data": {
      "text/html": [
       "<div>\n",
       "<style scoped>\n",
       "    .dataframe tbody tr th:only-of-type {\n",
       "        vertical-align: middle;\n",
       "    }\n",
       "\n",
       "    .dataframe tbody tr th {\n",
       "        vertical-align: top;\n",
       "    }\n",
       "\n",
       "    .dataframe thead th {\n",
       "        text-align: right;\n",
       "    }\n",
       "</style>\n",
       "<table border=\"1\" class=\"dataframe\">\n",
       "  <thead>\n",
       "    <tr style=\"text-align: right;\">\n",
       "      <th></th>\n",
       "      <th>Airline</th>\n",
       "      <th>Source</th>\n",
       "      <th>Destination</th>\n",
       "      <th>Total_Stops</th>\n",
       "      <th>Additional_Info</th>\n",
       "      <th>Price</th>\n",
       "      <th>Date</th>\n",
       "      <th>Month</th>\n",
       "      <th>year</th>\n",
       "      <th>Dep_hour</th>\n",
       "      <th>...</th>\n",
       "      <th>Arrival_hr</th>\n",
       "      <th>Arrival_min</th>\n",
       "      <th>Route1</th>\n",
       "      <th>Route2</th>\n",
       "      <th>Route3</th>\n",
       "      <th>Route4</th>\n",
       "      <th>Route5</th>\n",
       "      <th>Route6</th>\n",
       "      <th>Duration_hr</th>\n",
       "      <th>Duration_min</th>\n",
       "    </tr>\n",
       "  </thead>\n",
       "  <tbody>\n",
       "    <tr>\n",
       "      <th>0</th>\n",
       "      <td>IndiGo</td>\n",
       "      <td>Banglore</td>\n",
       "      <td>New Delhi</td>\n",
       "      <td>0</td>\n",
       "      <td>No info</td>\n",
       "      <td>3897.0</td>\n",
       "      <td>24</td>\n",
       "      <td>3</td>\n",
       "      <td>2019</td>\n",
       "      <td>22</td>\n",
       "      <td>...</td>\n",
       "      <td>1</td>\n",
       "      <td>10</td>\n",
       "      <td>BLR</td>\n",
       "      <td>DEL</td>\n",
       "      <td>NaN</td>\n",
       "      <td>NaN</td>\n",
       "      <td>NaN</td>\n",
       "      <td>NaN</td>\n",
       "      <td>2</td>\n",
       "      <td>5</td>\n",
       "    </tr>\n",
       "    <tr>\n",
       "      <th>1</th>\n",
       "      <td>Air India</td>\n",
       "      <td>Kolkata</td>\n",
       "      <td>Banglore</td>\n",
       "      <td>2</td>\n",
       "      <td>No info</td>\n",
       "      <td>7662.0</td>\n",
       "      <td>1</td>\n",
       "      <td>5</td>\n",
       "      <td>2019</td>\n",
       "      <td>5</td>\n",
       "      <td>...</td>\n",
       "      <td>13</td>\n",
       "      <td>15</td>\n",
       "      <td>CCU</td>\n",
       "      <td>IXR</td>\n",
       "      <td>BBI</td>\n",
       "      <td>BLR</td>\n",
       "      <td>NaN</td>\n",
       "      <td>NaN</td>\n",
       "      <td>7</td>\n",
       "      <td>2</td>\n",
       "    </tr>\n",
       "  </tbody>\n",
       "</table>\n",
       "<p>2 rows × 21 columns</p>\n",
       "</div>"
      ],
      "text/plain": [
       "     Airline    Source Destination  Total_Stops Additional_Info   Price  Date  \\\n",
       "0     IndiGo  Banglore   New Delhi            0         No info  3897.0    24   \n",
       "1  Air India   Kolkata    Banglore            2         No info  7662.0     1   \n",
       "\n",
       "   Month  year  Dep_hour  ...  Arrival_hr  Arrival_min  Route1 Route2 Route3  \\\n",
       "0      3  2019        22  ...           1           10    BLR     DEL    NaN   \n",
       "1      5  2019         5  ...          13           15    CCU    IXR    BBI    \n",
       "\n",
       "  Route4 Route5 Route6 Duration_hr Duration_min  \n",
       "0    NaN    NaN    NaN           2            5  \n",
       "1    BLR    NaN    NaN           7            2  \n",
       "\n",
       "[2 rows x 21 columns]"
      ]
     },
     "execution_count": 222,
     "metadata": {},
     "output_type": "execute_result"
    }
   ],
   "source": [
    "df.head(2)"
   ]
  },
  {
   "cell_type": "code",
   "execution_count": 223,
   "metadata": {},
   "outputs": [],
   "source": [
    "# Dealing with the null values of price"
   ]
  },
  {
   "cell_type": "code",
   "execution_count": 224,
   "metadata": {},
   "outputs": [
    {
     "data": {
      "text/plain": [
       "Airline                0\n",
       "Source                 0\n",
       "Destination            0\n",
       "Total_Stops            0\n",
       "Additional_Info        0\n",
       "Price                  0\n",
       "Date                   0\n",
       "Month                  0\n",
       "year                   0\n",
       "Dep_hour               0\n",
       "Dep_minute             0\n",
       "Arrival_hr             0\n",
       "Arrival_min            0\n",
       "Route1                 1\n",
       "Route2                 1\n",
       "Route3              4341\n",
       "Route4             11397\n",
       "Route5             13296\n",
       "Route6             13352\n",
       "Duration_hr            0\n",
       "Duration_min           0\n",
       "dtype: int64"
      ]
     },
     "execution_count": 224,
     "metadata": {},
     "output_type": "execute_result"
    }
   ],
   "source": [
    "df.isnull().sum()"
   ]
  },
  {
   "cell_type": "code",
   "execution_count": 225,
   "metadata": {},
   "outputs": [
    {
     "data": {
      "text/html": [
       "<div>\n",
       "<style scoped>\n",
       "    .dataframe tbody tr th:only-of-type {\n",
       "        vertical-align: middle;\n",
       "    }\n",
       "\n",
       "    .dataframe tbody tr th {\n",
       "        vertical-align: top;\n",
       "    }\n",
       "\n",
       "    .dataframe thead th {\n",
       "        text-align: right;\n",
       "    }\n",
       "</style>\n",
       "<table border=\"1\" class=\"dataframe\">\n",
       "  <thead>\n",
       "    <tr style=\"text-align: right;\">\n",
       "      <th></th>\n",
       "      <th>Airline</th>\n",
       "      <th>Source</th>\n",
       "      <th>Destination</th>\n",
       "      <th>Total_Stops</th>\n",
       "      <th>Additional_Info</th>\n",
       "      <th>Price</th>\n",
       "      <th>Date</th>\n",
       "      <th>Month</th>\n",
       "      <th>year</th>\n",
       "      <th>Dep_hour</th>\n",
       "      <th>...</th>\n",
       "      <th>Arrival_hr</th>\n",
       "      <th>Arrival_min</th>\n",
       "      <th>Route1</th>\n",
       "      <th>Route2</th>\n",
       "      <th>Route3</th>\n",
       "      <th>Route4</th>\n",
       "      <th>Route5</th>\n",
       "      <th>Route6</th>\n",
       "      <th>Duration_hr</th>\n",
       "      <th>Duration_min</th>\n",
       "    </tr>\n",
       "  </thead>\n",
       "  <tbody>\n",
       "    <tr>\n",
       "      <th>0</th>\n",
       "      <td>IndiGo</td>\n",
       "      <td>Banglore</td>\n",
       "      <td>New Delhi</td>\n",
       "      <td>0</td>\n",
       "      <td>No info</td>\n",
       "      <td>3897.0</td>\n",
       "      <td>24</td>\n",
       "      <td>3</td>\n",
       "      <td>2019</td>\n",
       "      <td>22</td>\n",
       "      <td>...</td>\n",
       "      <td>1</td>\n",
       "      <td>10</td>\n",
       "      <td>BLR</td>\n",
       "      <td>DEL</td>\n",
       "      <td>NaN</td>\n",
       "      <td>NaN</td>\n",
       "      <td>NaN</td>\n",
       "      <td>NaN</td>\n",
       "      <td>2</td>\n",
       "      <td>5</td>\n",
       "    </tr>\n",
       "    <tr>\n",
       "      <th>1</th>\n",
       "      <td>Air India</td>\n",
       "      <td>Kolkata</td>\n",
       "      <td>Banglore</td>\n",
       "      <td>2</td>\n",
       "      <td>No info</td>\n",
       "      <td>7662.0</td>\n",
       "      <td>1</td>\n",
       "      <td>5</td>\n",
       "      <td>2019</td>\n",
       "      <td>5</td>\n",
       "      <td>...</td>\n",
       "      <td>13</td>\n",
       "      <td>15</td>\n",
       "      <td>CCU</td>\n",
       "      <td>IXR</td>\n",
       "      <td>BBI</td>\n",
       "      <td>BLR</td>\n",
       "      <td>NaN</td>\n",
       "      <td>NaN</td>\n",
       "      <td>7</td>\n",
       "      <td>2</td>\n",
       "    </tr>\n",
       "  </tbody>\n",
       "</table>\n",
       "<p>2 rows × 21 columns</p>\n",
       "</div>"
      ],
      "text/plain": [
       "     Airline    Source Destination  Total_Stops Additional_Info   Price  Date  \\\n",
       "0     IndiGo  Banglore   New Delhi            0         No info  3897.0    24   \n",
       "1  Air India   Kolkata    Banglore            2         No info  7662.0     1   \n",
       "\n",
       "   Month  year  Dep_hour  ...  Arrival_hr  Arrival_min  Route1 Route2 Route3  \\\n",
       "0      3  2019        22  ...           1           10    BLR     DEL    NaN   \n",
       "1      5  2019         5  ...          13           15    CCU    IXR    BBI    \n",
       "\n",
       "  Route4 Route5 Route6 Duration_hr Duration_min  \n",
       "0    NaN    NaN    NaN           2            5  \n",
       "1    BLR    NaN    NaN           7            2  \n",
       "\n",
       "[2 rows x 21 columns]"
      ]
     },
     "execution_count": 225,
     "metadata": {},
     "output_type": "execute_result"
    }
   ],
   "source": [
    "df.head(2)"
   ]
  },
  {
   "cell_type": "code",
   "execution_count": 226,
   "metadata": {},
   "outputs": [],
   "source": [
    "#replacing nan values in Route columns with 0\n",
    "df['Route1'] = df['Route1'].fillna('0')\n",
    "df['Route2'] = df['Route2'].fillna('0')\n",
    "df['Route3'] = df['Route3'].fillna('0')\n",
    "df['Route4'] = df['Route4'].fillna('0')\n",
    "df['Route5'] = df['Route5'].fillna('0')\n",
    "df['Route6'] = df['Route6'].fillna('0')"
   ]
  },
  {
   "cell_type": "code",
   "execution_count": 227,
   "metadata": {},
   "outputs": [
    {
     "data": {
      "text/html": [
       "<div>\n",
       "<style scoped>\n",
       "    .dataframe tbody tr th:only-of-type {\n",
       "        vertical-align: middle;\n",
       "    }\n",
       "\n",
       "    .dataframe tbody tr th {\n",
       "        vertical-align: top;\n",
       "    }\n",
       "\n",
       "    .dataframe thead th {\n",
       "        text-align: right;\n",
       "    }\n",
       "</style>\n",
       "<table border=\"1\" class=\"dataframe\">\n",
       "  <thead>\n",
       "    <tr style=\"text-align: right;\">\n",
       "      <th></th>\n",
       "      <th>Airline</th>\n",
       "      <th>Source</th>\n",
       "      <th>Destination</th>\n",
       "      <th>Total_Stops</th>\n",
       "      <th>Additional_Info</th>\n",
       "      <th>Price</th>\n",
       "      <th>Date</th>\n",
       "      <th>Month</th>\n",
       "      <th>year</th>\n",
       "      <th>Dep_hour</th>\n",
       "      <th>...</th>\n",
       "      <th>Arrival_hr</th>\n",
       "      <th>Arrival_min</th>\n",
       "      <th>Route1</th>\n",
       "      <th>Route2</th>\n",
       "      <th>Route3</th>\n",
       "      <th>Route4</th>\n",
       "      <th>Route5</th>\n",
       "      <th>Route6</th>\n",
       "      <th>Duration_hr</th>\n",
       "      <th>Duration_min</th>\n",
       "    </tr>\n",
       "  </thead>\n",
       "  <tbody>\n",
       "    <tr>\n",
       "      <th>0</th>\n",
       "      <td>IndiGo</td>\n",
       "      <td>Banglore</td>\n",
       "      <td>New Delhi</td>\n",
       "      <td>0</td>\n",
       "      <td>No info</td>\n",
       "      <td>3897.0</td>\n",
       "      <td>24</td>\n",
       "      <td>3</td>\n",
       "      <td>2019</td>\n",
       "      <td>22</td>\n",
       "      <td>...</td>\n",
       "      <td>1</td>\n",
       "      <td>10</td>\n",
       "      <td>BLR</td>\n",
       "      <td>DEL</td>\n",
       "      <td>0</td>\n",
       "      <td>0</td>\n",
       "      <td>0</td>\n",
       "      <td>0</td>\n",
       "      <td>2</td>\n",
       "      <td>5</td>\n",
       "    </tr>\n",
       "    <tr>\n",
       "      <th>1</th>\n",
       "      <td>Air India</td>\n",
       "      <td>Kolkata</td>\n",
       "      <td>Banglore</td>\n",
       "      <td>2</td>\n",
       "      <td>No info</td>\n",
       "      <td>7662.0</td>\n",
       "      <td>1</td>\n",
       "      <td>5</td>\n",
       "      <td>2019</td>\n",
       "      <td>5</td>\n",
       "      <td>...</td>\n",
       "      <td>13</td>\n",
       "      <td>15</td>\n",
       "      <td>CCU</td>\n",
       "      <td>IXR</td>\n",
       "      <td>BBI</td>\n",
       "      <td>BLR</td>\n",
       "      <td>0</td>\n",
       "      <td>0</td>\n",
       "      <td>7</td>\n",
       "      <td>2</td>\n",
       "    </tr>\n",
       "  </tbody>\n",
       "</table>\n",
       "<p>2 rows × 21 columns</p>\n",
       "</div>"
      ],
      "text/plain": [
       "     Airline    Source Destination  Total_Stops Additional_Info   Price  Date  \\\n",
       "0     IndiGo  Banglore   New Delhi            0         No info  3897.0    24   \n",
       "1  Air India   Kolkata    Banglore            2         No info  7662.0     1   \n",
       "\n",
       "   Month  year  Dep_hour  ...  Arrival_hr  Arrival_min  Route1 Route2 Route3  \\\n",
       "0      3  2019        22  ...           1           10    BLR     DEL      0   \n",
       "1      5  2019         5  ...          13           15    CCU    IXR    BBI    \n",
       "\n",
       "  Route4 Route5 Route6 Duration_hr Duration_min  \n",
       "0      0      0      0           2            5  \n",
       "1    BLR      0      0           7            2  \n",
       "\n",
       "[2 rows x 21 columns]"
      ]
     },
     "execution_count": 227,
     "metadata": {},
     "output_type": "execute_result"
    }
   ],
   "source": [
    "df.head(2)"
   ]
  },
  {
   "cell_type": "markdown",
   "metadata": {},
   "source": [
    "# Data Statistics"
   ]
  },
  {
   "cell_type": "code",
   "execution_count": 230,
   "metadata": {},
   "outputs": [
    {
     "data": {
      "text/html": [
       "<div>\n",
       "<style scoped>\n",
       "    .dataframe tbody tr th:only-of-type {\n",
       "        vertical-align: middle;\n",
       "    }\n",
       "\n",
       "    .dataframe tbody tr th {\n",
       "        vertical-align: top;\n",
       "    }\n",
       "\n",
       "    .dataframe thead th {\n",
       "        text-align: right;\n",
       "    }\n",
       "</style>\n",
       "<table border=\"1\" class=\"dataframe\">\n",
       "  <thead>\n",
       "    <tr style=\"text-align: right;\">\n",
       "      <th></th>\n",
       "      <th>Total_Stops</th>\n",
       "      <th>Price</th>\n",
       "      <th>Date</th>\n",
       "      <th>Month</th>\n",
       "      <th>year</th>\n",
       "      <th>Dep_hour</th>\n",
       "      <th>Dep_minute</th>\n",
       "      <th>Arrival_hr</th>\n",
       "      <th>Arrival_min</th>\n",
       "    </tr>\n",
       "  </thead>\n",
       "  <tbody>\n",
       "    <tr>\n",
       "      <th>count</th>\n",
       "      <td>13354.000000</td>\n",
       "      <td>13354.000000</td>\n",
       "      <td>13354.000000</td>\n",
       "      <td>13354.000000</td>\n",
       "      <td>13354.0</td>\n",
       "      <td>13354.000000</td>\n",
       "      <td>13354.000000</td>\n",
       "      <td>13354.000000</td>\n",
       "      <td>13354.000000</td>\n",
       "    </tr>\n",
       "    <tr>\n",
       "      <th>mean</th>\n",
       "      <td>0.826045</td>\n",
       "      <td>9087.064121</td>\n",
       "      <td>13.389846</td>\n",
       "      <td>4.710574</td>\n",
       "      <td>2019.0</td>\n",
       "      <td>12.513254</td>\n",
       "      <td>24.507264</td>\n",
       "      <td>13.396061</td>\n",
       "      <td>24.664146</td>\n",
       "    </tr>\n",
       "    <tr>\n",
       "      <th>std</th>\n",
       "      <td>0.674608</td>\n",
       "      <td>4124.447805</td>\n",
       "      <td>8.439060</td>\n",
       "      <td>1.165622</td>\n",
       "      <td>0.0</td>\n",
       "      <td>5.736273</td>\n",
       "      <td>18.832385</td>\n",
       "      <td>6.896145</td>\n",
       "      <td>16.559723</td>\n",
       "    </tr>\n",
       "    <tr>\n",
       "      <th>min</th>\n",
       "      <td>0.000000</td>\n",
       "      <td>1759.000000</td>\n",
       "      <td>1.000000</td>\n",
       "      <td>3.000000</td>\n",
       "      <td>2019.0</td>\n",
       "      <td>0.000000</td>\n",
       "      <td>0.000000</td>\n",
       "      <td>0.000000</td>\n",
       "      <td>0.000000</td>\n",
       "    </tr>\n",
       "    <tr>\n",
       "      <th>25%</th>\n",
       "      <td>0.000000</td>\n",
       "      <td>6135.250000</td>\n",
       "      <td>6.000000</td>\n",
       "      <td>3.000000</td>\n",
       "      <td>2019.0</td>\n",
       "      <td>8.000000</td>\n",
       "      <td>5.000000</td>\n",
       "      <td>8.000000</td>\n",
       "      <td>10.000000</td>\n",
       "    </tr>\n",
       "    <tr>\n",
       "      <th>50%</th>\n",
       "      <td>1.000000</td>\n",
       "      <td>9087.064121</td>\n",
       "      <td>12.000000</td>\n",
       "      <td>5.000000</td>\n",
       "      <td>2019.0</td>\n",
       "      <td>11.000000</td>\n",
       "      <td>25.000000</td>\n",
       "      <td>14.000000</td>\n",
       "      <td>25.000000</td>\n",
       "    </tr>\n",
       "    <tr>\n",
       "      <th>75%</th>\n",
       "      <td>1.000000</td>\n",
       "      <td>11087.000000</td>\n",
       "      <td>21.000000</td>\n",
       "      <td>6.000000</td>\n",
       "      <td>2019.0</td>\n",
       "      <td>18.000000</td>\n",
       "      <td>40.000000</td>\n",
       "      <td>19.000000</td>\n",
       "      <td>35.000000</td>\n",
       "    </tr>\n",
       "    <tr>\n",
       "      <th>max</th>\n",
       "      <td>4.000000</td>\n",
       "      <td>79512.000000</td>\n",
       "      <td>27.000000</td>\n",
       "      <td>6.000000</td>\n",
       "      <td>2019.0</td>\n",
       "      <td>23.000000</td>\n",
       "      <td>55.000000</td>\n",
       "      <td>23.000000</td>\n",
       "      <td>55.000000</td>\n",
       "    </tr>\n",
       "  </tbody>\n",
       "</table>\n",
       "</div>"
      ],
      "text/plain": [
       "        Total_Stops         Price          Date         Month     year  \\\n",
       "count  13354.000000  13354.000000  13354.000000  13354.000000  13354.0   \n",
       "mean       0.826045   9087.064121     13.389846      4.710574   2019.0   \n",
       "std        0.674608   4124.447805      8.439060      1.165622      0.0   \n",
       "min        0.000000   1759.000000      1.000000      3.000000   2019.0   \n",
       "25%        0.000000   6135.250000      6.000000      3.000000   2019.0   \n",
       "50%        1.000000   9087.064121     12.000000      5.000000   2019.0   \n",
       "75%        1.000000  11087.000000     21.000000      6.000000   2019.0   \n",
       "max        4.000000  79512.000000     27.000000      6.000000   2019.0   \n",
       "\n",
       "           Dep_hour    Dep_minute    Arrival_hr   Arrival_min  \n",
       "count  13354.000000  13354.000000  13354.000000  13354.000000  \n",
       "mean      12.513254     24.507264     13.396061     24.664146  \n",
       "std        5.736273     18.832385      6.896145     16.559723  \n",
       "min        0.000000      0.000000      0.000000      0.000000  \n",
       "25%        8.000000      5.000000      8.000000     10.000000  \n",
       "50%       11.000000     25.000000     14.000000     25.000000  \n",
       "75%       18.000000     40.000000     19.000000     35.000000  \n",
       "max       23.000000     55.000000     23.000000     55.000000  "
      ]
     },
     "execution_count": 230,
     "metadata": {},
     "output_type": "execute_result"
    }
   ],
   "source": [
    "df.describe()"
   ]
  },
  {
   "cell_type": "code",
   "execution_count": 231,
   "metadata": {},
   "outputs": [
    {
     "data": {
      "text/plain": [
       "Airline            0\n",
       "Source             0\n",
       "Destination        0\n",
       "Total_Stops        0\n",
       "Additional_Info    0\n",
       "Price              0\n",
       "Date               0\n",
       "Month              0\n",
       "year               0\n",
       "Dep_hour           0\n",
       "Dep_minute         0\n",
       "Arrival_hr         0\n",
       "Arrival_min        0\n",
       "Route1             0\n",
       "Route2             0\n",
       "Route3             0\n",
       "Route4             0\n",
       "Route5             0\n",
       "Route6             0\n",
       "Duration_hr        0\n",
       "Duration_min       0\n",
       "dtype: int64"
      ]
     },
     "execution_count": 231,
     "metadata": {},
     "output_type": "execute_result"
    }
   ],
   "source": [
    "df.isnull().sum()"
   ]
  },
  {
   "cell_type": "markdown",
   "metadata": {},
   "source": [
    "### There are no null values in the dataset "
   ]
  },
  {
   "cell_type": "code",
   "execution_count": 234,
   "metadata": {},
   "outputs": [],
   "source": [
    "#Data Vizualization"
   ]
  },
  {
   "cell_type": "code",
   "execution_count": 233,
   "metadata": {
    "collapsed": true
   },
   "outputs": [
    {
     "data": {
      "image/png": "[encoded data removed]",
      "text/plain": [
       "<Figure size 1440x432 with 1 Axes>"
      ]
     },
     "metadata": {
      "needs_background": "light"
     },
     "output_type": "display_data"
    }
   ],
   "source": [
    "plt.figure(figsize=(20,6))\n",
    "sns.barplot(x=\"Airline\",y=\"Price\",data=df,palette=\"rainbow\")\n",
    "plt.xticks(rotation=30)\n",
    "plt.show()"
   ]
  },
  {
   "cell_type": "raw",
   "metadata": {},
   "source": [
    "The fair price for Jet Airway business is more"
   ]
  },
  {
   "cell_type": "code",
   "execution_count": null,
   "metadata": {},
   "outputs": [],
   "source": [
    "#Airline vs price\n",
    "plt.figure(figsize=(20,6))\n",
    "sns.barplot(x=\"Airline\",y=\"Price\",data=df,palette=\"rainbow\")\n",
    "plt.xticks(rotation=30)\n",
    "plt.show()"
   ]
  },
  {
   "cell_type": "code",
   "execution_count": 235,
   "metadata": {},
   "outputs": [
    {
     "data": {
      "text/plain": [
       "Index(['Airline', 'Source', 'Destination', 'Total_Stops', 'Additional_Info',\n",
       "       'Price', 'Date', 'Month', 'year', 'Dep_hour', 'Dep_minute',\n",
       "       'Arrival_hr', 'Arrival_min', 'Route1', 'Route2', 'Route3', 'Route4',\n",
       "       'Route5', 'Route6', 'Duration_hr', 'Duration_min'],\n",
       "      dtype='object')"
      ]
     },
     "execution_count": 235,
     "metadata": {},
     "output_type": "execute_result"
    }
   ],
   "source": [
    "df.columns"
   ]
  },
  {
   "cell_type": "code",
   "execution_count": 236,
   "metadata": {},
   "outputs": [
    {
     "data": {
      "image/png": "[encoded data removed]",
      "text/plain": [
       "<Figure size 1440x432 with 1 Axes>"
      ]
     },
     "metadata": {
      "needs_background": "light"
     },
     "output_type": "display_data"
    }
   ],
   "source": [
    "# Source vs Price\n",
    "plt.figure(figsize=(20,6))\n",
    "sns.barplot(x=\"Source\",y=\"Price\",data=df,palette=\"rainbow\")\n",
    "plt.xticks(rotation=30)\n",
    "plt.show()\n"
   ]
  },
  {
   "cell_type": "raw",
   "metadata": {},
   "source": [
    "# Delhi airports are having the highest fare charges"
   ]
  },
  {
   "cell_type": "code",
   "execution_count": 237,
   "metadata": {},
   "outputs": [
    {
     "data": {
      "image/png": "[encoded data removed]",
      "text/plain": [
       "<Figure size 1440x432 with 1 Axes>"
      ]
     },
     "metadata": {
      "needs_background": "light"
     },
     "output_type": "display_data"
    }
   ],
   "source": [
    "# Month vs Price\n",
    "plt.figure(figsize=(20,6))\n",
    "sns.barplot(x=\"Month\",y=\"Price\",data=df,palette=\"rainbow\")\n",
    "plt.xticks(rotation=30)\n",
    "plt.show()\n"
   ]
  },
  {
   "cell_type": "code",
   "execution_count": 238,
   "metadata": {},
   "outputs": [],
   "source": [
    "# The highest fare accounted for march month "
   ]
  },
  {
   "cell_type": "code",
   "execution_count": 239,
   "metadata": {},
   "outputs": [
    {
     "data": {
      "text/plain": [
       "array([3, 5, 6, 4])"
      ]
     },
     "execution_count": 239,
     "metadata": {},
     "output_type": "execute_result"
    }
   ],
   "source": [
    "df['Month'].unique()"
   ]
  },
  {
   "cell_type": "code",
   "execution_count": 242,
   "metadata": {},
   "outputs": [
    {
     "data": {
      "image/png": "[encoded data removed]",
      "text/plain": [
       "<Figure size 1440x432 with 1 Axes>"
      ]
     },
     "metadata": {
      "needs_background": "light"
     },
     "output_type": "display_data"
    }
   ],
   "source": [
    "# Destination vs Price\n",
    "plt.figure(figsize=(20,6))\n",
    "sns.barplot(x=\"Destination\",y=\"Price\",data=df,palette=\"rainbow\")\n",
    "plt.xticks(rotation=30)\n",
    "plt.show()\n"
   ]
  },
  {
   "cell_type": "code",
   "execution_count": 243,
   "metadata": {},
   "outputs": [],
   "source": [
    "#New delhi has got the highest fare "
   ]
  },
  {
   "cell_type": "code",
   "execution_count": 244,
   "metadata": {},
   "outputs": [
    {
     "data": {
      "image/png": "[encoded data removed]",
      "text/plain": [
       "<Figure size 1440x432 with 1 Axes>"
      ]
     },
     "metadata": {
      "needs_background": "light"
     },
     "output_type": "display_data"
    }
   ],
   "source": [
    "# Total stops vs Price\n",
    "plt.figure(figsize=(20,6))\n",
    "sns.barplot(x=\"Total_Stops\",y=\"Price\",data=df,palette=\"rainbow\")\n",
    "plt.xticks(rotation=30)\n",
    "plt.show()"
   ]
  },
  {
   "cell_type": "markdown",
   "metadata": {},
   "source": [
    "# Handling categorical data"
   ]
  },
  {
   "cell_type": "code",
   "execution_count": 245,
   "metadata": {},
   "outputs": [],
   "source": [
    "# Converting categorical objectives into numerical type\n",
    "#Importing Label encoder from sklearn library\n",
    "from sklearn.preprocessing import LabelEncoder"
   ]
  },
  {
   "cell_type": "code",
   "execution_count": 246,
   "metadata": {},
   "outputs": [],
   "source": [
    "le=LabelEncoder()\n",
    "df[\"Airline\"]=le.fit_transform(df[\"Airline\"])\n",
    "df[\"Source\"]=le.fit_transform(df[\"Source\"])\n",
    "df[\"Destination\"]=le.fit_transform(df[\"Destination\"])\n",
    "df[\"Additional_Info\"]=le.fit_transform(df[\"Additional_Info\"])\n",
    "df[\"Route1\"]=le.fit_transform(df[\"Route1\"])\n",
    "df[\"Route2\"]=le.fit_transform(df[\"Route2\"])\n",
    "df[\"Route3\"]=le.fit_transform(df[\"Route3\"])\n",
    "df[\"Route4\"]=le.fit_transform(df[\"Route4\"])\n",
    "df[\"Route5\"]=le.fit_transform(df[\"Route5\"])\n",
    "df[\"Route6\"]=le.fit_transform(df[\"Route6\"])"
   ]
  },
  {
   "cell_type": "code",
   "execution_count": 247,
   "metadata": {},
   "outputs": [
    {
     "data": {
      "text/html": [
       "<div>\n",
       "<style scoped>\n",
       "    .dataframe tbody tr th:only-of-type {\n",
       "        vertical-align: middle;\n",
       "    }\n",
       "\n",
       "    .dataframe tbody tr th {\n",
       "        vertical-align: top;\n",
       "    }\n",
       "\n",
       "    .dataframe thead th {\n",
       "        text-align: right;\n",
       "    }\n",
       "</style>\n",
       "<table border=\"1\" class=\"dataframe\">\n",
       "  <thead>\n",
       "    <tr style=\"text-align: right;\">\n",
       "      <th></th>\n",
       "      <th>Airline</th>\n",
       "      <th>Source</th>\n",
       "      <th>Destination</th>\n",
       "      <th>Total_Stops</th>\n",
       "      <th>Additional_Info</th>\n",
       "      <th>Price</th>\n",
       "      <th>Date</th>\n",
       "      <th>Month</th>\n",
       "      <th>year</th>\n",
       "      <th>Dep_hour</th>\n",
       "      <th>...</th>\n",
       "      <th>Arrival_hr</th>\n",
       "      <th>Arrival_min</th>\n",
       "      <th>Route1</th>\n",
       "      <th>Route2</th>\n",
       "      <th>Route3</th>\n",
       "      <th>Route4</th>\n",
       "      <th>Route5</th>\n",
       "      <th>Route6</th>\n",
       "      <th>Duration_hr</th>\n",
       "      <th>Duration_min</th>\n",
       "    </tr>\n",
       "  </thead>\n",
       "  <tbody>\n",
       "    <tr>\n",
       "      <th>0</th>\n",
       "      <td>3</td>\n",
       "      <td>0</td>\n",
       "      <td>5</td>\n",
       "      <td>0</td>\n",
       "      <td>8</td>\n",
       "      <td>3897.0</td>\n",
       "      <td>24</td>\n",
       "      <td>3</td>\n",
       "      <td>2019</td>\n",
       "      <td>22</td>\n",
       "      <td>...</td>\n",
       "      <td>1</td>\n",
       "      <td>10</td>\n",
       "      <td>1</td>\n",
       "      <td>13</td>\n",
       "      <td>30</td>\n",
       "      <td>13</td>\n",
       "      <td>5</td>\n",
       "      <td>1</td>\n",
       "      <td>2</td>\n",
       "      <td>5</td>\n",
       "    </tr>\n",
       "    <tr>\n",
       "      <th>1</th>\n",
       "      <td>1</td>\n",
       "      <td>3</td>\n",
       "      <td>0</td>\n",
       "      <td>2</td>\n",
       "      <td>8</td>\n",
       "      <td>7662.0</td>\n",
       "      <td>1</td>\n",
       "      <td>5</td>\n",
       "      <td>2019</td>\n",
       "      <td>5</td>\n",
       "      <td>...</td>\n",
       "      <td>13</td>\n",
       "      <td>15</td>\n",
       "      <td>3</td>\n",
       "      <td>25</td>\n",
       "      <td>1</td>\n",
       "      <td>3</td>\n",
       "      <td>5</td>\n",
       "      <td>1</td>\n",
       "      <td>7</td>\n",
       "      <td>2</td>\n",
       "    </tr>\n",
       "  </tbody>\n",
       "</table>\n",
       "<p>2 rows × 21 columns</p>\n",
       "</div>"
      ],
      "text/plain": [
       "   Airline  Source  Destination  Total_Stops  Additional_Info   Price  Date  \\\n",
       "0        3       0            5            0                8  3897.0    24   \n",
       "1        1       3            0            2                8  7662.0     1   \n",
       "\n",
       "   Month  year  Dep_hour  ...  Arrival_hr  Arrival_min  Route1  Route2  \\\n",
       "0      3  2019        22  ...           1           10       1      13   \n",
       "1      5  2019         5  ...          13           15       3      25   \n",
       "\n",
       "   Route3  Route4  Route5  Route6  Duration_hr Duration_min  \n",
       "0      30      13       5       1            2            5  \n",
       "1       1       3       5       1            7            2  \n",
       "\n",
       "[2 rows x 21 columns]"
      ]
     },
     "execution_count": 247,
     "metadata": {},
     "output_type": "execute_result"
    }
   ],
   "source": [
    "df.head(2)"
   ]
  },
  {
   "cell_type": "code",
   "execution_count": 265,
   "metadata": {},
   "outputs": [],
   "source": [
    "# dropping unwanted columns\n",
    "df.drop(columns='year',inplace =True)"
   ]
  },
  {
   "cell_type": "code",
   "execution_count": 266,
   "metadata": {},
   "outputs": [],
   "source": [
    "#Segreating the data into train dataset and test dataset\n",
    "df_train = df[0:10683]\n",
    "df_test = df[10683:]"
   ]
  },
  {
   "cell_type": "code",
   "execution_count": 267,
   "metadata": {},
   "outputs": [
    {
     "data": {
      "text/plain": [
       "(2671, 20)"
      ]
     },
     "execution_count": 267,
     "metadata": {},
     "output_type": "execute_result"
    }
   ],
   "source": [
    "df_test.shape"
   ]
  },
  {
   "cell_type": "raw",
   "metadata": {},
   "source": [
    "Which is same as the size of the test dataset "
   ]
  },
  {
   "cell_type": "code",
   "execution_count": 268,
   "metadata": {},
   "outputs": [],
   "source": [
    "# Checking for correlation\n",
    "corr = df_train.corr()"
   ]
  },
  {
   "cell_type": "code",
   "execution_count": 269,
   "metadata": {},
   "outputs": [
    {
     "data": {
      "text/html": [
       "<div>\n",
       "<style scoped>\n",
       "    .dataframe tbody tr th:only-of-type {\n",
       "        vertical-align: middle;\n",
       "    }\n",
       "\n",
       "    .dataframe tbody tr th {\n",
       "        vertical-align: top;\n",
       "    }\n",
       "\n",
       "    .dataframe thead th {\n",
       "        text-align: right;\n",
       "    }\n",
       "</style>\n",
       "<table border=\"1\" class=\"dataframe\">\n",
       "  <thead>\n",
       "    <tr style=\"text-align: right;\">\n",
       "      <th></th>\n",
       "      <th>Airline</th>\n",
       "      <th>Source</th>\n",
       "      <th>Destination</th>\n",
       "      <th>Total_Stops</th>\n",
       "      <th>Additional_Info</th>\n",
       "      <th>Price</th>\n",
       "      <th>Date</th>\n",
       "      <th>Month</th>\n",
       "      <th>Dep_hour</th>\n",
       "      <th>Dep_minute</th>\n",
       "      <th>Arrival_hr</th>\n",
       "      <th>Arrival_min</th>\n",
       "      <th>Route1</th>\n",
       "      <th>Route2</th>\n",
       "      <th>Route3</th>\n",
       "      <th>Route4</th>\n",
       "      <th>Route5</th>\n",
       "      <th>Route6</th>\n",
       "      <th>Duration_hr</th>\n",
       "      <th>Duration_min</th>\n",
       "    </tr>\n",
       "  </thead>\n",
       "  <tbody>\n",
       "    <tr>\n",
       "      <th>Airline</th>\n",
       "      <td>1.000000</td>\n",
       "      <td>-0.013401</td>\n",
       "      <td>0.018479</td>\n",
       "      <td>-0.199411</td>\n",
       "      <td>-0.060802</td>\n",
       "      <td>-0.039520</td>\n",
       "      <td>0.026238</td>\n",
       "      <td>0.024643</td>\n",
       "      <td>-0.035194</td>\n",
       "      <td>-0.060044</td>\n",
       "      <td>-0.007491</td>\n",
       "      <td>-0.071089</td>\n",
       "      <td>0.035591</td>\n",
       "      <td>-0.061847</td>\n",
       "      <td>0.060988</td>\n",
       "      <td>0.261808</td>\n",
       "      <td>0.056832</td>\n",
       "      <td>0.012201</td>\n",
       "      <td>0.040896</td>\n",
       "      <td>-0.048639</td>\n",
       "    </tr>\n",
       "    <tr>\n",
       "      <th>Source</th>\n",
       "      <td>-0.013401</td>\n",
       "      <td>1.000000</td>\n",
       "      <td>-0.592574</td>\n",
       "      <td>0.192840</td>\n",
       "      <td>-0.022107</td>\n",
       "      <td>0.015998</td>\n",
       "      <td>0.004898</td>\n",
       "      <td>0.183268</td>\n",
       "      <td>0.059044</td>\n",
       "      <td>-0.056991</td>\n",
       "      <td>0.025632</td>\n",
       "      <td>0.021040</td>\n",
       "      <td>0.437755</td>\n",
       "      <td>0.035834</td>\n",
       "      <td>-0.269877</td>\n",
       "      <td>-0.076015</td>\n",
       "      <td>-0.008329</td>\n",
       "      <td>0.016046</td>\n",
       "      <td>-0.018777</td>\n",
       "      <td>-0.148241</td>\n",
       "    </tr>\n",
       "    <tr>\n",
       "      <th>Destination</th>\n",
       "      <td>0.018479</td>\n",
       "      <td>-0.592574</td>\n",
       "      <td>1.000000</td>\n",
       "      <td>-0.295481</td>\n",
       "      <td>0.026806</td>\n",
       "      <td>-0.071112</td>\n",
       "      <td>-0.040998</td>\n",
       "      <td>-0.364686</td>\n",
       "      <td>-0.072979</td>\n",
       "      <td>0.127892</td>\n",
       "      <td>-0.039710</td>\n",
       "      <td>0.017196</td>\n",
       "      <td>-0.483128</td>\n",
       "      <td>0.077710</td>\n",
       "      <td>0.408085</td>\n",
       "      <td>0.132148</td>\n",
       "      <td>0.009125</td>\n",
       "      <td>-0.023382</td>\n",
       "      <td>-0.111421</td>\n",
       "      <td>0.041449</td>\n",
       "    </tr>\n",
       "    <tr>\n",
       "      <th>Total_Stops</th>\n",
       "      <td>-0.199411</td>\n",
       "      <td>0.192840</td>\n",
       "      <td>-0.295481</td>\n",
       "      <td>1.000000</td>\n",
       "      <td>-0.082426</td>\n",
       "      <td>0.603883</td>\n",
       "      <td>-0.009472</td>\n",
       "      <td>0.054389</td>\n",
       "      <td>-0.061490</td>\n",
       "      <td>-0.002591</td>\n",
       "      <td>0.038123</td>\n",
       "      <td>-0.106939</td>\n",
       "      <td>0.428730</td>\n",
       "      <td>0.162229</td>\n",
       "      <td>-0.802542</td>\n",
       "      <td>-0.729373</td>\n",
       "      <td>-0.207430</td>\n",
       "      <td>-0.045511</td>\n",
       "      <td>0.148787</td>\n",
       "      <td>-0.088596</td>\n",
       "    </tr>\n",
       "    <tr>\n",
       "      <th>Additional_Info</th>\n",
       "      <td>-0.060802</td>\n",
       "      <td>-0.022107</td>\n",
       "      <td>0.026806</td>\n",
       "      <td>-0.082426</td>\n",
       "      <td>1.000000</td>\n",
       "      <td>-0.065478</td>\n",
       "      <td>-0.016337</td>\n",
       "      <td>-0.051478</td>\n",
       "      <td>-0.051010</td>\n",
       "      <td>-0.019339</td>\n",
       "      <td>0.026173</td>\n",
       "      <td>0.041311</td>\n",
       "      <td>0.015197</td>\n",
       "      <td>0.078014</td>\n",
       "      <td>0.166737</td>\n",
       "      <td>-0.042353</td>\n",
       "      <td>-0.030927</td>\n",
       "      <td>0.027039</td>\n",
       "      <td>0.010527</td>\n",
       "      <td>0.022258</td>\n",
       "    </tr>\n",
       "    <tr>\n",
       "      <th>Price</th>\n",
       "      <td>-0.039520</td>\n",
       "      <td>0.015998</td>\n",
       "      <td>-0.071112</td>\n",
       "      <td>0.603883</td>\n",
       "      <td>-0.065478</td>\n",
       "      <td>1.000000</td>\n",
       "      <td>-0.153738</td>\n",
       "      <td>-0.103651</td>\n",
       "      <td>0.006819</td>\n",
       "      <td>-0.024492</td>\n",
       "      <td>0.024264</td>\n",
       "      <td>-0.086155</td>\n",
       "      <td>0.182196</td>\n",
       "      <td>-0.087304</td>\n",
       "      <td>-0.592601</td>\n",
       "      <td>-0.316937</td>\n",
       "      <td>-0.055643</td>\n",
       "      <td>-0.018043</td>\n",
       "      <td>0.128606</td>\n",
       "      <td>-0.074095</td>\n",
       "    </tr>\n",
       "    <tr>\n",
       "      <th>Date</th>\n",
       "      <td>0.026238</td>\n",
       "      <td>0.004898</td>\n",
       "      <td>-0.040998</td>\n",
       "      <td>-0.009472</td>\n",
       "      <td>-0.016337</td>\n",
       "      <td>-0.153738</td>\n",
       "      <td>1.000000</td>\n",
       "      <td>-0.038378</td>\n",
       "      <td>0.002220</td>\n",
       "      <td>-0.008261</td>\n",
       "      <td>-0.003192</td>\n",
       "      <td>-0.017511</td>\n",
       "      <td>0.079905</td>\n",
       "      <td>-0.025062</td>\n",
       "      <td>0.022751</td>\n",
       "      <td>-0.018712</td>\n",
       "      <td>0.006611</td>\n",
       "      <td>0.014274</td>\n",
       "      <td>0.008768</td>\n",
       "      <td>-0.015538</td>\n",
       "    </tr>\n",
       "    <tr>\n",
       "      <th>Month</th>\n",
       "      <td>0.024643</td>\n",
       "      <td>0.183268</td>\n",
       "      <td>-0.364686</td>\n",
       "      <td>0.054389</td>\n",
       "      <td>-0.051478</td>\n",
       "      <td>-0.103651</td>\n",
       "      <td>-0.038378</td>\n",
       "      <td>1.000000</td>\n",
       "      <td>0.039112</td>\n",
       "      <td>-0.059238</td>\n",
       "      <td>-0.003941</td>\n",
       "      <td>-0.100626</td>\n",
       "      <td>0.230530</td>\n",
       "      <td>0.048467</td>\n",
       "      <td>-0.081520</td>\n",
       "      <td>-0.071507</td>\n",
       "      <td>0.001297</td>\n",
       "      <td>0.014199</td>\n",
       "      <td>0.002368</td>\n",
       "      <td>-0.052453</td>\n",
       "    </tr>\n",
       "    <tr>\n",
       "      <th>Dep_hour</th>\n",
       "      <td>-0.035194</td>\n",
       "      <td>0.059044</td>\n",
       "      <td>-0.072979</td>\n",
       "      <td>-0.061490</td>\n",
       "      <td>-0.051010</td>\n",
       "      <td>0.006819</td>\n",
       "      <td>0.002220</td>\n",
       "      <td>0.039112</td>\n",
       "      <td>1.000000</td>\n",
       "      <td>-0.024806</td>\n",
       "      <td>0.005215</td>\n",
       "      <td>0.067909</td>\n",
       "      <td>-0.044258</td>\n",
       "      <td>-0.126345</td>\n",
       "      <td>0.016132</td>\n",
       "      <td>0.047480</td>\n",
       "      <td>0.047010</td>\n",
       "      <td>0.012608</td>\n",
       "      <td>-0.010093</td>\n",
       "      <td>0.015503</td>\n",
       "    </tr>\n",
       "    <tr>\n",
       "      <th>Dep_minute</th>\n",
       "      <td>-0.060044</td>\n",
       "      <td>-0.056991</td>\n",
       "      <td>0.127892</td>\n",
       "      <td>-0.002591</td>\n",
       "      <td>-0.019339</td>\n",
       "      <td>-0.024492</td>\n",
       "      <td>-0.008261</td>\n",
       "      <td>-0.059238</td>\n",
       "      <td>-0.024806</td>\n",
       "      <td>1.000000</td>\n",
       "      <td>0.043054</td>\n",
       "      <td>-0.017594</td>\n",
       "      <td>-0.074208</td>\n",
       "      <td>0.091925</td>\n",
       "      <td>0.048743</td>\n",
       "      <td>-0.042955</td>\n",
       "      <td>0.005452</td>\n",
       "      <td>-0.013192</td>\n",
       "      <td>-0.003328</td>\n",
       "      <td>0.143596</td>\n",
       "    </tr>\n",
       "    <tr>\n",
       "      <th>Arrival_hr</th>\n",
       "      <td>-0.007491</td>\n",
       "      <td>0.025632</td>\n",
       "      <td>-0.039710</td>\n",
       "      <td>0.038123</td>\n",
       "      <td>0.026173</td>\n",
       "      <td>0.024264</td>\n",
       "      <td>-0.003192</td>\n",
       "      <td>-0.003941</td>\n",
       "      <td>0.005215</td>\n",
       "      <td>0.043054</td>\n",
       "      <td>1.000000</td>\n",
       "      <td>-0.154362</td>\n",
       "      <td>0.016039</td>\n",
       "      <td>-0.012459</td>\n",
       "      <td>-0.082001</td>\n",
       "      <td>0.048553</td>\n",
       "      <td>-0.026990</td>\n",
       "      <td>0.003313</td>\n",
       "      <td>0.066175</td>\n",
       "      <td>-0.093258</td>\n",
       "    </tr>\n",
       "    <tr>\n",
       "      <th>Arrival_min</th>\n",
       "      <td>-0.071089</td>\n",
       "      <td>0.021040</td>\n",
       "      <td>0.017196</td>\n",
       "      <td>-0.106939</td>\n",
       "      <td>0.041311</td>\n",
       "      <td>-0.086155</td>\n",
       "      <td>-0.017511</td>\n",
       "      <td>-0.100626</td>\n",
       "      <td>0.067909</td>\n",
       "      <td>-0.017594</td>\n",
       "      <td>-0.154362</td>\n",
       "      <td>1.000000</td>\n",
       "      <td>-0.172948</td>\n",
       "      <td>0.045938</td>\n",
       "      <td>0.160428</td>\n",
       "      <td>-0.022570</td>\n",
       "      <td>0.019213</td>\n",
       "      <td>0.002750</td>\n",
       "      <td>-0.051019</td>\n",
       "      <td>0.116750</td>\n",
       "    </tr>\n",
       "    <tr>\n",
       "      <th>Route1</th>\n",
       "      <td>0.035591</td>\n",
       "      <td>0.437755</td>\n",
       "      <td>-0.483128</td>\n",
       "      <td>0.428730</td>\n",
       "      <td>0.015197</td>\n",
       "      <td>0.182196</td>\n",
       "      <td>0.079905</td>\n",
       "      <td>0.230530</td>\n",
       "      <td>-0.044258</td>\n",
       "      <td>-0.074208</td>\n",
       "      <td>0.016039</td>\n",
       "      <td>-0.172948</td>\n",
       "      <td>1.000000</td>\n",
       "      <td>-0.084537</td>\n",
       "      <td>-0.475248</td>\n",
       "      <td>-0.200150</td>\n",
       "      <td>-0.014272</td>\n",
       "      <td>0.016192</td>\n",
       "      <td>0.158804</td>\n",
       "      <td>-0.248149</td>\n",
       "    </tr>\n",
       "    <tr>\n",
       "      <th>Route2</th>\n",
       "      <td>-0.061847</td>\n",
       "      <td>0.035834</td>\n",
       "      <td>0.077710</td>\n",
       "      <td>0.162229</td>\n",
       "      <td>0.078014</td>\n",
       "      <td>-0.087304</td>\n",
       "      <td>-0.025062</td>\n",
       "      <td>0.048467</td>\n",
       "      <td>-0.126345</td>\n",
       "      <td>0.091925</td>\n",
       "      <td>-0.012459</td>\n",
       "      <td>0.045938</td>\n",
       "      <td>-0.084537</td>\n",
       "      <td>1.000000</td>\n",
       "      <td>-0.003235</td>\n",
       "      <td>-0.263409</td>\n",
       "      <td>-0.087923</td>\n",
       "      <td>0.003503</td>\n",
       "      <td>-0.017481</td>\n",
       "      <td>0.057578</td>\n",
       "    </tr>\n",
       "    <tr>\n",
       "      <th>Route3</th>\n",
       "      <td>0.060988</td>\n",
       "      <td>-0.269877</td>\n",
       "      <td>0.408085</td>\n",
       "      <td>-0.802542</td>\n",
       "      <td>0.166737</td>\n",
       "      <td>-0.592601</td>\n",
       "      <td>0.022751</td>\n",
       "      <td>-0.081520</td>\n",
       "      <td>0.016132</td>\n",
       "      <td>0.048743</td>\n",
       "      <td>-0.082001</td>\n",
       "      <td>0.160428</td>\n",
       "      <td>-0.475248</td>\n",
       "      <td>-0.003235</td>\n",
       "      <td>1.000000</td>\n",
       "      <td>0.242085</td>\n",
       "      <td>-0.015145</td>\n",
       "      <td>0.010335</td>\n",
       "      <td>-0.249530</td>\n",
       "      <td>0.103732</td>\n",
       "    </tr>\n",
       "    <tr>\n",
       "      <th>Route4</th>\n",
       "      <td>0.261808</td>\n",
       "      <td>-0.076015</td>\n",
       "      <td>0.132148</td>\n",
       "      <td>-0.729373</td>\n",
       "      <td>-0.042353</td>\n",
       "      <td>-0.316937</td>\n",
       "      <td>-0.018712</td>\n",
       "      <td>-0.071507</td>\n",
       "      <td>0.047480</td>\n",
       "      <td>-0.042955</td>\n",
       "      <td>0.048553</td>\n",
       "      <td>-0.022570</td>\n",
       "      <td>-0.200150</td>\n",
       "      <td>-0.263409</td>\n",
       "      <td>0.242085</td>\n",
       "      <td>1.000000</td>\n",
       "      <td>0.129523</td>\n",
       "      <td>0.005882</td>\n",
       "      <td>0.056603</td>\n",
       "      <td>0.009003</td>\n",
       "    </tr>\n",
       "    <tr>\n",
       "      <th>Route5</th>\n",
       "      <td>0.056832</td>\n",
       "      <td>-0.008329</td>\n",
       "      <td>0.009125</td>\n",
       "      <td>-0.207430</td>\n",
       "      <td>-0.030927</td>\n",
       "      <td>-0.055643</td>\n",
       "      <td>0.006611</td>\n",
       "      <td>0.001297</td>\n",
       "      <td>0.047010</td>\n",
       "      <td>0.005452</td>\n",
       "      <td>-0.026990</td>\n",
       "      <td>0.019213</td>\n",
       "      <td>-0.014272</td>\n",
       "      <td>-0.087923</td>\n",
       "      <td>-0.015145</td>\n",
       "      <td>0.129523</td>\n",
       "      <td>1.000000</td>\n",
       "      <td>0.036044</td>\n",
       "      <td>-0.004213</td>\n",
       "      <td>0.042893</td>\n",
       "    </tr>\n",
       "    <tr>\n",
       "      <th>Route6</th>\n",
       "      <td>0.012201</td>\n",
       "      <td>0.016046</td>\n",
       "      <td>-0.023382</td>\n",
       "      <td>-0.045511</td>\n",
       "      <td>0.027039</td>\n",
       "      <td>-0.018043</td>\n",
       "      <td>0.014274</td>\n",
       "      <td>0.014199</td>\n",
       "      <td>0.012608</td>\n",
       "      <td>-0.013192</td>\n",
       "      <td>0.003313</td>\n",
       "      <td>0.002750</td>\n",
       "      <td>0.016192</td>\n",
       "      <td>0.003503</td>\n",
       "      <td>0.010335</td>\n",
       "      <td>0.005882</td>\n",
       "      <td>0.036044</td>\n",
       "      <td>1.000000</td>\n",
       "      <td>0.003365</td>\n",
       "      <td>-0.000674</td>\n",
       "    </tr>\n",
       "    <tr>\n",
       "      <th>Duration_hr</th>\n",
       "      <td>0.040896</td>\n",
       "      <td>-0.018777</td>\n",
       "      <td>-0.111421</td>\n",
       "      <td>0.148787</td>\n",
       "      <td>0.010527</td>\n",
       "      <td>0.128606</td>\n",
       "      <td>0.008768</td>\n",
       "      <td>0.002368</td>\n",
       "      <td>-0.010093</td>\n",
       "      <td>-0.003328</td>\n",
       "      <td>0.066175</td>\n",
       "      <td>-0.051019</td>\n",
       "      <td>0.158804</td>\n",
       "      <td>-0.017481</td>\n",
       "      <td>-0.249530</td>\n",
       "      <td>0.056603</td>\n",
       "      <td>-0.004213</td>\n",
       "      <td>0.003365</td>\n",
       "      <td>1.000000</td>\n",
       "      <td>-0.046884</td>\n",
       "    </tr>\n",
       "    <tr>\n",
       "      <th>Duration_min</th>\n",
       "      <td>-0.048639</td>\n",
       "      <td>-0.148241</td>\n",
       "      <td>0.041449</td>\n",
       "      <td>-0.088596</td>\n",
       "      <td>0.022258</td>\n",
       "      <td>-0.074095</td>\n",
       "      <td>-0.015538</td>\n",
       "      <td>-0.052453</td>\n",
       "      <td>0.015503</td>\n",
       "      <td>0.143596</td>\n",
       "      <td>-0.093258</td>\n",
       "      <td>0.116750</td>\n",
       "      <td>-0.248149</td>\n",
       "      <td>0.057578</td>\n",
       "      <td>0.103732</td>\n",
       "      <td>0.009003</td>\n",
       "      <td>0.042893</td>\n",
       "      <td>-0.000674</td>\n",
       "      <td>-0.046884</td>\n",
       "      <td>1.000000</td>\n",
       "    </tr>\n",
       "  </tbody>\n",
       "</table>\n",
       "</div>"
      ],
      "text/plain": [
       "                  Airline    Source  Destination  Total_Stops  \\\n",
       "Airline          1.000000 -0.013401     0.018479    -0.199411   \n",
       "Source          -0.013401  1.000000    -0.592574     0.192840   \n",
       "Destination      0.018479 -0.592574     1.000000    -0.295481   \n",
       "Total_Stops     -0.199411  0.192840    -0.295481     1.000000   \n",
       "Additional_Info -0.060802 -0.022107     0.026806    -0.082426   \n",
       "Price           -0.039520  0.015998    -0.071112     0.603883   \n",
       "Date             0.026238  0.004898    -0.040998    -0.009472   \n",
       "Month            0.024643  0.183268    -0.364686     0.054389   \n",
       "Dep_hour        -0.035194  0.059044    -0.072979    -0.061490   \n",
       "Dep_minute      -0.060044 -0.056991     0.127892    -0.002591   \n",
       "Arrival_hr      -0.007491  0.025632    -0.039710     0.038123   \n",
       "Arrival_min     -0.071089  0.021040     0.017196    -0.106939   \n",
       "Route1           0.035591  0.437755    -0.483128     0.428730   \n",
       "Route2          -0.061847  0.035834     0.077710     0.162229   \n",
       "Route3           0.060988 -0.269877     0.408085    -0.802542   \n",
       "Route4           0.261808 -0.076015     0.132148    -0.729373   \n",
       "Route5           0.056832 -0.008329     0.009125    -0.207430   \n",
       "Route6           0.012201  0.016046    -0.023382    -0.045511   \n",
       "Duration_hr      0.040896 -0.018777    -0.111421     0.148787   \n",
       "Duration_min    -0.048639 -0.148241     0.041449    -0.088596   \n",
       "\n",
       "                 Additional_Info     Price      Date     Month  Dep_hour  \\\n",
       "Airline                -0.060802 -0.039520  0.026238  0.024643 -0.035194   \n",
       "Source                 -0.022107  0.015998  0.004898  0.183268  0.059044   \n",
       "Destination             0.026806 -0.071112 -0.040998 -0.364686 -0.072979   \n",
       "Total_Stops            -0.082426  0.603883 -0.009472  0.054389 -0.061490   \n",
       "Additional_Info         1.000000 -0.065478 -0.016337 -0.051478 -0.051010   \n",
       "Price                  -0.065478  1.000000 -0.153738 -0.103651  0.006819   \n",
       "Date                   -0.016337 -0.153738  1.000000 -0.038378  0.002220   \n",
       "Month                  -0.051478 -0.103651 -0.038378  1.000000  0.039112   \n",
       "Dep_hour               -0.051010  0.006819  0.002220  0.039112  1.000000   \n",
       "Dep_minute             -0.019339 -0.024492 -0.008261 -0.059238 -0.024806   \n",
       "Arrival_hr              0.026173  0.024264 -0.003192 -0.003941  0.005215   \n",
       "Arrival_min             0.041311 -0.086155 -0.017511 -0.100626  0.067909   \n",
       "Route1                  0.015197  0.182196  0.079905  0.230530 -0.044258   \n",
       "Route2                  0.078014 -0.087304 -0.025062  0.048467 -0.126345   \n",
       "Route3                  0.166737 -0.592601  0.022751 -0.081520  0.016132   \n",
       "Route4                 -0.042353 -0.316937 -0.018712 -0.071507  0.047480   \n",
       "Route5                 -0.030927 -0.055643  0.006611  0.001297  0.047010   \n",
       "Route6                  0.027039 -0.018043  0.014274  0.014199  0.012608   \n",
       "Duration_hr             0.010527  0.128606  0.008768  0.002368 -0.010093   \n",
       "Duration_min            0.022258 -0.074095 -0.015538 -0.052453  0.015503   \n",
       "\n",
       "                 Dep_minute  Arrival_hr  Arrival_min    Route1    Route2  \\\n",
       "Airline           -0.060044   -0.007491    -0.071089  0.035591 -0.061847   \n",
       "Source            -0.056991    0.025632     0.021040  0.437755  0.035834   \n",
       "Destination        0.127892   -0.039710     0.017196 -0.483128  0.077710   \n",
       "Total_Stops       -0.002591    0.038123    -0.106939  0.428730  0.162229   \n",
       "Additional_Info   -0.019339    0.026173     0.041311  0.015197  0.078014   \n",
       "Price             -0.024492    0.024264    -0.086155  0.182196 -0.087304   \n",
       "Date              -0.008261   -0.003192    -0.017511  0.079905 -0.025062   \n",
       "Month             -0.059238   -0.003941    -0.100626  0.230530  0.048467   \n",
       "Dep_hour          -0.024806    0.005215     0.067909 -0.044258 -0.126345   \n",
       "Dep_minute         1.000000    0.043054    -0.017594 -0.074208  0.091925   \n",
       "Arrival_hr         0.043054    1.000000    -0.154362  0.016039 -0.012459   \n",
       "Arrival_min       -0.017594   -0.154362     1.000000 -0.172948  0.045938   \n",
       "Route1            -0.074208    0.016039    -0.172948  1.000000 -0.084537   \n",
       "Route2             0.091925   -0.012459     0.045938 -0.084537  1.000000   \n",
       "Route3             0.048743   -0.082001     0.160428 -0.475248 -0.003235   \n",
       "Route4            -0.042955    0.048553    -0.022570 -0.200150 -0.263409   \n",
       "Route5             0.005452   -0.026990     0.019213 -0.014272 -0.087923   \n",
       "Route6            -0.013192    0.003313     0.002750  0.016192  0.003503   \n",
       "Duration_hr       -0.003328    0.066175    -0.051019  0.158804 -0.017481   \n",
       "Duration_min       0.143596   -0.093258     0.116750 -0.248149  0.057578   \n",
       "\n",
       "                   Route3    Route4    Route5    Route6  Duration_hr  \\\n",
       "Airline          0.060988  0.261808  0.056832  0.012201     0.040896   \n",
       "Source          -0.269877 -0.076015 -0.008329  0.016046    -0.018777   \n",
       "Destination      0.408085  0.132148  0.009125 -0.023382    -0.111421   \n",
       "Total_Stops     -0.802542 -0.729373 -0.207430 -0.045511     0.148787   \n",
       "Additional_Info  0.166737 -0.042353 -0.030927  0.027039     0.010527   \n",
       "Price           -0.592601 -0.316937 -0.055643 -0.018043     0.128606   \n",
       "Date             0.022751 -0.018712  0.006611  0.014274     0.008768   \n",
       "Month           -0.081520 -0.071507  0.001297  0.014199     0.002368   \n",
       "Dep_hour         0.016132  0.047480  0.047010  0.012608    -0.010093   \n",
       "Dep_minute       0.048743 -0.042955  0.005452 -0.013192    -0.003328   \n",
       "Arrival_hr      -0.082001  0.048553 -0.026990  0.003313     0.066175   \n",
       "Arrival_min      0.160428 -0.022570  0.019213  0.002750    -0.051019   \n",
       "Route1          -0.475248 -0.200150 -0.014272  0.016192     0.158804   \n",
       "Route2          -0.003235 -0.263409 -0.087923  0.003503    -0.017481   \n",
       "Route3           1.000000  0.242085 -0.015145  0.010335    -0.249530   \n",
       "Route4           0.242085  1.000000  0.129523  0.005882     0.056603   \n",
       "Route5          -0.015145  0.129523  1.000000  0.036044    -0.004213   \n",
       "Route6           0.010335  0.005882  0.036044  1.000000     0.003365   \n",
       "Duration_hr     -0.249530  0.056603 -0.004213  0.003365     1.000000   \n",
       "Duration_min     0.103732  0.009003  0.042893 -0.000674    -0.046884   \n",
       "\n",
       "                 Duration_min  \n",
       "Airline             -0.048639  \n",
       "Source              -0.148241  \n",
       "Destination          0.041449  \n",
       "Total_Stops         -0.088596  \n",
       "Additional_Info      0.022258  \n",
       "Price               -0.074095  \n",
       "Date                -0.015538  \n",
       "Month               -0.052453  \n",
       "Dep_hour             0.015503  \n",
       "Dep_minute           0.143596  \n",
       "Arrival_hr          -0.093258  \n",
       "Arrival_min          0.116750  \n",
       "Route1              -0.248149  \n",
       "Route2               0.057578  \n",
       "Route3               0.103732  \n",
       "Route4               0.009003  \n",
       "Route5               0.042893  \n",
       "Route6              -0.000674  \n",
       "Duration_hr         -0.046884  \n",
       "Duration_min         1.000000  "
      ]
     },
     "execution_count": 269,
     "metadata": {},
     "output_type": "execute_result"
    }
   ],
   "source": [
    "corr"
   ]
  },
  {
   "cell_type": "code",
   "execution_count": 270,
   "metadata": {},
   "outputs": [
    {
     "data": {
      "text/plain": [
       "<AxesSubplot:>"
      ]
     },
     "execution_count": 270,
     "metadata": {},
     "output_type": "execute_result"
    },
    {
     "data": {
      "image/png": "[encoded data removed]",
      "text/plain": [
       "<Figure size 720x576 with 2 Axes>"
      ]
     },
     "metadata": {
      "needs_background": "light"
     },
     "output_type": "display_data"
    }
   ],
   "source": [
    "# Vizualizing the correlation\n",
    "plt.figure(figsize=(10,8))\n",
    "sns.heatmap(corr,annot=True,fmt=\".0%\",cmap=\"BuPu\")"
   ]
  },
  {
   "cell_type": "code",
   "execution_count": 271,
   "metadata": {},
   "outputs": [
    {
     "data": {
      "image/png": "[encoded data removed]",
      "text/plain": [
       "<Figure size 864x432 with 1 Axes>"
      ]
     },
     "metadata": {
      "needs_background": "light"
     },
     "output_type": "display_data"
    }
   ],
   "source": [
    "#correlation with target variable\n",
    "plt.figure(figsize=(12,6))\n",
    "df_train.drop(\"Price\",axis=1).corrwith(df_train[\"Price\"]).plot(kind=\"bar\",grid=True)\n",
    "plt.xticks(rotation=\"vertical\")\n",
    "plt.show()"
   ]
  },
  {
   "cell_type": "code",
   "execution_count": 272,
   "metadata": {},
   "outputs": [
    {
     "name": "stdout",
     "output_type": "stream",
     "text": [
      "<class 'pandas.core.frame.DataFrame'>\n",
      "Int64Index: 13354 entries, 0 to 2670\n",
      "Data columns (total 20 columns):\n",
      " #   Column           Non-Null Count  Dtype  \n",
      "---  ------           --------------  -----  \n",
      " 0   Airline          13354 non-null  int32  \n",
      " 1   Source           13354 non-null  int32  \n",
      " 2   Destination      13354 non-null  int32  \n",
      " 3   Total_Stops      13354 non-null  int32  \n",
      " 4   Additional_Info  13354 non-null  int32  \n",
      " 5   Price            13354 non-null  float64\n",
      " 6   Date             13354 non-null  int32  \n",
      " 7   Month            13354 non-null  int32  \n",
      " 8   Dep_hour         13354 non-null  int32  \n",
      " 9   Dep_minute       13354 non-null  int32  \n",
      " 10  Arrival_hr       13354 non-null  int32  \n",
      " 11  Arrival_min      13354 non-null  int32  \n",
      " 12  Route1           13354 non-null  int32  \n",
      " 13  Route2           13354 non-null  int32  \n",
      " 14  Route3           13354 non-null  int32  \n",
      " 15  Route4           13354 non-null  int32  \n",
      " 16  Route5           13354 non-null  int32  \n",
      " 17  Route6           13354 non-null  int32  \n",
      " 18  Duration_hr      13354 non-null  int32  \n",
      " 19  Duration_min     13354 non-null  int32  \n",
      "dtypes: float64(1), int32(19)\n",
      "memory usage: 1.5 MB\n"
     ]
    }
   ],
   "source": [
    "df.info()"
   ]
  },
  {
   "cell_type": "markdown",
   "metadata": {},
   "source": [
    "# Removing outliers"
   ]
  },
  {
   "cell_type": "code",
   "execution_count": 274,
   "metadata": {},
   "outputs": [],
   "source": [
    "from scipy.stats import zscore"
   ]
  },
  {
   "cell_type": "code",
   "execution_count": 275,
   "metadata": {},
   "outputs": [],
   "source": [
    "z=np.abs(zscore(df_train))"
   ]
  },
  {
   "cell_type": "code",
   "execution_count": 276,
   "metadata": {
    "collapsed": true
   },
   "outputs": [
    {
     "name": "stdout",
     "output_type": "stream",
     "text": [
      "(array([   16,   123,   164,   185,   191,   249,   291,   365,   396,\n",
      "         402,   402,   402,   458,   470,   482,   486,   510,   596,\n",
      "         597,   628,   657,   673,   720,   785,   785,   826,   853,\n",
      "         877,   919,   919,   936,   946,   959,   961,   972,   975,\n",
      "        1010,  1014,  1043,  1138,  1196,  1203,  1211,  1218,  1218,\n",
      "        1218,  1246,  1327,  1339,  1341,  1386,  1424,  1462,  1466,\n",
      "        1478,  1558,  1591,  1596,  1628,  1629,  1654,  1665,  1665,\n",
      "        1785,  1798,  1918,  1949,  1966,  2055,  2079,  2099,  2108,\n",
      "        2151,  2172,  2172,  2172,  2185,  2205,  2360,  2405,  2481,\n",
      "        2495,  2495,  2497,  2533,  2543,  2556,  2556,  2618,  2623,\n",
      "        2623,  2633,  2633,  2635,  2670,  2693,  2697,  2718,  2718,\n",
      "        2718,  2814,  2814,  2822,  2822,  2924,  2924,  3032,  3032,\n",
      "        3082,  3104,  3111,  3111,  3157,  3157,  3183,  3220,  3220,\n",
      "        3234,  3257,  3304,  3317,  3317,  3353,  3355,  3400,  3434,\n",
      "        3448,  3453,  3466,  3486,  3496,  3496,  3509,  3535,  3568,\n",
      "        3568,  3584,  3584,  3587,  3700,  3700,  3788,  3797,  3815,\n",
      "        3815,  3815,  3910,  3945,  3945,  3945,  3948,  3954,  3975,\n",
      "        3990,  4012,  4073,  4094,  4118,  4118,  4118,  4361,  4405,\n",
      "        4463,  4463,  4463,  4521,  4521,  4613,  4650,  4655,  4655,\n",
      "        4655,  4675,  4676,  4676,  4760,  4760,  4804,  4829,  4897,\n",
      "        4899,  4971,  5013,  5013,  5050,  5050,  5061,  5073,  5116,\n",
      "        5136,  5136,  5158,  5170,  5218,  5225,  5245,  5351,  5372,\n",
      "        5372,  5373,  5418,  5439,  5446,  5446,  5446,  5463,  5628,\n",
      "        5640,  5662,  5696,  5698,  5701,  5710,  5719,  5738,  5745,\n",
      "        5755,  5838,  5838,  5856,  5947,  5947,  5947,  5986,  5996,\n",
      "        5996,  6024,  6055,  6108,  6140,  6314,  6336,  6364,  6369,\n",
      "        6407,  6444,  6444,  6444,  6486,  6576,  6576,  6588,  6599,\n",
      "        6599,  6605,  6697,  6713,  6778,  6854,  6884,  6884,  6884,\n",
      "        6991,  7001,  7001,  7014,  7031,  7031,  7034,  7177,  7220,\n",
      "        7249,  7249,  7249,  7351,  7356,  7377,  7537,  7554,  7586,\n",
      "        7586,  7617,  7626,  7659,  7662,  7696,  7703,  7712,  7713,\n",
      "        7724,  7724,  7737,  7752,  7752,  7756,  7816,  7865,  7876,\n",
      "        7876,  7876,  7902,  7904,  7939,  8020,  8024,  8074,  8080,\n",
      "        8153,  8153,  8153,  8192,  8204,  8204,  8353,  8451,  8470,\n",
      "        8536,  8552,  8598,  8601,  8601,  8601,  8729,  8729,  8729,\n",
      "        8856,  8885,  8940,  8957,  8957,  8990,  8990,  9019,  9019,\n",
      "        9029,  9029,  9039,  9182,  9182,  9182,  9189,  9190,  9193,\n",
      "        9202,  9239,  9316,  9378,  9454,  9454,  9470,  9484,  9484,\n",
      "        9484,  9499,  9547,  9569,  9569,  9632,  9657,  9715,  9771,\n",
      "        9807,  9863,  9903,  9911,  9974, 10010, 10052, 10113, 10149,\n",
      "       10160, 10182, 10189, 10206, 10223, 10245, 10353, 10364, 10364,\n",
      "       10370, 10383, 10439, 10511, 10511, 10593, 10639, 10639, 10639,\n",
      "       10652], dtype=int64), array([13,  5, 13, 13, 13, 13, 13, 13,  5,  3, 13, 16, 13, 13, 13,  5,  5,\n",
      "       13,  5,  5,  5, 13, 13,  4,  5,  5, 13, 13,  3, 16,  5,  5,  5, 13,\n",
      "       13,  5, 13, 13,  4, 13,  5, 13, 13,  3, 13, 16,  5, 13, 13,  5, 13,\n",
      "        5, 13,  5,  5, 13, 13, 13, 13,  5,  5,  3, 16,  5, 13,  5, 13, 13,\n",
      "        5,  4,  5,  5, 13,  3, 13, 16, 13, 13, 13,  4,  4,  4,  5, 13, 13,\n",
      "       13,  4,  5,  5,  3, 16,  3, 16,  5, 13,  5, 13,  3, 13, 16,  3, 16,\n",
      "        3, 16,  4,  5,  4,  5, 13, 13,  4,  5,  3, 16, 13,  3, 16, 13,  5,\n",
      "       13,  3, 16, 13, 13,  5, 13, 13, 13, 13, 13,  3, 16, 13,  5,  3, 16,\n",
      "        3, 16, 13,  4,  5,  4, 13,  3, 13, 16, 13,  3, 15, 16, 13, 13, 13,\n",
      "       13,  5, 13, 13,  3, 13, 16, 13, 13,  3, 13, 16,  4,  5, 13, 13,  3,\n",
      "       13, 16, 13,  5, 13,  3, 16, 13,  5, 13, 13, 13,  4,  5,  3, 16, 13,\n",
      "       13, 13,  5, 13, 13, 13, 13, 13, 13, 13,  4,  5, 13, 13,  5,  3, 15,\n",
      "       16, 13,  4, 13,  5, 13, 13,  5,  5,  5,  5,  5, 13,  3, 16,  5,  3,\n",
      "       15, 16,  5,  3, 16,  4, 13, 13, 13,  5,  4, 13, 13,  5,  3, 13, 16,\n",
      "       13,  4,  5,  5,  3, 16,  5, 13, 13, 13, 13,  3, 13, 16,  5,  3, 16,\n",
      "       13,  3, 16, 13, 13, 13,  3, 13, 16,  5,  5,  5,  5,  5,  3, 16,  5,\n",
      "       13, 13, 13, 13, 13, 13,  5,  4,  5, 13,  3, 16,  5, 13, 13,  3, 13,\n",
      "       16,  5, 13, 13,  5, 13, 13,  5,  3, 13, 16, 13,  3, 16, 13,  5,  5,\n",
      "        5, 13,  5,  3, 13, 16,  3, 13, 16,  5, 13,  5,  4,  5,  5, 13,  4,\n",
      "        5,  3, 16, 13,  3, 16, 17, 13, 13,  5, 13,  5, 13, 13,  3, 16, 13,\n",
      "        3, 13, 16, 13, 13,  3, 16,  5,  4,  5, 13, 13, 13, 13, 13,  5, 13,\n",
      "        5,  5, 13,  5,  5,  5, 13, 13, 13,  5,  4,  5, 13,  5,  5,  4,  5,\n",
      "       13,  3, 13, 16, 13], dtype=int64))\n"
     ]
    }
   ],
   "source": [
    "threshold=3\n",
    "print(np.where(z>3))"
   ]
  },
  {
   "cell_type": "code",
   "execution_count": 290,
   "metadata": {},
   "outputs": [],
   "source": [
    "df_new=df_train[(z<3).all(axis=1)]"
   ]
  },
  {
   "cell_type": "code",
   "execution_count": 291,
   "metadata": {},
   "outputs": [
    {
     "data": {
      "text/plain": [
       "(10390, 20)"
      ]
     },
     "execution_count": 291,
     "metadata": {},
     "output_type": "execute_result"
    }
   ],
   "source": [
    "df_new.shape"
   ]
  },
  {
   "cell_type": "code",
   "execution_count": 292,
   "metadata": {},
   "outputs": [
    {
     "data": {
      "text/plain": [
       "(10683, 20)"
      ]
     },
     "execution_count": 292,
     "metadata": {},
     "output_type": "execute_result"
    }
   ],
   "source": [
    "df_train.shape"
   ]
  },
  {
   "cell_type": "code",
   "execution_count": 284,
   "metadata": {},
   "outputs": [],
   "source": [
    "p_loss=(10683-10390)/10683*100"
   ]
  },
  {
   "cell_type": "code",
   "execution_count": 285,
   "metadata": {},
   "outputs": [
    {
     "data": {
      "text/plain": [
       "2.742675278479828"
      ]
     },
     "execution_count": 285,
     "metadata": {},
     "output_type": "execute_result"
    }
   ],
   "source": [
    "p_loss"
   ]
  },
  {
   "cell_type": "code",
   "execution_count": null,
   "metadata": {},
   "outputs": [],
   "source": [
    "#data loss is 2.7%"
   ]
  },
  {
   "cell_type": "markdown",
   "metadata": {},
   "source": [
    "## Feature selection"
   ]
  },
  {
   "cell_type": "code",
   "execution_count": 293,
   "metadata": {},
   "outputs": [],
   "source": [
    "x=df_new.drop(columns='Price',axis=1)\n",
    "y=df_new['Price']"
   ]
  },
  {
   "cell_type": "code",
   "execution_count": 296,
   "metadata": {},
   "outputs": [],
   "source": [
    "from sklearn.model_selection import train_test_split\n",
    "x_train , x_test , y_train , y_test = train_test_split(x,y,test_size = 0.3 , random_state = 50)"
   ]
  },
  {
   "cell_type": "code",
   "execution_count": 297,
   "metadata": {},
   "outputs": [],
   "source": [
    "# Scaling the data using standard scaler\n",
    "#importing standard scaler\n",
    "from sklearn.preprocessing import StandardScaler"
   ]
  },
  {
   "cell_type": "code",
   "execution_count": 298,
   "metadata": {
    "collapsed": true
   },
   "outputs": [
    {
     "data": {
      "text/plain": [
       "array([[-0.41757292, -1.67674461,  2.48798017, ...,  0.        ,\n",
       "        -0.33965035,  1.29977071],\n",
       "       [-1.26944464,  0.88233728, -0.97588245, ...,  0.        ,\n",
       "         1.82695519, -0.54335986],\n",
       "       [ 0.00836294,  0.02930999, -0.28310993, ...,  0.        ,\n",
       "        -0.77297145, -1.77211357],\n",
       "       ...,\n",
       "       [ 0.00836294, -1.67674461,  0.4096626 , ...,  0.        ,\n",
       "         0.09367076, -1.77211357],\n",
       "       [ 2.56397808, -1.67674461,  2.48798017, ...,  0.        ,\n",
       "        -0.33965035,  0.68539385],\n",
       "       [-1.26944464,  0.02930999, -0.28310993, ...,  0.        ,\n",
       "         2.26027629, -0.54335986]])"
      ]
     },
     "execution_count": 298,
     "metadata": {},
     "output_type": "execute_result"
    }
   ],
   "source": [
    "sc=StandardScaler()\n",
    "x_scaled=sc.fit_transform(x)\n",
    "x_scaled"
   ]
  },
  {
   "cell_type": "markdown",
   "metadata": {},
   "source": [
    "## Model Building"
   ]
  },
  {
   "cell_type": "code",
   "execution_count": 299,
   "metadata": {},
   "outputs": [
    {
     "name": "stdout",
     "output_type": "stream",
     "text": [
      "0.5731084610630999\n",
      "0.5504138127924563\n"
     ]
    }
   ],
   "source": [
    "# Linear Regression\n",
    "from sklearn.linear_model import LinearRegression\n",
    "from sklearn.metrics import r2_score\n",
    "from sklearn.model_selection import cross_val_score\n",
    "lr=LinearRegression()\n",
    "lr.fit(x_train,y_train)\n",
    "pred_lg=lr.predict(x_test)\n",
    "r2score=r2_score(y_test,pred_lg)\n",
    "cvsscore=cross_val_score(LinearRegression(),x_train,y_train,cv=2).mean()\n",
    "print(r2score)\n",
    "print(cvsscore)"
   ]
  },
  {
   "cell_type": "code",
   "execution_count": 300,
   "metadata": {},
   "outputs": [
    {
     "name": "stdout",
     "output_type": "stream",
     "text": [
      "0.573163046619777\n",
      "0.5508096939752858\n",
      "0.02235335264449123\n"
     ]
    }
   ],
   "source": [
    "# Lasso\n",
    "from sklearn.linear_model import LinearRegression,Lasso,Ridge,ElasticNet\n",
    "ls=Lasso()\n",
    "ls.fit(x_train,y_train)\n",
    "pred_ls=ls.predict(x_test)\n",
    "r2score=r2_score(y_test,pred_ls)\n",
    "cvsscore=cross_val_score(Lasso(),x_train,y_train,cv=7).mean()\n",
    "print(r2score)\n",
    "print(cvsscore)\n",
    "LR_diff=r2score-cvsscore\n",
    "print(LR_diff)"
   ]
  },
  {
   "cell_type": "code",
   "execution_count": 301,
   "metadata": {},
   "outputs": [
    {
     "name": "stdout",
     "output_type": "stream",
     "text": [
      "0.5731330837742483\n",
      "0.550814037002095\n",
      "0.02231904677215335\n"
     ]
    }
   ],
   "source": [
    "# Ridge\n",
    "from sklearn.linear_model import LinearRegression,Lasso,Ridge,ElasticNet\n",
    "rd=Ridge()\n",
    "rd.fit(x_train,y_train)\n",
    "pred_rd=rd.predict(x_test)\n",
    "r2score=r2_score(y_test,pred_rd)\n",
    "cvsscore=cross_val_score(Ridge(),x_train,y_train,cv=7).mean()\n",
    "print(r2score)\n",
    "print(cvsscore)\n",
    "LR_diff=r2score-cvsscore\n",
    "print(LR_diff)"
   ]
  },
  {
   "cell_type": "code",
   "execution_count": 302,
   "metadata": {},
   "outputs": [
    {
     "name": "stdout",
     "output_type": "stream",
     "text": [
      "0.5691376673834679\n",
      "0.5446981887916392\n",
      "0.02443947859182871\n"
     ]
    }
   ],
   "source": [
    "# ElasticNet\n",
    "from sklearn.linear_model import LinearRegression,Lasso,Ridge,ElasticNet\n",
    "en=ElasticNet()\n",
    "en.fit(x_train,y_train)\n",
    "pred_en=en.predict(x_test)\n",
    "r2score=r2_score(y_test,pred_en)\n",
    "cvsscore=cross_val_score(ElasticNet(),x_train,y_train,cv=7).mean()\n",
    "print(r2score)\n",
    "print(cvsscore)\n",
    "LR_diff=r2score-cvsscore\n",
    "print(LR_diff)"
   ]
  },
  {
   "cell_type": "code",
   "execution_count": 303,
   "metadata": {},
   "outputs": [
    {
     "name": "stdout",
     "output_type": "stream",
     "text": [
      "0.6867184446953211\n",
      "0.6604594713968981\n",
      "0.026258973298422972\n"
     ]
    }
   ],
   "source": [
    "# AdaBoost Regressor\n",
    "from sklearn.ensemble import AdaBoostRegressor\n",
    "ar=AdaBoostRegressor()\n",
    "ar.fit(x_train,y_train)\n",
    "pred_ad=ar.predict(x_test)\n",
    "r2score=r2_score(y_test,pred_ad)\n",
    "cvsscore=cross_val_score(AdaBoostRegressor(),x_train,y_train,cv=7).mean()\n",
    "print(r2score)\n",
    "print(cvsscore)\n",
    "LR_diff=r2score-cvsscore\n",
    "print(LR_diff)"
   ]
  },
  {
   "cell_type": "code",
   "execution_count": 304,
   "metadata": {},
   "outputs": [
    {
     "name": "stdout",
     "output_type": "stream",
     "text": [
      "0.9329988621153633\n",
      "0.9198051605475756\n",
      "0.013193701567787763\n"
     ]
    }
   ],
   "source": [
    "#RandomForestRegressor\n",
    "from sklearn.ensemble import RandomForestRegressor\n",
    "rg=RandomForestRegressor(n_estimators=88)\n",
    "rg.fit(x_train,y_train)\n",
    "pred_rg=rg.predict(x_test)\n",
    "r2score=r2_score(y_test,pred_rg)\n",
    "cvsscore=cross_val_score(RandomForestRegressor(),x_train,y_train,cv=7).mean()\n",
    "print(r2score)\n",
    "print(cvsscore)\n",
    "LR_diff=r2score-cvsscore\n",
    "print(LR_diff)"
   ]
  },
  {
   "cell_type": "markdown",
   "metadata": {},
   "source": [
    "# RandomForestRegressor gives the best score of R2 as well as cross validation score\n",
    "# accuracy= 93 % & cross val score of 91 %"
   ]
  },
  {
   "cell_type": "code",
   "execution_count": 306,
   "metadata": {},
   "outputs": [],
   "source": [
    "#Saving the file\n",
    "import pickle\n",
    "filename=\"Flight price prediction\"\n",
    "pickle.dump(rg,open(filename,\"wb\"))"
   ]
  },
  {
   "cell_type": "code",
   "execution_count": null,
   "metadata": {},
   "outputs": [],
   "source": []
  }
 ],
 "metadata": {
  "kernelspec": {
   "display_name": "Python 3",
   "language": "python",
   "name": "python3"
  },
  "language_info": {
   "codemirror_mode": {
    "name": "ipython",
    "version": 3
   },
   "file_extension": ".py",
   "mimetype": "text/x-python",
   "name": "python",
   "nbconvert_exporter": "python",
   "pygments_lexer": "ipython3",
   "version": "3.8.5"
  }
 },
 "nbformat": 4,
 "nbformat_minor": 4
}
